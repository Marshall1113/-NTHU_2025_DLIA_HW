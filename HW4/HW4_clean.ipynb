{
 "cells": [
  {
   "cell_type": "markdown",
   "id": "609dcb62-c2f8-4c6d-9c89-63dc0148a87c",
   "metadata": {
    "id": "609dcb62-c2f8-4c6d-9c89-63dc0148a87c"
   },
   "source": [
    "<div align=\"center\">\n",
    "\n",
    "### Lab 4\n",
    "\n",
    "# National Tsing Hua University\n",
    "\n",
    "#### Spring 2025\n",
    "\n",
    "#### 11320IEEM 513600\n",
    "\n",
    "#### Deep Learning and Industrial Applications\n",
    "    \n",
    "## Lab 4: Predicting Stock Price with Deep Learning\n",
    "\n",
    "</div>"
   ]
  },
  {
   "cell_type": "markdown",
   "id": "061c22d2-eec4-40f4-866b-ccaa2d9a2963",
   "metadata": {
    "id": "061c22d2-eec4-40f4-866b-ccaa2d9a2963",
    "jp-MarkdownHeadingCollapsed": true,
    "tags": []
   },
   "source": [
    "### Introduction\n",
    "\n",
    "In this lab, we explore the application of time-series datasets using Long Short-Term Memory (LSTM) networks, a type of recurrent neural network, to predict stock prices. Specifically, we will use historical price data from Nvidia to forecast the stock's price for the next day based on the prices of the previous N days. This approach is particularly relevant given the volatile nature of stock markets and the increasing reliance on automated trading systems.\n",
    "\n",
    "### Objectives\n",
    "\n",
    "- To understand the fundamentals of LSTM networks and their application in time-series forecasting.\n",
    "- To develop a predictive model that can accurately forecast Nvidia's stock price for the next day using historical data.\n",
    "\n",
    "### Dataset\n",
    "\n",
    "The dataset for this lab is from the \"Huge Stock Market Dataset\" available on Kaggle. This dataset includes daily prices and volumes for all US stocks and ETFs, with a specific focus on Nvidia (NVDA). The dataset features include:\n",
    "\n",
    "- **Date**: The recorded data points.\n",
    "- **Open**: The price at which the stock first traded upon the opening of an exchange on a given trading day.\n",
    "- **High**: The highest price at which the stock traded during the trading day.\n",
    "- **Low**: The lowest price at which the stock traded during the trading day.\n",
    "- **Close**: The price of the stock at closing time.\n",
    "- **Volume**: The number of shares or contracts traded in a security or an entire market during a given period.\n",
    "- **OpenInt**: The total number of outstanding derivative contracts, like options or futures. [More details here](https://www.kaggle.com/datasets/borismarjanovic/price-volume-data-for-all-us-stocks-etfs/discussion/121096)\n",
    "\n",
    "### References\n",
    "\n",
    "- [Huge Stock Market Dataset](https://www.kaggle.com/datasets/borismarjanovic/price-volume-data-for-all-us-stocks-etfs) for the dataset used in this lab.\n"
   ]
  },
  {
   "cell_type": "markdown",
   "id": "mZTnsI6unxST",
   "metadata": {
    "id": "mZTnsI6unxST"
   },
   "source": [
    "## **Selected Features: Open, High, Low, Close, Volume**\n",
    "\n",
    "\n",
    "\n"
   ]
  },
  {
   "cell_type": "markdown",
   "id": "ad594fc8-4989-40f3-b124-4550fe7df386",
   "metadata": {
    "id": "ad594fc8-4989-40f3-b124-4550fe7df386"
   },
   "source": [
    "## A. Checking and Preprocessing"
   ]
  },
  {
   "cell_type": "code",
   "execution_count": 73,
   "id": "QN9wm55dAwyz",
   "metadata": {
    "colab": {
     "base_uri": "https://localhost:8080/"
    },
    "id": "QN9wm55dAwyz",
    "outputId": "1e9872b1-24f4-4e1b-f4b5-f89661f9855e"
   },
   "outputs": [
    {
     "name": "stdout",
     "output_type": "stream",
     "text": [
      "Drive already mounted at /content/drive; to attempt to forcibly remount, call drive.mount(\"/content/drive\", force_remount=True).\n"
     ]
    }
   ],
   "source": [
    "from google.colab import drive\n",
    "drive.mount('/content/drive')"
   ]
  },
  {
   "cell_type": "code",
   "execution_count": 74,
   "id": "42a3eafd-cbcd-4c56-82cb-83a0bfa2399e",
   "metadata": {
    "colab": {
     "base_uri": "https://localhost:8080/",
     "height": 181
    },
    "id": "42a3eafd-cbcd-4c56-82cb-83a0bfa2399e",
    "outputId": "32112af6-6c8c-4865-d449-25fbb7ae6247"
   },
   "outputs": [
    {
     "data": {
      "text/html": [
       "\n",
       "     <input type=\"file\" id=\"files-e9f0dd72-78f4-48c0-b91f-aa13596f4c52\" name=\"files[]\" multiple disabled\n",
       "        style=\"border:none\" />\n",
       "     <output id=\"result-e9f0dd72-78f4-48c0-b91f-aa13596f4c52\">\n",
       "      Upload widget is only available when the cell has been executed in the\n",
       "      current browser session. Please rerun this cell to enable.\n",
       "      </output>\n",
       "      <script>// Copyright 2017 Google LLC\n",
       "//\n",
       "// Licensed under the Apache License, Version 2.0 (the \"License\");\n",
       "// you may not use this file except in compliance with the License.\n",
       "// You may obtain a copy of the License at\n",
       "//\n",
       "//      http://www.apache.org/licenses/LICENSE-2.0\n",
       "//\n",
       "// Unless required by applicable law or agreed to in writing, software\n",
       "// distributed under the License is distributed on an \"AS IS\" BASIS,\n",
       "// WITHOUT WARRANTIES OR CONDITIONS OF ANY KIND, either express or implied.\n",
       "// See the License for the specific language governing permissions and\n",
       "// limitations under the License.\n",
       "\n",
       "/**\n",
       " * @fileoverview Helpers for google.colab Python module.\n",
       " */\n",
       "(function(scope) {\n",
       "function span(text, styleAttributes = {}) {\n",
       "  const element = document.createElement('span');\n",
       "  element.textContent = text;\n",
       "  for (const key of Object.keys(styleAttributes)) {\n",
       "    element.style[key] = styleAttributes[key];\n",
       "  }\n",
       "  return element;\n",
       "}\n",
       "\n",
       "// Max number of bytes which will be uploaded at a time.\n",
       "const MAX_PAYLOAD_SIZE = 100 * 1024;\n",
       "\n",
       "function _uploadFiles(inputId, outputId) {\n",
       "  const steps = uploadFilesStep(inputId, outputId);\n",
       "  const outputElement = document.getElementById(outputId);\n",
       "  // Cache steps on the outputElement to make it available for the next call\n",
       "  // to uploadFilesContinue from Python.\n",
       "  outputElement.steps = steps;\n",
       "\n",
       "  return _uploadFilesContinue(outputId);\n",
       "}\n",
       "\n",
       "// This is roughly an async generator (not supported in the browser yet),\n",
       "// where there are multiple asynchronous steps and the Python side is going\n",
       "// to poll for completion of each step.\n",
       "// This uses a Promise to block the python side on completion of each step,\n",
       "// then passes the result of the previous step as the input to the next step.\n",
       "function _uploadFilesContinue(outputId) {\n",
       "  const outputElement = document.getElementById(outputId);\n",
       "  const steps = outputElement.steps;\n",
       "\n",
       "  const next = steps.next(outputElement.lastPromiseValue);\n",
       "  return Promise.resolve(next.value.promise).then((value) => {\n",
       "    // Cache the last promise value to make it available to the next\n",
       "    // step of the generator.\n",
       "    outputElement.lastPromiseValue = value;\n",
       "    return next.value.response;\n",
       "  });\n",
       "}\n",
       "\n",
       "/**\n",
       " * Generator function which is called between each async step of the upload\n",
       " * process.\n",
       " * @param {string} inputId Element ID of the input file picker element.\n",
       " * @param {string} outputId Element ID of the output display.\n",
       " * @return {!Iterable<!Object>} Iterable of next steps.\n",
       " */\n",
       "function* uploadFilesStep(inputId, outputId) {\n",
       "  const inputElement = document.getElementById(inputId);\n",
       "  inputElement.disabled = false;\n",
       "\n",
       "  const outputElement = document.getElementById(outputId);\n",
       "  outputElement.innerHTML = '';\n",
       "\n",
       "  const pickedPromise = new Promise((resolve) => {\n",
       "    inputElement.addEventListener('change', (e) => {\n",
       "      resolve(e.target.files);\n",
       "    });\n",
       "  });\n",
       "\n",
       "  const cancel = document.createElement('button');\n",
       "  inputElement.parentElement.appendChild(cancel);\n",
       "  cancel.textContent = 'Cancel upload';\n",
       "  const cancelPromise = new Promise((resolve) => {\n",
       "    cancel.onclick = () => {\n",
       "      resolve(null);\n",
       "    };\n",
       "  });\n",
       "\n",
       "  // Wait for the user to pick the files.\n",
       "  const files = yield {\n",
       "    promise: Promise.race([pickedPromise, cancelPromise]),\n",
       "    response: {\n",
       "      action: 'starting',\n",
       "    }\n",
       "  };\n",
       "\n",
       "  cancel.remove();\n",
       "\n",
       "  // Disable the input element since further picks are not allowed.\n",
       "  inputElement.disabled = true;\n",
       "\n",
       "  if (!files) {\n",
       "    return {\n",
       "      response: {\n",
       "        action: 'complete',\n",
       "      }\n",
       "    };\n",
       "  }\n",
       "\n",
       "  for (const file of files) {\n",
       "    const li = document.createElement('li');\n",
       "    li.append(span(file.name, {fontWeight: 'bold'}));\n",
       "    li.append(span(\n",
       "        `(${file.type || 'n/a'}) - ${file.size} bytes, ` +\n",
       "        `last modified: ${\n",
       "            file.lastModifiedDate ? file.lastModifiedDate.toLocaleDateString() :\n",
       "                                    'n/a'} - `));\n",
       "    const percent = span('0% done');\n",
       "    li.appendChild(percent);\n",
       "\n",
       "    outputElement.appendChild(li);\n",
       "\n",
       "    const fileDataPromise = new Promise((resolve) => {\n",
       "      const reader = new FileReader();\n",
       "      reader.onload = (e) => {\n",
       "        resolve(e.target.result);\n",
       "      };\n",
       "      reader.readAsArrayBuffer(file);\n",
       "    });\n",
       "    // Wait for the data to be ready.\n",
       "    let fileData = yield {\n",
       "      promise: fileDataPromise,\n",
       "      response: {\n",
       "        action: 'continue',\n",
       "      }\n",
       "    };\n",
       "\n",
       "    // Use a chunked sending to avoid message size limits. See b/62115660.\n",
       "    let position = 0;\n",
       "    do {\n",
       "      const length = Math.min(fileData.byteLength - position, MAX_PAYLOAD_SIZE);\n",
       "      const chunk = new Uint8Array(fileData, position, length);\n",
       "      position += length;\n",
       "\n",
       "      const base64 = btoa(String.fromCharCode.apply(null, chunk));\n",
       "      yield {\n",
       "        response: {\n",
       "          action: 'append',\n",
       "          file: file.name,\n",
       "          data: base64,\n",
       "        },\n",
       "      };\n",
       "\n",
       "      let percentDone = fileData.byteLength === 0 ?\n",
       "          100 :\n",
       "          Math.round((position / fileData.byteLength) * 100);\n",
       "      percent.textContent = `${percentDone}% done`;\n",
       "\n",
       "    } while (position < fileData.byteLength);\n",
       "  }\n",
       "\n",
       "  // All done.\n",
       "  yield {\n",
       "    response: {\n",
       "      action: 'complete',\n",
       "    }\n",
       "  };\n",
       "}\n",
       "\n",
       "scope.google = scope.google || {};\n",
       "scope.google.colab = scope.google.colab || {};\n",
       "scope.google.colab._files = {\n",
       "  _uploadFiles,\n",
       "  _uploadFilesContinue,\n",
       "};\n",
       "})(self);\n",
       "</script> "
      ],
      "text/plain": [
       "<IPython.core.display.HTML object>"
      ]
     },
     "metadata": {},
     "output_type": "display_data"
    },
    {
     "name": "stdout",
     "output_type": "stream",
     "text": [
      "Saving nvda.us.txt to nvda.us (1).txt\n",
      "         Date    Open    High     Low   Close    Volume  OpenInt\n",
      "0  1999-01-22  1.6238  1.8092  1.4379  1.5215  18297633        0\n",
      "1  1999-01-25  1.6423  1.6980  1.5215  1.6793   3445279        0\n",
      "2  1999-01-26  1.6980  1.7350  1.5311  1.5494   2320993        0\n",
      "3  1999-01-27  1.5586  1.5957  1.4660  1.5494   1662658        0\n",
      "4  1999-01-28  1.5494  1.5586  1.5311  1.5401   1540110        0\n"
     ]
    }
   ],
   "source": [
    "from google.colab import files\n",
    "import pandas as pd\n",
    "\n",
    "# 讓使用者上傳檔案\n",
    "uploaded = files.upload()\n",
    "\n",
    "# 取得上傳檔案的名稱\n",
    "filename = list(uploaded.keys())[0]\n",
    "\n",
    "# 讀取檔案\n",
    "df = pd.read_csv(filename)\n",
    "\n",
    "# 顯示前幾筆資料確認是否成功讀取\n",
    "print(df.head())\n"
   ]
  },
  {
   "cell_type": "code",
   "execution_count": 75,
   "id": "97f3e5ca-600c-42f6-88d2-8e057ca2c612",
   "metadata": {
    "colab": {
     "base_uri": "https://localhost:8080/",
     "height": 465
    },
    "id": "97f3e5ca-600c-42f6-88d2-8e057ca2c612",
    "outputId": "4c78f369-7709-48c2-a772-54a49c64688d"
   },
   "outputs": [
    {
     "data": {
      "image/png": "[encoded data removed]",
      "text/plain": [
       "<Figure size 1500x500 with 1 Axes>"
      ]
     },
     "metadata": {},
     "output_type": "display_data"
    }
   ],
   "source": [
    "plot = df.plot('Date', 'High', figsize=(15, 5))"
   ]
  },
  {
   "cell_type": "code",
   "execution_count": 76,
   "id": "34241797-60f0-4818-a44b-f5379948d621",
   "metadata": {
    "colab": {
     "base_uri": "https://localhost:8080/"
    },
    "id": "34241797-60f0-4818-a44b-f5379948d621",
    "outputId": "90e51bd1-6d6b-41ce-89b5-b41ebaf21c9a"
   },
   "outputs": [
    {
     "data": {
      "text/plain": [
       "Index(['Date', 'Open', 'High', 'Low', 'Close', 'Volume', 'OpenInt'], dtype='object')"
      ]
     },
     "execution_count": 76,
     "metadata": {},
     "output_type": "execute_result"
    }
   ],
   "source": [
    "df.columns"
   ]
  },
  {
   "cell_type": "code",
   "execution_count": 77,
   "id": "026585db-a6d8-4062-85de-e3a7eaebed72",
   "metadata": {
    "colab": {
     "base_uri": "https://localhost:8080/"
    },
    "id": "026585db-a6d8-4062-85de-e3a7eaebed72",
    "outputId": "9a07ab9e-f46d-40be-af4e-194c8b352203"
   },
   "outputs": [
    {
     "name": "stdout",
     "output_type": "stream",
     "text": [
      "<class 'pandas.core.frame.DataFrame'>\n",
      "RangeIndex: 4733 entries, 0 to 4732\n",
      "Data columns (total 7 columns):\n",
      " #   Column   Non-Null Count  Dtype  \n",
      "---  ------   --------------  -----  \n",
      " 0   Date     4733 non-null   object \n",
      " 1   Open     4733 non-null   float64\n",
      " 2   High     4733 non-null   float64\n",
      " 3   Low      4733 non-null   float64\n",
      " 4   Close    4733 non-null   float64\n",
      " 5   Volume   4733 non-null   int64  \n",
      " 6   OpenInt  4733 non-null   int64  \n",
      "dtypes: float64(4), int64(2), object(1)\n",
      "memory usage: 259.0+ KB\n"
     ]
    }
   ],
   "source": [
    "df.info()"
   ]
  },
  {
   "cell_type": "code",
   "execution_count": 78,
   "id": "69031e6d-0fb5-49d9-b723-a0d1fee08c3c",
   "metadata": {
    "colab": {
     "base_uri": "https://localhost:8080/",
     "height": 304
    },
    "id": "69031e6d-0fb5-49d9-b723-a0d1fee08c3c",
    "outputId": "40af5a88-d533-4e02-c93a-178e2027cd7f"
   },
   "outputs": [
    {
     "data": {
      "text/html": [
       "<div>\n",
       "<style scoped>\n",
       "    .dataframe tbody tr th:only-of-type {\n",
       "        vertical-align: middle;\n",
       "    }\n",
       "\n",
       "    .dataframe tbody tr th {\n",
       "        vertical-align: top;\n",
       "    }\n",
       "\n",
       "    .dataframe thead th {\n",
       "        text-align: right;\n",
       "    }\n",
       "</style>\n",
       "<table border=\"1\" class=\"dataframe\">\n",
       "  <thead>\n",
       "    <tr style=\"text-align: right;\">\n",
       "      <th></th>\n",
       "      <th>0</th>\n",
       "    </tr>\n",
       "  </thead>\n",
       "  <tbody>\n",
       "    <tr>\n",
       "      <th>Date</th>\n",
       "      <td>0</td>\n",
       "    </tr>\n",
       "    <tr>\n",
       "      <th>Open</th>\n",
       "      <td>0</td>\n",
       "    </tr>\n",
       "    <tr>\n",
       "      <th>High</th>\n",
       "      <td>0</td>\n",
       "    </tr>\n",
       "    <tr>\n",
       "      <th>Low</th>\n",
       "      <td>0</td>\n",
       "    </tr>\n",
       "    <tr>\n",
       "      <th>Close</th>\n",
       "      <td>0</td>\n",
       "    </tr>\n",
       "    <tr>\n",
       "      <th>Volume</th>\n",
       "      <td>0</td>\n",
       "    </tr>\n",
       "    <tr>\n",
       "      <th>OpenInt</th>\n",
       "      <td>0</td>\n",
       "    </tr>\n",
       "  </tbody>\n",
       "</table>\n",
       "</div><br><label><b>dtype:</b> int64</label>"
      ],
      "text/plain": [
       "Date       0\n",
       "Open       0\n",
       "High       0\n",
       "Low        0\n",
       "Close      0\n",
       "Volume     0\n",
       "OpenInt    0\n",
       "dtype: int64"
      ]
     },
     "execution_count": 78,
     "metadata": {},
     "output_type": "execute_result"
    }
   ],
   "source": [
    "# checking for null values\n",
    "df.isnull().sum()"
   ]
  },
  {
   "cell_type": "code",
   "execution_count": 79,
   "id": "cb3090f8-2cfa-4f56-8aa5-cf954bb19932",
   "metadata": {
    "id": "cb3090f8-2cfa-4f56-8aa5-cf954bb19932"
   },
   "outputs": [],
   "source": [
    "df = df.dropna()"
   ]
  },
  {
   "cell_type": "code",
   "execution_count": 80,
   "id": "38aadbee-d68f-4ae0-b842-b40800b0cac9",
   "metadata": {
    "colab": {
     "base_uri": "https://localhost:8080/"
    },
    "id": "38aadbee-d68f-4ae0-b842-b40800b0cac9",
    "outputId": "b62db2ce-fc6b-4989-efb1-24ad4b68807f"
   },
   "outputs": [
    {
     "data": {
      "text/plain": [
       "(4733, 7)"
      ]
     },
     "execution_count": 80,
     "metadata": {},
     "output_type": "execute_result"
    }
   ],
   "source": [
    "df.shape"
   ]
  },
  {
   "cell_type": "code",
   "execution_count": 81,
   "id": "051108c6-7011-4187-9e36-bd2944a019ca",
   "metadata": {
    "colab": {
     "base_uri": "https://localhost:8080/",
     "height": 300
    },
    "id": "051108c6-7011-4187-9e36-bd2944a019ca",
    "outputId": "b3749881-b189-4695-e208-d076591eec71"
   },
   "outputs": [
    {
     "data": {
      "application/vnd.google.colaboratory.intrinsic+json": {
       "summary": "{\n  \"name\": \"df\",\n  \"rows\": 8,\n  \"fields\": [\n    {\n      \"column\": \"Open\",\n      \"properties\": {\n        \"dtype\": \"number\",\n        \"std\": 1659.4028076432585,\n        \"min\": 1.2989,\n        \"max\": 4733.0,\n        \"num_unique_values\": 8,\n        \"samples\": [\n          20.796242045214452,\n          12.963,\n          4733.0\n        ],\n        \"semantic_type\": \"\",\n        \"description\": \"\"\n      }\n    },\n    {\n      \"column\": \"High\",\n      \"properties\": {\n        \"dtype\": \"number\",\n        \"std\": 1659.120743402775,\n        \"min\": 1.3175,\n        \"max\": 4733.0,\n        \"num_unique_values\": 8,\n        \"samples\": [\n          21.157331565603215,\n          13.238,\n          4733.0\n        ],\n        \"semantic_type\": \"\",\n        \"description\": \"\"\n      }\n    },\n    {\n      \"column\": \"Low\",\n      \"properties\": {\n        \"dtype\": \"number\",\n        \"std\": 1659.5453378396865,\n        \"min\": 1.2339,\n        \"max\": 4733.0,\n        \"num_unique_values\": 8,\n        \"samples\": [\n          20.420417261778997,\n          12.721,\n          4733.0\n        ],\n        \"semantic_type\": \"\",\n        \"description\": \"\"\n      }\n    },\n    {\n      \"column\": \"Close\",\n      \"properties\": {\n        \"dtype\": \"number\",\n        \"std\": 1659.2943916304791,\n        \"min\": 1.2619,\n        \"max\": 4733.0,\n        \"num_unique_values\": 8,\n        \"samples\": [\n          20.805404310162686,\n          12.99,\n          4733.0\n        ],\n        \"semantic_type\": \"\",\n        \"description\": \"\"\n      }\n    },\n    {\n      \"column\": \"Volume\",\n      \"properties\": {\n        \"dtype\": \"number\",\n        \"std\": 84974806.78197432,\n        \"min\": 0.0,\n        \"max\": 249665903.0,\n        \"num_unique_values\": 8,\n        \"samples\": [\n          16152870.570885273,\n          13902713.0,\n          4733.0\n        ],\n        \"semantic_type\": \"\",\n        \"description\": \"\"\n      }\n    },\n    {\n      \"column\": \"OpenInt\",\n      \"properties\": {\n        \"dtype\": \"number\",\n        \"std\": 1673.3681976779646,\n        \"min\": 0.0,\n        \"max\": 4733.0,\n        \"num_unique_values\": 2,\n        \"samples\": [\n          0.0,\n          4733.0\n        ],\n        \"semantic_type\": \"\",\n        \"description\": \"\"\n      }\n    }\n  ]\n}",
       "type": "dataframe"
      },
      "text/html": [
       "\n",
       "  <div id=\"df-8d320c41-303c-4e05-8b2f-e8b48fc2dc5a\" class=\"colab-df-container\">\n",
       "    <div>\n",
       "<style scoped>\n",
       "    .dataframe tbody tr th:only-of-type {\n",
       "        vertical-align: middle;\n",
       "    }\n",
       "\n",
       "    .dataframe tbody tr th {\n",
       "        vertical-align: top;\n",
       "    }\n",
       "\n",
       "    .dataframe thead th {\n",
       "        text-align: right;\n",
       "    }\n",
       "</style>\n",
       "<table border=\"1\" class=\"dataframe\">\n",
       "  <thead>\n",
       "    <tr style=\"text-align: right;\">\n",
       "      <th></th>\n",
       "      <th>Open</th>\n",
       "      <th>High</th>\n",
       "      <th>Low</th>\n",
       "      <th>Close</th>\n",
       "      <th>Volume</th>\n",
       "      <th>OpenInt</th>\n",
       "    </tr>\n",
       "  </thead>\n",
       "  <tbody>\n",
       "    <tr>\n",
       "      <th>count</th>\n",
       "      <td>4733.000000</td>\n",
       "      <td>4733.000000</td>\n",
       "      <td>4733.000000</td>\n",
       "      <td>4733.000000</td>\n",
       "      <td>4.733000e+03</td>\n",
       "      <td>4733.0</td>\n",
       "    </tr>\n",
       "    <tr>\n",
       "      <th>mean</th>\n",
       "      <td>20.796242</td>\n",
       "      <td>21.157332</td>\n",
       "      <td>20.420417</td>\n",
       "      <td>20.805404</td>\n",
       "      <td>1.615287e+07</td>\n",
       "      <td>0.0</td>\n",
       "    </tr>\n",
       "    <tr>\n",
       "      <th>std</th>\n",
       "      <td>30.236284</td>\n",
       "      <td>30.615622</td>\n",
       "      <td>29.792958</td>\n",
       "      <td>30.263705</td>\n",
       "      <td>1.272446e+07</td>\n",
       "      <td>0.0</td>\n",
       "    </tr>\n",
       "    <tr>\n",
       "      <th>min</th>\n",
       "      <td>1.298900</td>\n",
       "      <td>1.317500</td>\n",
       "      <td>1.233900</td>\n",
       "      <td>1.261900</td>\n",
       "      <td>0.000000e+00</td>\n",
       "      <td>0.0</td>\n",
       "    </tr>\n",
       "    <tr>\n",
       "      <th>25%</th>\n",
       "      <td>7.988300</td>\n",
       "      <td>8.247900</td>\n",
       "      <td>7.756400</td>\n",
       "      <td>7.978900</td>\n",
       "      <td>8.181100e+06</td>\n",
       "      <td>0.0</td>\n",
       "    </tr>\n",
       "    <tr>\n",
       "      <th>50%</th>\n",
       "      <td>12.963000</td>\n",
       "      <td>13.238000</td>\n",
       "      <td>12.721000</td>\n",
       "      <td>12.990000</td>\n",
       "      <td>1.390271e+07</td>\n",
       "      <td>0.0</td>\n",
       "    </tr>\n",
       "    <tr>\n",
       "      <th>75%</th>\n",
       "      <td>19.141000</td>\n",
       "      <td>19.418000</td>\n",
       "      <td>18.778000</td>\n",
       "      <td>19.106000</td>\n",
       "      <td>2.051602e+07</td>\n",
       "      <td>0.0</td>\n",
       "    </tr>\n",
       "    <tr>\n",
       "      <th>max</th>\n",
       "      <td>213.080000</td>\n",
       "      <td>218.670000</td>\n",
       "      <td>211.630000</td>\n",
       "      <td>216.140000</td>\n",
       "      <td>2.496659e+08</td>\n",
       "      <td>0.0</td>\n",
       "    </tr>\n",
       "  </tbody>\n",
       "</table>\n",
       "</div>\n",
       "    <div class=\"colab-df-buttons\">\n",
       "\n",
       "  <div class=\"colab-df-container\">\n",
       "    <button class=\"colab-df-convert\" onclick=\"convertToInteractive('df-8d320c41-303c-4e05-8b2f-e8b48fc2dc5a')\"\n",
       "            title=\"Convert this dataframe to an interactive table.\"\n",
       "            style=\"display:none;\">\n",
       "\n",
       "  <svg xmlns=\"http://www.w3.org/2000/svg\" height=\"24px\" viewBox=\"0 -960 960 960\">\n",
       "    <path d=\"M120-120v-720h720v720H120Zm60-500h600v-160H180v160Zm220 220h160v-160H400v160Zm0 220h160v-160H400v160ZM180-400h160v-160H180v160Zm440 0h160v-160H620v160ZM180-180h160v-160H180v160Zm440 0h160v-160H620v160Z\"/>\n",
       "  </svg>\n",
       "    </button>\n",
       "\n",
       "  <style>\n",
       "    .colab-df-container {\n",
       "      display:flex;\n",
       "      gap: 12px;\n",
       "    }\n",
       "\n",
       "    .colab-df-convert {\n",
       "      background-color: #E8F0FE;\n",
       "      border: none;\n",
       "      border-radius: 50%;\n",
       "      cursor: pointer;\n",
       "      display: none;\n",
       "      fill: #1967D2;\n",
       "      height: 32px;\n",
       "      padding: 0 0 0 0;\n",
       "      width: 32px;\n",
       "    }\n",
       "\n",
       "    .colab-df-convert:hover {\n",
       "      background-color: #E2EBFA;\n",
       "      box-shadow: 0px 1px 2px rgba(60, 64, 67, 0.3), 0px 1px 3px 1px rgba(60, 64, 67, 0.15);\n",
       "      fill: #174EA6;\n",
       "    }\n",
       "\n",
       "    .colab-df-buttons div {\n",
       "      margin-bottom: 4px;\n",
       "    }\n",
       "\n",
       "    [theme=dark] .colab-df-convert {\n",
       "      background-color: #3B4455;\n",
       "      fill: #D2E3FC;\n",
       "    }\n",
       "\n",
       "    [theme=dark] .colab-df-convert:hover {\n",
       "      background-color: #434B5C;\n",
       "      box-shadow: 0px 1px 3px 1px rgba(0, 0, 0, 0.15);\n",
       "      filter: drop-shadow(0px 1px 2px rgba(0, 0, 0, 0.3));\n",
       "      fill: #FFFFFF;\n",
       "    }\n",
       "  </style>\n",
       "\n",
       "    <script>\n",
       "      const buttonEl =\n",
       "        document.querySelector('#df-8d320c41-303c-4e05-8b2f-e8b48fc2dc5a button.colab-df-convert');\n",
       "      buttonEl.style.display =\n",
       "        google.colab.kernel.accessAllowed ? 'block' : 'none';\n",
       "\n",
       "      async function convertToInteractive(key) {\n",
       "        const element = document.querySelector('#df-8d320c41-303c-4e05-8b2f-e8b48fc2dc5a');\n",
       "        const dataTable =\n",
       "          await google.colab.kernel.invokeFunction('convertToInteractive',\n",
       "                                                    [key], {});\n",
       "        if (!dataTable) return;\n",
       "\n",
       "        const docLinkHtml = 'Like what you see? Visit the ' +\n",
       "          '<a target=\"_blank\" href=https://colab.research.google.com/notebooks/data_table.ipynb>data table notebook</a>'\n",
       "          + ' to learn more about interactive tables.';\n",
       "        element.innerHTML = '';\n",
       "        dataTable['output_type'] = 'display_data';\n",
       "        await google.colab.output.renderOutput(dataTable, element);\n",
       "        const docLink = document.createElement('div');\n",
       "        docLink.innerHTML = docLinkHtml;\n",
       "        element.appendChild(docLink);\n",
       "      }\n",
       "    </script>\n",
       "  </div>\n",
       "\n",
       "\n",
       "    <div id=\"df-e5d26def-228e-4aff-9fba-ceb54f8b0f03\">\n",
       "      <button class=\"colab-df-quickchart\" onclick=\"quickchart('df-e5d26def-228e-4aff-9fba-ceb54f8b0f03')\"\n",
       "                title=\"Suggest charts\"\n",
       "                style=\"display:none;\">\n",
       "\n",
       "<svg xmlns=\"http://www.w3.org/2000/svg\" height=\"24px\"viewBox=\"0 0 24 24\"\n",
       "     width=\"24px\">\n",
       "    <g>\n",
       "        <path d=\"M19 3H5c-1.1 0-2 .9-2 2v14c0 1.1.9 2 2 2h14c1.1 0 2-.9 2-2V5c0-1.1-.9-2-2-2zM9 17H7v-7h2v7zm4 0h-2V7h2v10zm4 0h-2v-4h2v4z\"/>\n",
       "    </g>\n",
       "</svg>\n",
       "      </button>\n",
       "\n",
       "<style>\n",
       "  .colab-df-quickchart {\n",
       "      --bg-color: #E8F0FE;\n",
       "      --fill-color: #1967D2;\n",
       "      --hover-bg-color: #E2EBFA;\n",
       "      --hover-fill-color: #174EA6;\n",
       "      --disabled-fill-color: #AAA;\n",
       "      --disabled-bg-color: #DDD;\n",
       "  }\n",
       "\n",
       "  [theme=dark] .colab-df-quickchart {\n",
       "      --bg-color: #3B4455;\n",
       "      --fill-color: #D2E3FC;\n",
       "      --hover-bg-color: #434B5C;\n",
       "      --hover-fill-color: #FFFFFF;\n",
       "      --disabled-bg-color: #3B4455;\n",
       "      --disabled-fill-color: #666;\n",
       "  }\n",
       "\n",
       "  .colab-df-quickchart {\n",
       "    background-color: var(--bg-color);\n",
       "    border: none;\n",
       "    border-radius: 50%;\n",
       "    cursor: pointer;\n",
       "    display: none;\n",
       "    fill: var(--fill-color);\n",
       "    height: 32px;\n",
       "    padding: 0;\n",
       "    width: 32px;\n",
       "  }\n",
       "\n",
       "  .colab-df-quickchart:hover {\n",
       "    background-color: var(--hover-bg-color);\n",
       "    box-shadow: 0 1px 2px rgba(60, 64, 67, 0.3), 0 1px 3px 1px rgba(60, 64, 67, 0.15);\n",
       "    fill: var(--button-hover-fill-color);\n",
       "  }\n",
       "\n",
       "  .colab-df-quickchart-complete:disabled,\n",
       "  .colab-df-quickchart-complete:disabled:hover {\n",
       "    background-color: var(--disabled-bg-color);\n",
       "    fill: var(--disabled-fill-color);\n",
       "    box-shadow: none;\n",
       "  }\n",
       "\n",
       "  .colab-df-spinner {\n",
       "    border: 2px solid var(--fill-color);\n",
       "    border-color: transparent;\n",
       "    border-bottom-color: var(--fill-color);\n",
       "    animation:\n",
       "      spin 1s steps(1) infinite;\n",
       "  }\n",
       "\n",
       "  @keyframes spin {\n",
       "    0% {\n",
       "      border-color: transparent;\n",
       "      border-bottom-color: var(--fill-color);\n",
       "      border-left-color: var(--fill-color);\n",
       "    }\n",
       "    20% {\n",
       "      border-color: transparent;\n",
       "      border-left-color: var(--fill-color);\n",
       "      border-top-color: var(--fill-color);\n",
       "    }\n",
       "    30% {\n",
       "      border-color: transparent;\n",
       "      border-left-color: var(--fill-color);\n",
       "      border-top-color: var(--fill-color);\n",
       "      border-right-color: var(--fill-color);\n",
       "    }\n",
       "    40% {\n",
       "      border-color: transparent;\n",
       "      border-right-color: var(--fill-color);\n",
       "      border-top-color: var(--fill-color);\n",
       "    }\n",
       "    60% {\n",
       "      border-color: transparent;\n",
       "      border-right-color: var(--fill-color);\n",
       "    }\n",
       "    80% {\n",
       "      border-color: transparent;\n",
       "      border-right-color: var(--fill-color);\n",
       "      border-bottom-color: var(--fill-color);\n",
       "    }\n",
       "    90% {\n",
       "      border-color: transparent;\n",
       "      border-bottom-color: var(--fill-color);\n",
       "    }\n",
       "  }\n",
       "</style>\n",
       "\n",
       "      <script>\n",
       "        async function quickchart(key) {\n",
       "          const quickchartButtonEl =\n",
       "            document.querySelector('#' + key + ' button');\n",
       "          quickchartButtonEl.disabled = true;  // To prevent multiple clicks.\n",
       "          quickchartButtonEl.classList.add('colab-df-spinner');\n",
       "          try {\n",
       "            const charts = await google.colab.kernel.invokeFunction(\n",
       "                'suggestCharts', [key], {});\n",
       "          } catch (error) {\n",
       "            console.error('Error during call to suggestCharts:', error);\n",
       "          }\n",
       "          quickchartButtonEl.classList.remove('colab-df-spinner');\n",
       "          quickchartButtonEl.classList.add('colab-df-quickchart-complete');\n",
       "        }\n",
       "        (() => {\n",
       "          let quickchartButtonEl =\n",
       "            document.querySelector('#df-e5d26def-228e-4aff-9fba-ceb54f8b0f03 button');\n",
       "          quickchartButtonEl.style.display =\n",
       "            google.colab.kernel.accessAllowed ? 'block' : 'none';\n",
       "        })();\n",
       "      </script>\n",
       "    </div>\n",
       "\n",
       "    </div>\n",
       "  </div>\n"
      ],
      "text/plain": [
       "              Open         High          Low        Close        Volume  \\\n",
       "count  4733.000000  4733.000000  4733.000000  4733.000000  4.733000e+03   \n",
       "mean     20.796242    21.157332    20.420417    20.805404  1.615287e+07   \n",
       "std      30.236284    30.615622    29.792958    30.263705  1.272446e+07   \n",
       "min       1.298900     1.317500     1.233900     1.261900  0.000000e+00   \n",
       "25%       7.988300     8.247900     7.756400     7.978900  8.181100e+06   \n",
       "50%      12.963000    13.238000    12.721000    12.990000  1.390271e+07   \n",
       "75%      19.141000    19.418000    18.778000    19.106000  2.051602e+07   \n",
       "max     213.080000   218.670000   211.630000   216.140000  2.496659e+08   \n",
       "\n",
       "       OpenInt  \n",
       "count   4733.0  \n",
       "mean       0.0  \n",
       "std        0.0  \n",
       "min        0.0  \n",
       "25%        0.0  \n",
       "50%        0.0  \n",
       "75%        0.0  \n",
       "max        0.0  "
      ]
     },
     "execution_count": 81,
     "metadata": {},
     "output_type": "execute_result"
    }
   ],
   "source": [
    "df.describe()"
   ]
  },
  {
   "cell_type": "markdown",
   "id": "8ce7a0c5-76d6-4863-ba61-0544a220962a",
   "metadata": {
    "id": "8ce7a0c5-76d6-4863-ba61-0544a220962a"
   },
   "source": [
    "#### Converting the DataFrame to a NumPy Array"
   ]
  },
  {
   "cell_type": "code",
   "execution_count": 82,
   "id": "hve2mNwkT3pQ",
   "metadata": {
    "id": "hve2mNwkT3pQ"
   },
   "outputs": [],
   "source": [
    "import numpy as np\n",
    "import torch\n",
    "\n",
    "seed = 42\n",
    "\n",
    "# 固定 NumPy 的隨機種子\n",
    "np.random.seed(seed)\n",
    "\n",
    "# 固定 PyTorch 的隨機種子\n",
    "torch.manual_seed(seed)  # 設定 CPU 隨機種子\n",
    "torch.cuda.manual_seed(seed)  # 設定單張 GPU 隨機種子\n",
    "torch.cuda.manual_seed_all(seed)  # 設定所有 GPU 隨機種子（如果有多張）\n",
    "\n",
    "# 讓 CuDNN 的計算保持確定性\n",
    "torch.backends.cudnn.deterministic = True\n",
    "torch.backends.cudnn.benchmark = False\n"
   ]
  },
  {
   "cell_type": "code",
   "execution_count": 83,
   "id": "5735baad-2db8-4306-aa4c-7788d2b49621",
   "metadata": {
    "id": "5735baad-2db8-4306-aa4c-7788d2b49621"
   },
   "outputs": [],
   "source": [
    "def create_sequences(input_data, output_data, window_size, step):\n",
    "    sequences = []\n",
    "    labels = []\n",
    "    for i in range(0, len(input_data) - window_size, step):\n",
    "        sequences.append(input_data[i:(i + window_size)])\n",
    "        labels.append(output_data[i + window_size])\n",
    "    return np.array(sequences), np.array(labels)"
   ]
  },
  {
   "cell_type": "code",
   "execution_count": 84,
   "id": "29b8e189-7f39-435a-8038-39098b147325",
   "metadata": {
    "colab": {
     "base_uri": "https://localhost:8080/"
    },
    "id": "29b8e189-7f39-435a-8038-39098b147325",
    "outputId": "eafedb24-55d6-4707-aac6-12769b917d3a"
   },
   "outputs": [
    {
     "name": "stdout",
     "output_type": "stream",
     "text": [
      "Shape of data X: (471, 30, 5)\n",
      "Shape of data y: (471,)\n",
      "Shape of data x_train: (339, 30, 5)\n",
      "Shape of data y_train: (339,)\n",
      "Shape of data x_val: (85, 30, 5)\n",
      "Shape of data y_val: (85,)\n",
      "Shape of data x_test: (47, 30, 5)\n",
      "Shape of data y_test: (47,)\n",
      "Number of samples in training and validation are 339 and 85.\n"
     ]
    }
   ],
   "source": [
    "import numpy as np\n",
    "import torch\n",
    "from torch.utils.data import DataLoader, TensorDataset\n",
    "import matplotlib.pyplot as plt\n",
    "from sklearn.preprocessing import MinMaxScaler\n",
    "\n",
    "# Step 1: Select features + log transform Volume\n",
    "features = df[['Open', 'Close', 'High', 'Low', 'Volume']].copy()\n",
    "features['Volume'] = np.log(features['Volume'] + 1)  # log transform Volume\n",
    "labels = df['High'].shift(-1)  # Next day's high price\n",
    "\n",
    "# Step 2: Normalize features\n",
    "feature_scaler = MinMaxScaler()\n",
    "features_scaled = feature_scaler.fit_transform(features)\n",
    "\n",
    "# Step 3: Create sequences\n",
    "X, y = create_sequences(features_scaled, labels.values, window_size=30, step=10)\n",
    "\n",
    "print(f'Shape of data X: {X.shape}')\n",
    "print(f'Shape of data y: {y.shape}')\n",
    "\n",
    "# Step 4: Remove NaN samples (shift會有nan)\n",
    "valid_idx = ~np.isnan(y)\n",
    "X = X[valid_idx]\n",
    "y = y[valid_idx]\n",
    "\n",
    "# Step 5: Normalize labels (y) separately\n",
    "label_scaler = MinMaxScaler()\n",
    "y = label_scaler.fit_transform(y.reshape(-1, 1)).squeeze()\n",
    "\n",
    "# Step 6: Split hold-out test set\n",
    "ind = np.linspace(0, len(X)-1, num=int(len(X)*0.1), dtype=int)  # 10% hold-out\n",
    "x_test = X[ind]\n",
    "y_test = y[ind]\n",
    "all_ind = np.arange(len(X))\n",
    "remains_ind = np.delete(all_ind, ind)\n",
    "\n",
    "X = X[remains_ind]\n",
    "y = y[remains_ind]\n",
    "\n",
    "# Step 7: Shuffle\n",
    "ind = np.random.permutation(len(X))\n",
    "X = X[ind]\n",
    "y = y[ind]\n",
    "\n",
    "# Step 8: Train/Val split\n",
    "split_point = int(X.shape[0]*0.8)\n",
    "x_train = X[:split_point]\n",
    "y_train = y[:split_point]\n",
    "x_val = X[split_point:]\n",
    "y_val = y[split_point:]\n",
    "\n",
    "print(f'Shape of data x_train: {x_train.shape}')\n",
    "print(f'Shape of data y_train: {y_train.shape}')\n",
    "print(f'Shape of data x_val: {x_val.shape}')\n",
    "print(f'Shape of data y_val: {y_val.shape}')\n",
    "print(f'Shape of data x_test: {x_test.shape}')\n",
    "print(f'Shape of data y_test: {y_test.shape}')\n",
    "\n",
    "# Step 9: Convert to PyTorch tensors\n",
    "x_train = torch.from_numpy(x_train).float()\n",
    "y_train = torch.from_numpy(y_train).float()\n",
    "x_val = torch.from_numpy(x_val).float()\n",
    "y_val = torch.from_numpy(y_val).float()\n",
    "x_test = torch.from_numpy(x_test).float()\n",
    "y_test = torch.from_numpy(y_test).float()\n",
    "\n",
    "# Step 10: Create datasets and dataloaders\n",
    "batch_size = 32\n",
    "train_dataset = TensorDataset(x_train, y_train)\n",
    "val_dataset = TensorDataset(x_val, y_val)\n",
    "test_dataset = TensorDataset(x_test, y_test)\n",
    "\n",
    "train_loader = DataLoader(train_dataset, batch_size=batch_size, shuffle=True)\n",
    "val_loader = DataLoader(val_dataset, batch_size=batch_size, shuffle=False)\n",
    "test_loader = DataLoader(test_dataset, batch_size=batch_size, shuffle=False)\n",
    "\n",
    "print(f'Number of samples in training and validation are {len(train_loader.dataset)} and {len(val_loader.dataset)}.')\n"
   ]
  },
  {
   "cell_type": "markdown",
   "id": "8ffc26b9-6044-41e9-93e2-7dc6250dbd27",
   "metadata": {
    "id": "8ffc26b9-6044-41e9-93e2-7dc6250dbd27"
   },
   "source": [
    "## B. Defining Neural Networks"
   ]
  },
  {
   "cell_type": "code",
   "execution_count": 85,
   "id": "77975746-a7a7-4676-9527-57674cd98c0f",
   "metadata": {
    "id": "77975746-a7a7-4676-9527-57674cd98c0f"
   },
   "outputs": [],
   "source": [
    "import torch.nn as nn\n",
    "\n",
    "class LSTMModel(nn.Module):\n",
    "    def __init__(self, input_dim, hidden_dim, num_layers, output_dim):\n",
    "        super().__init__()\n",
    "        self.hidden_dim = hidden_dim\n",
    "        self.num_layers = num_layers\n",
    "        self.lstm = nn.LSTM(input_dim, hidden_dim, num_layers, batch_first=True)\n",
    "        self.fc = nn.Linear(hidden_dim, output_dim)\n",
    "\n",
    "    def forward(self, x):\n",
    "        out, _ = self.lstm(x)\n",
    "        out = self.fc(out[:, -1, :])\n",
    "        return out"
   ]
  },
  {
   "cell_type": "markdown",
   "id": "cbb8b5b0-0ec0-406c-a42e-048aa00e05aa",
   "metadata": {
    "id": "cbb8b5b0-0ec0-406c-a42e-048aa00e05aa"
   },
   "source": [
    "## C. Training the Neural Network"
   ]
  },
  {
   "cell_type": "code",
   "execution_count": 86,
   "id": "3602ae7d-4034-4c49-b221-0c12a5824b18",
   "metadata": {
    "colab": {
     "base_uri": "https://localhost:8080/"
    },
    "id": "3602ae7d-4034-4c49-b221-0c12a5824b18",
    "outputId": "9da71f80-18de-45d5-84f1-2e356efe1e7f"
   },
   "outputs": [
    {
     "name": "stdout",
     "output_type": "stream",
     "text": [
      "Wed Apr 30 12:50:10 2025       \n",
      "+-----------------------------------------------------------------------------------------+\n",
      "| NVIDIA-SMI 550.54.15              Driver Version: 550.54.15      CUDA Version: 12.4     |\n",
      "|-----------------------------------------+------------------------+----------------------+\n",
      "| GPU  Name                 Persistence-M | Bus-Id          Disp.A | Volatile Uncorr. ECC |\n",
      "| Fan  Temp   Perf          Pwr:Usage/Cap |           Memory-Usage | GPU-Util  Compute M. |\n",
      "|                                         |                        |               MIG M. |\n",
      "|=========================================+========================+======================|\n",
      "|   0  Tesla T4                       Off |   00000000:00:04.0 Off |                    0 |\n",
      "| N/A   54C    P0             28W /   70W |     344MiB /  15360MiB |      0%      Default |\n",
      "|                                         |                        |                  N/A |\n",
      "+-----------------------------------------+------------------------+----------------------+\n",
      "                                                                                         \n",
      "+-----------------------------------------------------------------------------------------+\n",
      "| Processes:                                                                              |\n",
      "|  GPU   GI   CI        PID   Type   Process name                              GPU Memory |\n",
      "|        ID   ID                                                               Usage      |\n",
      "|=========================================================================================|\n",
      "+-----------------------------------------------------------------------------------------+\n"
     ]
    }
   ],
   "source": [
    "# Check your GPU status.\n",
    "!nvidia-smi"
   ]
  },
  {
   "cell_type": "code",
   "execution_count": 87,
   "id": "f73a5c35-c15d-49bb-8a33-a7f017159499",
   "metadata": {
    "colab": {
     "base_uri": "https://localhost:8080/",
     "height": 1000,
     "referenced_widgets": [
      "fe788716a63e4d1ebdc7c47a6f083785",
      "b8530806cc2e40459c324e437ee38900",
      "27284c7095a84f7babb5d36ceec216e5",
      "4ec7de93eb604733b7b009cca9fd41b6",
      "a0bbe63768a646bf9f791138ad61ed8e",
      "f99394e1837b426d92b43e779169993d",
      "a717781cb4e1499289dd09ee19f69b44",
      "bb15d4e46f5342b18ae18537fcccd589",
      "e98456425df849878e2983f8596fc545",
      "13ddc14028634f5ba611a71ce24e70d8",
      "512500e9ffcc4b4ba14b888d65c15360"
     ]
    },
    "id": "f73a5c35-c15d-49bb-8a33-a7f017159499",
    "outputId": "5352d634-6d8c-4a8c-d977-bb7356484fbf"
   },
   "outputs": [
    {
     "name": "stdout",
     "output_type": "stream",
     "text": [
      "LSTMModel(\n",
      "  (lstm): LSTM(5, 500, num_layers=2, batch_first=True)\n",
      "  (fc): Linear(in_features=500, out_features=1, bias=True)\n",
      ")\n"
     ]
    },
    {
     "data": {
      "application/vnd.jupyter.widget-view+json": {
       "model_id": "fe788716a63e4d1ebdc7c47a6f083785",
       "version_major": 2,
       "version_minor": 0
      },
      "text/plain": [
       "  0%|          | 0/100 [00:00<?, ?it/s]"
      ]
     },
     "metadata": {},
     "output_type": "display_data"
    },
    {
     "name": "stdout",
     "output_type": "stream",
     "text": [
      "Epoch 1/100, Train loss: 0.0285, Val loss: 0.0463, Best Val loss: 0.0463\n",
      "Epoch 2/100, Train loss: 0.0276, Val loss: 0.0451, Best Val loss: 0.0451\n",
      "Epoch 3/100, Train loss: 0.0256, Val loss: 0.0439, Best Val loss: 0.0439\n",
      "Epoch 4/100, Train loss: 0.0247, Val loss: 0.0429, Best Val loss: 0.0429\n",
      "Epoch 5/100, Train loss: 0.0239, Val loss: 0.0419, Best Val loss: 0.0419\n",
      "Epoch 6/100, Train loss: 0.0233, Val loss: 0.0409, Best Val loss: 0.0409\n",
      "Epoch 7/100, Train loss: 0.0237, Val loss: 0.0401, Best Val loss: 0.0401\n",
      "Epoch 8/100, Train loss: 0.0231, Val loss: 0.0393, Best Val loss: 0.0393\n",
      "Epoch 9/100, Train loss: 0.0249, Val loss: 0.0385, Best Val loss: 0.0385\n",
      "Epoch 10/100, Train loss: 0.0215, Val loss: 0.0377, Best Val loss: 0.0377\n",
      "Epoch 11/100, Train loss: 0.0208, Val loss: 0.0371, Best Val loss: 0.0371\n",
      "Epoch 12/100, Train loss: 0.0205, Val loss: 0.0365, Best Val loss: 0.0365\n",
      "Epoch 13/100, Train loss: 0.0198, Val loss: 0.0359, Best Val loss: 0.0359\n",
      "Epoch 14/100, Train loss: 0.0195, Val loss: 0.0354, Best Val loss: 0.0354\n",
      "Epoch 15/100, Train loss: 0.0188, Val loss: 0.0349, Best Val loss: 0.0349\n",
      "Epoch 16/100, Train loss: 0.0188, Val loss: 0.0345, Best Val loss: 0.0345\n",
      "Epoch 17/100, Train loss: 0.0184, Val loss: 0.0340, Best Val loss: 0.0340\n",
      "Epoch 18/100, Train loss: 0.0190, Val loss: 0.0336, Best Val loss: 0.0336\n",
      "Epoch 19/100, Train loss: 0.0185, Val loss: 0.0332, Best Val loss: 0.0332\n",
      "Epoch 20/100, Train loss: 0.0175, Val loss: 0.0328, Best Val loss: 0.0328\n",
      "Epoch 21/100, Train loss: 0.0178, Val loss: 0.0325, Best Val loss: 0.0325\n",
      "Epoch 22/100, Train loss: 0.0190, Val loss: 0.0322, Best Val loss: 0.0322\n",
      "Epoch 23/100, Train loss: 0.0171, Val loss: 0.0319, Best Val loss: 0.0319\n",
      "Epoch 24/100, Train loss: 0.0170, Val loss: 0.0316, Best Val loss: 0.0316\n",
      "Epoch 25/100, Train loss: 0.0181, Val loss: 0.0313, Best Val loss: 0.0313\n",
      "Epoch 26/100, Train loss: 0.0169, Val loss: 0.0310, Best Val loss: 0.0310\n",
      "Epoch 27/100, Train loss: 0.0168, Val loss: 0.0307, Best Val loss: 0.0307\n",
      "Epoch 28/100, Train loss: 0.0169, Val loss: 0.0305, Best Val loss: 0.0305\n",
      "Epoch 29/100, Train loss: 0.0176, Val loss: 0.0302, Best Val loss: 0.0302\n",
      "Epoch 30/100, Train loss: 0.0161, Val loss: 0.0300, Best Val loss: 0.0300\n",
      "Epoch 31/100, Train loss: 0.0178, Val loss: 0.0297, Best Val loss: 0.0297\n",
      "Epoch 32/100, Train loss: 0.0162, Val loss: 0.0294, Best Val loss: 0.0294\n",
      "Epoch 33/100, Train loss: 0.0160, Val loss: 0.0291, Best Val loss: 0.0291\n",
      "Epoch 34/100, Train loss: 0.0156, Val loss: 0.0289, Best Val loss: 0.0289\n",
      "Epoch 35/100, Train loss: 0.0155, Val loss: 0.0286, Best Val loss: 0.0286\n",
      "Epoch 36/100, Train loss: 0.0155, Val loss: 0.0283, Best Val loss: 0.0283\n",
      "Epoch 37/100, Train loss: 0.0155, Val loss: 0.0281, Best Val loss: 0.0281\n",
      "Epoch 38/100, Train loss: 0.0151, Val loss: 0.0278, Best Val loss: 0.0278\n",
      "Epoch 39/100, Train loss: 0.0161, Val loss: 0.0276, Best Val loss: 0.0276\n",
      "Epoch 40/100, Train loss: 0.0149, Val loss: 0.0273, Best Val loss: 0.0273\n",
      "Epoch 41/100, Train loss: 0.0147, Val loss: 0.0270, Best Val loss: 0.0270\n",
      "Epoch 42/100, Train loss: 0.0157, Val loss: 0.0267, Best Val loss: 0.0267\n",
      "Epoch 43/100, Train loss: 0.0149, Val loss: 0.0264, Best Val loss: 0.0264\n",
      "Epoch 44/100, Train loss: 0.0154, Val loss: 0.0261, Best Val loss: 0.0261\n",
      "Epoch 45/100, Train loss: 0.0144, Val loss: 0.0257, Best Val loss: 0.0257\n",
      "Epoch 46/100, Train loss: 0.0139, Val loss: 0.0254, Best Val loss: 0.0254\n",
      "Epoch 47/100, Train loss: 0.0148, Val loss: 0.0251, Best Val loss: 0.0251\n",
      "Epoch 48/100, Train loss: 0.0136, Val loss: 0.0247, Best Val loss: 0.0247\n",
      "Epoch 49/100, Train loss: 0.0141, Val loss: 0.0244, Best Val loss: 0.0244\n",
      "Epoch 50/100, Train loss: 0.0143, Val loss: 0.0240, Best Val loss: 0.0240\n",
      "Epoch 51/100, Train loss: 0.0137, Val loss: 0.0237, Best Val loss: 0.0237\n",
      "Epoch 52/100, Train loss: 0.0136, Val loss: 0.0233, Best Val loss: 0.0233\n",
      "Epoch 53/100, Train loss: 0.0130, Val loss: 0.0228, Best Val loss: 0.0228\n",
      "Epoch 54/100, Train loss: 0.0125, Val loss: 0.0225, Best Val loss: 0.0225\n",
      "Epoch 55/100, Train loss: 0.0125, Val loss: 0.0221, Best Val loss: 0.0221\n",
      "Epoch 56/100, Train loss: 0.0126, Val loss: 0.0216, Best Val loss: 0.0216\n",
      "Epoch 57/100, Train loss: 0.0120, Val loss: 0.0212, Best Val loss: 0.0212\n",
      "Epoch 58/100, Train loss: 0.0136, Val loss: 0.0208, Best Val loss: 0.0208\n",
      "Epoch 59/100, Train loss: 0.0115, Val loss: 0.0202, Best Val loss: 0.0202\n",
      "Epoch 60/100, Train loss: 0.0114, Val loss: 0.0198, Best Val loss: 0.0198\n",
      "Epoch 61/100, Train loss: 0.0112, Val loss: 0.0193, Best Val loss: 0.0193\n",
      "Epoch 62/100, Train loss: 0.0109, Val loss: 0.0188, Best Val loss: 0.0188\n",
      "Epoch 63/100, Train loss: 0.0109, Val loss: 0.0183, Best Val loss: 0.0183\n",
      "Epoch 64/100, Train loss: 0.0104, Val loss: 0.0178, Best Val loss: 0.0178\n",
      "Epoch 65/100, Train loss: 0.0118, Val loss: 0.0173, Best Val loss: 0.0173\n",
      "Epoch 66/100, Train loss: 0.0097, Val loss: 0.0167, Best Val loss: 0.0167\n",
      "Epoch 67/100, Train loss: 0.0097, Val loss: 0.0160, Best Val loss: 0.0160\n",
      "Epoch 68/100, Train loss: 0.0095, Val loss: 0.0154, Best Val loss: 0.0154\n",
      "Epoch 69/100, Train loss: 0.0089, Val loss: 0.0148, Best Val loss: 0.0148\n",
      "Epoch 70/100, Train loss: 0.0086, Val loss: 0.0142, Best Val loss: 0.0142\n",
      "Epoch 71/100, Train loss: 0.0084, Val loss: 0.0135, Best Val loss: 0.0135\n",
      "Epoch 72/100, Train loss: 0.0088, Val loss: 0.0130, Best Val loss: 0.0130\n",
      "Epoch 73/100, Train loss: 0.0077, Val loss: 0.0122, Best Val loss: 0.0122\n",
      "Epoch 74/100, Train loss: 0.0074, Val loss: 0.0115, Best Val loss: 0.0115\n",
      "Epoch 75/100, Train loss: 0.0071, Val loss: 0.0108, Best Val loss: 0.0108\n",
      "Epoch 76/100, Train loss: 0.0066, Val loss: 0.0101, Best Val loss: 0.0101\n",
      "Epoch 77/100, Train loss: 0.0063, Val loss: 0.0093, Best Val loss: 0.0093\n",
      "Epoch 78/100, Train loss: 0.0062, Val loss: 0.0087, Best Val loss: 0.0087\n",
      "Epoch 79/100, Train loss: 0.0054, Val loss: 0.0077, Best Val loss: 0.0077\n",
      "Epoch 80/100, Train loss: 0.0050, Val loss: 0.0069, Best Val loss: 0.0069\n",
      "Epoch 81/100, Train loss: 0.0046, Val loss: 0.0063, Best Val loss: 0.0063\n",
      "Epoch 82/100, Train loss: 0.0043, Val loss: 0.0055, Best Val loss: 0.0055\n",
      "Epoch 83/100, Train loss: 0.0038, Val loss: 0.0047, Best Val loss: 0.0047\n",
      "Epoch 84/100, Train loss: 0.0037, Val loss: 0.0040, Best Val loss: 0.0040\n",
      "Epoch 85/100, Train loss: 0.0032, Val loss: 0.0034, Best Val loss: 0.0034\n",
      "Epoch 86/100, Train loss: 0.0027, Val loss: 0.0027, Best Val loss: 0.0027\n",
      "Epoch 87/100, Train loss: 0.0024, Val loss: 0.0021, Best Val loss: 0.0021\n",
      "Epoch 88/100, Train loss: 0.0021, Val loss: 0.0016, Best Val loss: 0.0016\n",
      "Epoch 89/100, Train loss: 0.0018, Val loss: 0.0013, Best Val loss: 0.0013\n",
      "Epoch 90/100, Train loss: 0.0015, Val loss: 0.0010, Best Val loss: 0.0010\n",
      "Epoch 91/100, Train loss: 0.0013, Val loss: 0.0008, Best Val loss: 0.0008\n",
      "Epoch 92/100, Train loss: 0.0011, Val loss: 0.0007, Best Val loss: 0.0007\n",
      "Epoch 93/100, Train loss: 0.0011, Val loss: 0.0007, Best Val loss: 0.0007\n",
      "Epoch 94/100, Train loss: 0.0009, Val loss: 0.0007, Best Val loss: 0.0007\n",
      "Epoch 95/100, Train loss: 0.0009, Val loss: 0.0007, Best Val loss: 0.0007\n",
      "Epoch 96/100, Train loss: 0.0008, Val loss: 0.0008, Best Val loss: 0.0007\n",
      "Epoch 97/100, Train loss: 0.0008, Val loss: 0.0008, Best Val loss: 0.0007\n",
      "Epoch 98/100, Train loss: 0.0009, Val loss: 0.0008, Best Val loss: 0.0007\n",
      "Epoch 99/100, Train loss: 0.0008, Val loss: 0.0009, Best Val loss: 0.0007\n",
      "Epoch 100/100, Train loss: 0.0008, Val loss: 0.0009, Best Val loss: 0.0007\n",
      "\n",
      " Train MSE on original price scale : 51.5359\n"
     ]
    }
   ],
   "source": [
    "import torch.optim as optim\n",
    "from torch.optim.lr_scheduler import CosineAnnealingLR\n",
    "from tqdm.auto import tqdm\n",
    "import torch.nn as nn\n",
    "import numpy as np\n",
    "\n",
    "# 儲存 label scaler 的 min / max（手動處理標準化）\n",
    "y_min = label_scaler.data_min_[0]\n",
    "y_max = label_scaler.data_max_[0]\n",
    "\n",
    "train_losses = []\n",
    "val_losses = []\n",
    "\n",
    "epochs = 100\n",
    "model = LSTMModel(input_dim=5, hidden_dim=500, num_layers=2, output_dim=1).cuda()\n",
    "print(model)\n",
    "\n",
    "best_val_loss = float('inf')\n",
    "\n",
    "criterion = nn.MSELoss()\n",
    "optimizer = optim.Adam(model.parameters(), lr=3.5e-6)\n",
    "lr_scheduler = CosineAnnealingLR(optimizer, T_max=epochs, eta_min=2e-6)\n",
    "\n",
    "for epoch in tqdm(range(epochs)):\n",
    "    # Training\n",
    "    model.train()\n",
    "    total_loss = 0.0\n",
    "\n",
    "    for features, labels in train_loader:\n",
    "        features = features.cuda()\n",
    "        labels = labels.cuda()\n",
    "        outputs = model(features).squeeze(-1)\n",
    "        loss = criterion(outputs, labels)\n",
    "        total_loss += loss.item()\n",
    "\n",
    "        optimizer.zero_grad()\n",
    "        loss.backward()\n",
    "        optimizer.step()\n",
    "\n",
    "    lr_scheduler.step()\n",
    "    avg_train_loss = total_loss / len(train_loader)\n",
    "\n",
    "    # Validation\n",
    "    model.eval()\n",
    "    total_val_loss = 0.0\n",
    "\n",
    "    with torch.no_grad():\n",
    "        for features, labels in val_loader:\n",
    "            features = features.cuda()\n",
    "            labels = labels.cuda()\n",
    "            outputs = model(features).squeeze(-1)\n",
    "            loss = criterion(outputs, labels)\n",
    "            total_val_loss += loss.item()\n",
    "\n",
    "    avg_val_loss = total_val_loss / len(val_loader)\n",
    "\n",
    "    # Save best model\n",
    "    if avg_val_loss < best_val_loss:\n",
    "        best_val_loss = avg_val_loss\n",
    "        torch.save(model.state_dict(), 'best_model.pth')\n",
    "\n",
    "    print(f'Epoch {epoch+1}/{epochs}, Train loss: {avg_train_loss:.4f}, Val loss: {avg_val_loss:.4f}, Best Val loss: {best_val_loss:.4f}')\n",
    "    train_losses.append(avg_train_loss)\n",
    "    val_losses.append(avg_val_loss)\n",
    "\n",
    "\n",
    "\n",
    "# 還原用的 inverse function for MinMaxScaler\n",
    "def inverse_minmax(tensor, data_min, data_max):\n",
    "    return tensor * (data_max - data_min) + data_min\n",
    "\n",
    "model.load_state_dict(torch.load('best_model.pth'))\n",
    "model.eval()\n",
    "\n",
    "preds = []\n",
    "trues = []\n",
    "\n",
    "with torch.no_grad():\n",
    "    for features, labels in test_loader:\n",
    "        features = features.cuda()\n",
    "        labels = labels.cuda()\n",
    "\n",
    "        outputs = model(features).squeeze(-1)\n",
    "        preds.append(outputs.cpu())\n",
    "        trues.append(labels.cpu())\n",
    "\n",
    "y_pred_scaled = torch.cat(preds, dim=0)\n",
    "y_true_scaled = torch.cat(trues, dim=0)\n",
    "\n",
    "# 還原為原始價格\n",
    "y_pred_original = inverse_minmax(y_pred_scaled, y_min, y_max)\n",
    "y_true_original = inverse_minmax(y_true_scaled, y_min, y_max)\n",
    "\n",
    "# 計算 MSE（在原始價格尺度下）\n",
    "mse_original = torch.mean((y_true_original - y_pred_original) ** 2).item()\n",
    "print(f'\\n Train MSE on original price scale : {mse_original:.4f}')\n"
   ]
  },
  {
   "cell_type": "markdown",
   "id": "a7984c6e-6652-4160-b572-07d48bc93a3f",
   "metadata": {
    "id": "a7984c6e-6652-4160-b572-07d48bc93a3f"
   },
   "source": [
    "#### Visualizing the model performance"
   ]
  },
  {
   "cell_type": "code",
   "execution_count": 88,
   "id": "5559d850-1fb5-4b04-b6ca-60c5b309f34e",
   "metadata": {
    "colab": {
     "base_uri": "https://localhost:8080/",
     "height": 465
    },
    "id": "5559d850-1fb5-4b04-b6ca-60c5b309f34e",
    "outputId": "f6f31530-07f0-4109-816e-5f4cb030f93d"
   },
   "outputs": [
    {
     "data": {
      "image/png": "[encoded data removed]",
      "text/plain": [
       "<Figure size 1000x500 with 1 Axes>"
      ]
     },
     "metadata": {},
     "output_type": "display_data"
    }
   ],
   "source": [
    "import matplotlib.pyplot as plt\n",
    "\n",
    "plt.figure(figsize=(10, 5))\n",
    "plt.plot(train_losses)\n",
    "plt.plot(val_losses)\n",
    "plt.xlabel('Epochs')\n",
    "plt.ylabel('Loss')\n",
    "plt.legend(['Train', 'Val'])\n",
    "\n",
    "plt.show()"
   ]
  },
  {
   "cell_type": "markdown",
   "id": "89c7e51b-8ab6-4aa2-877d-39b6daf55c20",
   "metadata": {
    "id": "89c7e51b-8ab6-4aa2-877d-39b6daf55c20"
   },
   "source": [
    "## D. Evaluating Your Trained Model"
   ]
  },
  {
   "cell_type": "code",
   "execution_count": 89,
   "id": "4bcf8580-42ee-4ee7-ad15-9f080cc57a33",
   "metadata": {
    "colab": {
     "base_uri": "https://localhost:8080/"
    },
    "id": "4bcf8580-42ee-4ee7-ad15-9f080cc57a33",
    "outputId": "43cf3108-3433-443a-d948-de1d339bc8ea"
   },
   "outputs": [
    {
     "name": "stdout",
     "output_type": "stream",
     "text": [
      "Test MSE on original price scale: 69.2439\n"
     ]
    }
   ],
   "source": [
    "# Step 1: Load the trained model\n",
    "model.load_state_dict(torch.load('best_model.pth'))\n",
    "\n",
    "# Set the model to evaluation mode\n",
    "model.eval()\n",
    "\n",
    "# Initialize variables for testing\n",
    "pred_value = []\n",
    "actual_value = []\n",
    "\n",
    "# Initialize MSE loss function\n",
    "criterion = nn.MSELoss()\n",
    "\n",
    "# Initialize variable to accumulate the MSE loss\n",
    "total_test_loss = 0\n",
    "\n",
    "# 還原 MinMaxScaler 的 min/max（你之前標準化 y 使用的）\n",
    "y_min = label_scaler.data_min_[0]  # label_scaler 是你訓練時使用的 MinMaxScaler\n",
    "y_max = label_scaler.data_max_[0]\n",
    "\n",
    "# 還原標準化的 y 值\n",
    "def inverse_minmax(tensor, data_min, data_max):\n",
    "    return tensor * (data_max - data_min) + data_min\n",
    "\n",
    "with torch.no_grad():\n",
    "    for features, labels in test_loader:\n",
    "        features = features.cuda()\n",
    "        labels = labels.cuda()\n",
    "\n",
    "        # Forward pass: compute predicted values\n",
    "        outputs = model(features).squeeze(-1)\n",
    "\n",
    "        # 還原標準化的預測和真實值\n",
    "        outputs_original = inverse_minmax(outputs, y_min, y_max)\n",
    "        labels_original = inverse_minmax(labels, y_min, y_max)\n",
    "\n",
    "        # Calculate the MSE for this batch on the original price scale\n",
    "        loss = criterion(outputs_original, labels_original)\n",
    "        total_test_loss += loss.item()\n",
    "\n",
    "        # Store predictions and actual values\n",
    "        pred_value.append(outputs_original.cpu())\n",
    "        actual_value.append(labels_original.cpu())\n",
    "\n",
    "# Concatenate all predictions and actual values\n",
    "pred_value = torch.cat(pred_value)\n",
    "actual_value = torch.cat(actual_value)\n",
    "\n",
    "# Calculate the average MSE for the entire test set\n",
    "average_test_loss = total_test_loss / len(test_loader)\n",
    "print(f'Test MSE on original price scale: {average_test_loss:.4f}')\n"
   ]
  },
  {
   "cell_type": "code",
   "execution_count": 90,
   "id": "dde4e0a5-32be-4db3-95fb-4fad8926ce9b",
   "metadata": {
    "colab": {
     "base_uri": "https://localhost:8080/",
     "height": 465
    },
    "id": "dde4e0a5-32be-4db3-95fb-4fad8926ce9b",
    "outputId": "7a5136e7-579c-42d7-de25-d147e5c32d61"
   },
   "outputs": [
    {
     "data": {
      "image/png": "[encoded data removed]",
      "text/plain": [
       "<Figure size 1000x500 with 1 Axes>"
      ]
     },
     "metadata": {},
     "output_type": "display_data"
    }
   ],
   "source": [
    "plt.figure(figsize=(10, 5))\n",
    "plt.plot(pred_value[:])\n",
    "plt.plot(actual_value[:])\n",
    "plt.xlabel('Day')\n",
    "plt.ylabel('Price')\n",
    "plt.legend(['Pred', 'Actual'])\n",
    "\n",
    "plt.show()"
   ]
  },
  {
   "cell_type": "markdown",
   "id": "tmeycjitnMZ-",
   "metadata": {
    "id": "tmeycjitnMZ-"
   },
   "source": [
    "# **Selected Features: Open, High, Low, Close**"
   ]
  },
  {
   "cell_type": "code",
   "execution_count": 91,
   "id": "C84kFp7tnMK7",
   "metadata": {
    "id": "C84kFp7tnMK7"
   },
   "outputs": [],
   "source": [
    "import numpy as np\n",
    "import torch\n",
    "\n",
    "seed = 42\n",
    "\n",
    "# 固定 NumPy 的隨機種子\n",
    "np.random.seed(seed)\n",
    "\n",
    "# 固定 PyTorch 的隨機種子\n",
    "torch.manual_seed(seed)  # 設定 CPU 隨機種子\n",
    "torch.cuda.manual_seed(seed)  # 設定單張 GPU 隨機種子\n",
    "torch.cuda.manual_seed_all(seed)  # 設定所有 GPU 隨機種子（如果有多張）\n",
    "\n",
    "# 讓 CuDNN 的計算保持確定性\n",
    "torch.backends.cudnn.deterministic = True\n",
    "torch.backends.cudnn.benchmark = False\n"
   ]
  },
  {
   "cell_type": "code",
   "execution_count": 92,
   "id": "LNOafPmRZUrE",
   "metadata": {
    "id": "LNOafPmRZUrE"
   },
   "outputs": [],
   "source": [
    "def create_sequences(input_data, output_data, window_size, step):\n",
    "    sequences = []\n",
    "    labels = []\n",
    "    for i in range(0, len(input_data) - window_size, step):\n",
    "        sequences.append(input_data[i:(i + window_size)])\n",
    "        labels.append(output_data[i + window_size])\n",
    "    return np.array(sequences), np.array(labels)"
   ]
  },
  {
   "cell_type": "code",
   "execution_count": 93,
   "id": "GuxJWwPLoBSR",
   "metadata": {
    "colab": {
     "base_uri": "https://localhost:8080/"
    },
    "id": "GuxJWwPLoBSR",
    "outputId": "1cae19c9-0a9a-4ffd-9d2d-e8a2a2dfbaa1"
   },
   "outputs": [
    {
     "name": "stdout",
     "output_type": "stream",
     "text": [
      "Shape of data X: (315, 10, 4)\n",
      "Shape of data y: (315,)\n",
      "Shape of data x_train: (227, 10, 4)\n",
      "Shape of data y_train: (227,)\n",
      "Shape of data x_val: (57, 10, 4)\n",
      "Shape of data y_val: (57,)\n",
      "Shape of data x_test: (31, 10, 4)\n",
      "Shape of data y_test: (31,)\n",
      "Number of samples in training and validation are 227 and 57.\n"
     ]
    }
   ],
   "source": [
    "import numpy as np\n",
    "import torch\n",
    "from torch.utils.data import DataLoader, TensorDataset\n",
    "import matplotlib.pyplot as plt\n",
    "\n",
    "# Select features\n",
    "features = df[['Open', 'High', 'Low', 'Close']]\n",
    "labels = df['High'].shift(-1)  # Next day's high price as label\n",
    "\n",
    "X, y = create_sequences(features, labels, window_size=10, step=15)\n",
    "\n",
    "print(f'Shape of data X: {X.shape}')\n",
    "print(f'Shape of data y: {y.shape}')\n",
    "\n",
    "# split the hold-out tests\n",
    "ind = np.linspace(0, len(X)-1, num=int(len(X)*0.1), dtype=int) # 10% hold-out\n",
    "x_test = X[ind]\n",
    "y_test = y[ind]\n",
    "all_ind = np.arange(len(X))\n",
    "remains_ind = np.delete(all_ind, ind)\n",
    "\n",
    "X = X[remains_ind]\n",
    "y = y[remains_ind]\n",
    "\n",
    "# shuffle dataset\n",
    "ind = np.random.permutation(len(X))\n",
    "X = X[ind]\n",
    "y = y[ind]\n",
    "split_point = int(X.shape[0]*0.8)\n",
    "\n",
    "x_train = X[:split_point]\n",
    "y_train = y[:split_point]\n",
    "x_val = X[split_point:]\n",
    "y_val = y[split_point:]\n",
    "\n",
    "print(f'Shape of data x_train: {x_train.shape}')\n",
    "print(f'Shape of data y_train: {y_train.shape}')\n",
    "print(f'Shape of data x_val: {x_val.shape}')\n",
    "print(f'Shape of data y_val: {y_val.shape}')\n",
    "print(f'Shape of data x_test: {x_test.shape}')\n",
    "print(f'Shape of data y_test: {y_test.shape}')\n",
    "\n",
    "# Convert to PyTorch tensors\n",
    "x_train = torch.from_numpy(x_train).float()\n",
    "y_train = torch.from_numpy(y_train).float()\n",
    "\n",
    "x_val = torch.from_numpy(x_val).float()\n",
    "y_val = torch.from_numpy(y_val).float()\n",
    "\n",
    "x_test = torch.from_numpy(x_test).float()\n",
    "y_test = torch.from_numpy(y_test).float()\n",
    "\n",
    "batch_size = 32\n",
    "\n",
    "# Create datasets\n",
    "train_dataset = TensorDataset(x_train, y_train)\n",
    "val_dataset = TensorDataset(x_val, y_val)\n",
    "test_dataset = TensorDataset(x_test, y_test)\n",
    "\n",
    "# Create dataloaders\n",
    "train_loader = DataLoader(train_dataset, batch_size=batch_size, shuffle=True)\n",
    "val_loader = DataLoader(val_dataset, batch_size=batch_size, shuffle=False)\n",
    "test_loader = DataLoader(test_dataset, batch_size=batch_size, shuffle=False)\n",
    "\n",
    "print(f'Number of samples in training and validation are {len(train_loader.dataset)} and {len(val_loader.dataset)}.')"
   ]
  },
  {
   "cell_type": "code",
   "execution_count": 94,
   "id": "cTnGtV0UoF2Y",
   "metadata": {
    "id": "cTnGtV0UoF2Y"
   },
   "outputs": [],
   "source": [
    "import torch.nn as nn\n",
    "\n",
    "class LSTMModel(nn.Module):\n",
    "    def __init__(self, input_dim, hidden_dim, num_layers, output_dim):\n",
    "        super().__init__()\n",
    "        self.hidden_dim = hidden_dim\n",
    "        self.num_layers = num_layers\n",
    "        self.lstm = nn.LSTM(input_dim, hidden_dim, num_layers, batch_first=True)\n",
    "        self.fc = nn.Linear(hidden_dim, output_dim)\n",
    "\n",
    "    def forward(self, x):\n",
    "        out, _ = self.lstm(x)\n",
    "        out = self.fc(out[:, -1, :])\n",
    "        return out"
   ]
  },
  {
   "cell_type": "code",
   "execution_count": 95,
   "id": "ksRzHUTGoLGM",
   "metadata": {
    "colab": {
     "base_uri": "https://localhost:8080/"
    },
    "id": "ksRzHUTGoLGM",
    "outputId": "9f64beeb-f207-4754-b583-0b58becd52d8"
   },
   "outputs": [
    {
     "name": "stdout",
     "output_type": "stream",
     "text": [
      "Wed Apr 30 12:50:23 2025       \n",
      "+-----------------------------------------------------------------------------------------+\n",
      "| NVIDIA-SMI 550.54.15              Driver Version: 550.54.15      CUDA Version: 12.4     |\n",
      "|-----------------------------------------+------------------------+----------------------+\n",
      "| GPU  Name                 Persistence-M | Bus-Id          Disp.A | Volatile Uncorr. ECC |\n",
      "| Fan  Temp   Perf          Pwr:Usage/Cap |           Memory-Usage | GPU-Util  Compute M. |\n",
      "|                                         |                        |               MIG M. |\n",
      "|=========================================+========================+======================|\n",
      "|   0  Tesla T4                       Off |   00000000:00:04.0 Off |                    0 |\n",
      "| N/A   60C    P0             36W /   70W |     344MiB /  15360MiB |      3%      Default |\n",
      "|                                         |                        |                  N/A |\n",
      "+-----------------------------------------+------------------------+----------------------+\n",
      "                                                                                         \n",
      "+-----------------------------------------------------------------------------------------+\n",
      "| Processes:                                                                              |\n",
      "|  GPU   GI   CI        PID   Type   Process name                              GPU Memory |\n",
      "|        ID   ID                                                               Usage      |\n",
      "|=========================================================================================|\n",
      "+-----------------------------------------------------------------------------------------+\n"
     ]
    }
   ],
   "source": [
    "# Check your GPU status.\n",
    "!nvidia-smi"
   ]
  },
  {
   "cell_type": "code",
   "execution_count": 96,
   "id": "lpuCufGsoSeV",
   "metadata": {
    "colab": {
     "base_uri": "https://localhost:8080/",
     "height": 1000,
     "referenced_widgets": [
      "8db1ee3d0b5c42949add90effd5a30ef",
      "670326ab8a734637b5cca7dda7793fb2",
      "9bdffcdfcc1e42f29f321ab6e5245cd1",
      "245c82ab08bf4bdbbcb6a115effdb04e",
      "943d9925d47b42b584887038f74701a6",
      "b24c3d3840ce4671a6ed0728d5b2cf21",
      "2cfd89753e2f4d2fa4882c88027c732f",
      "04bd800b1121402987a252d9f4632c38",
      "7f2823656b234a5a9515a4b9a1552c30",
      "cf60e61df20f4d2092e7233335339afa",
      "88f70a2075f341bea1c8dc4140d08731"
     ]
    },
    "id": "lpuCufGsoSeV",
    "outputId": "884ef334-f761-4101-ccb7-d5ec7888eba9"
   },
   "outputs": [
    {
     "name": "stdout",
     "output_type": "stream",
     "text": [
      "LSTMModel(\n",
      "  (lstm): LSTM(4, 500, num_layers=2, batch_first=True)\n",
      "  (fc): Linear(in_features=500, out_features=1, bias=True)\n",
      ")\n"
     ]
    },
    {
     "data": {
      "application/vnd.jupyter.widget-view+json": {
       "model_id": "8db1ee3d0b5c42949add90effd5a30ef",
       "version_major": 2,
       "version_minor": 0
      },
      "text/plain": [
       "  0%|          | 0/100 [00:00<?, ?it/s]"
      ]
     },
     "metadata": {},
     "output_type": "display_data"
    },
    {
     "name": "stdout",
     "output_type": "stream",
     "text": [
      "Epoch 1/100, Train loss: 893.0971, Val loss: 1384.7209, Best Val loss: 1384.7209\n",
      "Epoch 2/100, Train loss: 703.5498, Val loss: 1311.9789, Best Val loss: 1311.9789\n",
      "Epoch 3/100, Train loss: 675.1541, Val loss: 1287.0445, Best Val loss: 1287.0445\n",
      "Epoch 4/100, Train loss: 772.8256, Val loss: 1271.3462, Best Val loss: 1271.3462\n",
      "Epoch 5/100, Train loss: 678.0619, Val loss: 1258.8785, Best Val loss: 1258.8785\n",
      "Epoch 6/100, Train loss: 675.9293, Val loss: 1254.1074, Best Val loss: 1254.1074\n",
      "Epoch 7/100, Train loss: 674.0987, Val loss: 1172.3545, Best Val loss: 1172.3545\n",
      "Epoch 8/100, Train loss: 589.0433, Val loss: 1128.8619, Best Val loss: 1128.8619\n",
      "Epoch 9/100, Train loss: 558.8606, Val loss: 1083.2005, Best Val loss: 1083.2005\n",
      "Epoch 10/100, Train loss: 531.9726, Val loss: 1031.0235, Best Val loss: 1031.0235\n",
      "Epoch 11/100, Train loss: 505.7984, Val loss: 976.9455, Best Val loss: 976.9455\n",
      "Epoch 12/100, Train loss: 473.9372, Val loss: 931.6898, Best Val loss: 931.6898\n",
      "Epoch 13/100, Train loss: 449.8485, Val loss: 888.9613, Best Val loss: 888.9613\n",
      "Epoch 14/100, Train loss: 426.3150, Val loss: 847.6613, Best Val loss: 847.6613\n",
      "Epoch 15/100, Train loss: 408.0466, Val loss: 810.3167, Best Val loss: 810.3167\n",
      "Epoch 16/100, Train loss: 382.3317, Val loss: 771.6821, Best Val loss: 771.6821\n",
      "Epoch 17/100, Train loss: 975.1757, Val loss: 734.3834, Best Val loss: 734.3834\n",
      "Epoch 18/100, Train loss: 439.7385, Val loss: 688.8376, Best Val loss: 688.8376\n",
      "Epoch 19/100, Train loss: 332.3423, Val loss: 647.2733, Best Val loss: 647.2733\n",
      "Epoch 20/100, Train loss: 300.2784, Val loss: 617.7242, Best Val loss: 617.7242\n",
      "Epoch 21/100, Train loss: 287.3550, Val loss: 591.7307, Best Val loss: 591.7307\n",
      "Epoch 22/100, Train loss: 273.8037, Val loss: 569.3297, Best Val loss: 569.3297\n",
      "Epoch 23/100, Train loss: 262.4857, Val loss: 550.7294, Best Val loss: 550.7294\n",
      "Epoch 24/100, Train loss: 254.1952, Val loss: 531.8370, Best Val loss: 531.8370\n",
      "Epoch 25/100, Train loss: 294.1373, Val loss: 511.6496, Best Val loss: 511.6496\n",
      "Epoch 26/100, Train loss: 234.5729, Val loss: 489.3706, Best Val loss: 489.3706\n",
      "Epoch 27/100, Train loss: 223.1723, Val loss: 472.4788, Best Val loss: 472.4788\n",
      "Epoch 28/100, Train loss: 214.6690, Val loss: 458.8178, Best Val loss: 458.8178\n",
      "Epoch 29/100, Train loss: 208.2755, Val loss: 446.5083, Best Val loss: 446.5083\n",
      "Epoch 30/100, Train loss: 202.9375, Val loss: 432.8856, Best Val loss: 432.8856\n",
      "Epoch 31/100, Train loss: 196.3719, Val loss: 417.6363, Best Val loss: 417.6363\n",
      "Epoch 32/100, Train loss: 189.3308, Val loss: 405.9098, Best Val loss: 405.9098\n",
      "Epoch 33/100, Train loss: 183.1264, Val loss: 393.0630, Best Val loss: 393.0630\n",
      "Epoch 34/100, Train loss: 176.3592, Val loss: 386.2671, Best Val loss: 386.2671\n",
      "Epoch 35/100, Train loss: 170.8851, Val loss: 378.2021, Best Val loss: 378.2021\n",
      "Epoch 36/100, Train loss: 166.1133, Val loss: 367.3457, Best Val loss: 367.3457\n",
      "Epoch 37/100, Train loss: 161.6591, Val loss: 357.8404, Best Val loss: 357.8404\n",
      "Epoch 38/100, Train loss: 156.7736, Val loss: 346.9977, Best Val loss: 346.9977\n",
      "Epoch 39/100, Train loss: 151.7929, Val loss: 338.4850, Best Val loss: 338.4850\n",
      "Epoch 40/100, Train loss: 147.2124, Val loss: 330.2423, Best Val loss: 330.2423\n",
      "Epoch 41/100, Train loss: 143.0768, Val loss: 321.5810, Best Val loss: 321.5810\n",
      "Epoch 42/100, Train loss: 139.9244, Val loss: 316.1430, Best Val loss: 316.1430\n",
      "Epoch 43/100, Train loss: 158.4454, Val loss: 309.5715, Best Val loss: 309.5715\n",
      "Epoch 44/100, Train loss: 131.5386, Val loss: 301.6968, Best Val loss: 301.6968\n",
      "Epoch 45/100, Train loss: 127.3750, Val loss: 294.0535, Best Val loss: 294.0535\n",
      "Epoch 46/100, Train loss: 124.6481, Val loss: 286.7455, Best Val loss: 286.7455\n",
      "Epoch 47/100, Train loss: 120.8640, Val loss: 279.9634, Best Val loss: 279.9634\n",
      "Epoch 48/100, Train loss: 118.2125, Val loss: 277.2040, Best Val loss: 277.2040\n",
      "Epoch 49/100, Train loss: 115.5590, Val loss: 271.4619, Best Val loss: 271.4619\n",
      "Epoch 50/100, Train loss: 112.6432, Val loss: 265.3667, Best Val loss: 265.3667\n",
      "Epoch 51/100, Train loss: 110.3788, Val loss: 261.0655, Best Val loss: 261.0655\n",
      "Epoch 52/100, Train loss: 108.0405, Val loss: 255.7207, Best Val loss: 255.7207\n",
      "Epoch 53/100, Train loss: 106.3146, Val loss: 251.9356, Best Val loss: 251.9356\n",
      "Epoch 54/100, Train loss: 103.9300, Val loss: 248.5606, Best Val loss: 248.5606\n",
      "Epoch 55/100, Train loss: 102.1539, Val loss: 244.8642, Best Val loss: 244.8642\n",
      "Epoch 56/100, Train loss: 99.9281, Val loss: 240.8619, Best Val loss: 240.8619\n",
      "Epoch 57/100, Train loss: 98.1550, Val loss: 237.6850, Best Val loss: 237.6850\n",
      "Epoch 58/100, Train loss: 96.5243, Val loss: 234.1129, Best Val loss: 234.1129\n",
      "Epoch 59/100, Train loss: 94.9837, Val loss: 230.8423, Best Val loss: 230.8423\n",
      "Epoch 60/100, Train loss: 93.2570, Val loss: 228.7701, Best Val loss: 228.7701\n",
      "Epoch 61/100, Train loss: 92.0419, Val loss: 225.3756, Best Val loss: 225.3756\n",
      "Epoch 62/100, Train loss: 90.7432, Val loss: 222.9695, Best Val loss: 222.9695\n",
      "Epoch 63/100, Train loss: 89.3355, Val loss: 221.4338, Best Val loss: 221.4338\n",
      "Epoch 64/100, Train loss: 88.5118, Val loss: 218.1137, Best Val loss: 218.1137\n",
      "Epoch 65/100, Train loss: 87.1842, Val loss: 216.8290, Best Val loss: 216.8290\n",
      "Epoch 66/100, Train loss: 86.0864, Val loss: 213.5247, Best Val loss: 213.5247\n",
      "Epoch 67/100, Train loss: 85.5193, Val loss: 212.4521, Best Val loss: 212.4521\n",
      "Epoch 68/100, Train loss: 84.3576, Val loss: 210.4108, Best Val loss: 210.4108\n",
      "Epoch 69/100, Train loss: 253.0997, Val loss: 208.2028, Best Val loss: 208.2028\n",
      "Epoch 70/100, Train loss: 82.1651, Val loss: 206.0148, Best Val loss: 206.0148\n",
      "Epoch 71/100, Train loss: 81.0504, Val loss: 204.3938, Best Val loss: 204.3938\n",
      "Epoch 72/100, Train loss: 80.1968, Val loss: 202.4900, Best Val loss: 202.4900\n",
      "Epoch 73/100, Train loss: 79.4755, Val loss: 201.4076, Best Val loss: 201.4076\n",
      "Epoch 74/100, Train loss: 78.6586, Val loss: 200.3776, Best Val loss: 200.3776\n",
      "Epoch 75/100, Train loss: 78.2687, Val loss: 199.6605, Best Val loss: 199.6605\n",
      "Epoch 76/100, Train loss: 77.8731, Val loss: 201.5696, Best Val loss: 199.6605\n",
      "Epoch 77/100, Train loss: 77.4679, Val loss: 198.4131, Best Val loss: 198.4131\n",
      "Epoch 78/100, Train loss: 76.9558, Val loss: 196.3306, Best Val loss: 196.3306\n",
      "Epoch 79/100, Train loss: 151.1407, Val loss: 195.6192, Best Val loss: 195.6192\n",
      "Epoch 80/100, Train loss: 75.9619, Val loss: 194.5049, Best Val loss: 194.5049\n",
      "Epoch 81/100, Train loss: 75.4743, Val loss: 193.6880, Best Val loss: 193.6880\n",
      "Epoch 82/100, Train loss: 75.0853, Val loss: 192.9683, Best Val loss: 192.9683\n",
      "Epoch 83/100, Train loss: 74.7386, Val loss: 192.0033, Best Val loss: 192.0033\n",
      "Epoch 84/100, Train loss: 74.6257, Val loss: 191.4281, Best Val loss: 191.4281\n",
      "Epoch 85/100, Train loss: 74.4524, Val loss: 191.0773, Best Val loss: 191.0773\n",
      "Epoch 86/100, Train loss: 74.1575, Val loss: 190.8300, Best Val loss: 190.8300\n",
      "Epoch 87/100, Train loss: 73.8932, Val loss: 190.3996, Best Val loss: 190.3996\n",
      "Epoch 88/100, Train loss: 74.2103, Val loss: 190.0782, Best Val loss: 190.0782\n",
      "Epoch 89/100, Train loss: 73.6672, Val loss: 189.7697, Best Val loss: 189.7697\n",
      "Epoch 90/100, Train loss: 225.9692, Val loss: 189.6309, Best Val loss: 189.6309\n",
      "Epoch 91/100, Train loss: 73.3841, Val loss: 189.3800, Best Val loss: 189.3800\n",
      "Epoch 92/100, Train loss: 73.2617, Val loss: 189.2035, Best Val loss: 189.2035\n",
      "Epoch 93/100, Train loss: 73.1932, Val loss: 189.1238, Best Val loss: 189.1238\n",
      "Epoch 94/100, Train loss: 73.1573, Val loss: 188.9974, Best Val loss: 188.9974\n",
      "Epoch 95/100, Train loss: 209.0229, Val loss: 188.9275, Best Val loss: 188.9275\n",
      "Epoch 96/100, Train loss: 73.0722, Val loss: 188.8420, Best Val loss: 188.8420\n",
      "Epoch 97/100, Train loss: 73.0890, Val loss: 188.8163, Best Val loss: 188.8163\n",
      "Epoch 98/100, Train loss: 73.0477, Val loss: 188.7992, Best Val loss: 188.7992\n",
      "Epoch 99/100, Train loss: 73.0216, Val loss: 188.7930, Best Val loss: 188.7930\n",
      "Epoch 100/100, Train loss: 73.0386, Val loss: 188.7909, Best Val loss: 188.7909\n"
     ]
    }
   ],
   "source": [
    "import torch.optim as optim\n",
    "from torch.optim.lr_scheduler import CosineAnnealingLR\n",
    "from tqdm.auto import tqdm\n",
    "\n",
    "train_losses = []\n",
    "val_losses = []\n",
    "\n",
    "epochs = 100\n",
    "\n",
    "model = LSTMModel(input_dim=4, hidden_dim=500, num_layers=2, output_dim=1).cuda()\n",
    "print(model)\n",
    "\n",
    "best_val_loss = float('inf')\n",
    "\n",
    "criterion = nn.MSELoss()\n",
    "optimizer = optim.Adam(model.parameters(), lr=1e-3)\n",
    "lr_scheduler = CosineAnnealingLR(optimizer, T_max=epochs, eta_min=0)\n",
    "\n",
    "for epoch in tqdm(range(epochs)):\n",
    "    # Training\n",
    "    model.train()\n",
    "    total_loss = 0.0\n",
    "\n",
    "    for features, labels in train_loader:\n",
    "        features = features.cuda()\n",
    "        labels = labels.cuda()\n",
    "        outputs = model(features).squeeze(-1)\n",
    "        loss = criterion(outputs, labels)\n",
    "        total_loss += loss.item()\n",
    "\n",
    "        optimizer.zero_grad()\n",
    "        loss.backward()\n",
    "        optimizer.step()\n",
    "\n",
    "    # Learning rate update\n",
    "    lr_scheduler.step()\n",
    "\n",
    "    avg_train_loss = total_loss / len(train_loader)\n",
    "\n",
    "    # Validation\n",
    "    model.eval()\n",
    "    total_val_loss = 0.0\n",
    "\n",
    "    with torch.no_grad():\n",
    "        for features, labels in val_loader:\n",
    "            features = features.cuda()\n",
    "            labels = labels.cuda()\n",
    "            outputs = model(features).squeeze(-1)\n",
    "            loss = criterion(outputs, labels)\n",
    "            total_val_loss += loss.item()\n",
    "\n",
    "    avg_val_loss = total_val_loss / len(val_loader)\n",
    "\n",
    "    # Checkpoint\n",
    "    if avg_val_loss < best_val_loss:\n",
    "        best_val_loss = avg_val_loss\n",
    "        torch.save(model.state_dict(), 'best_model.pth')\n",
    "\n",
    "    print(f'Epoch {epoch+1}/{epochs}, Train loss: {avg_train_loss:.4f}, Val loss: {avg_val_loss:.4f}, Best Val loss: {best_val_loss:.4f}')\n",
    "\n",
    "    # Store performance\n",
    "    train_losses.append(avg_train_loss)\n",
    "    val_losses.append(avg_val_loss)"
   ]
  },
  {
   "cell_type": "code",
   "execution_count": 97,
   "id": "utGBQDU0oTvu",
   "metadata": {
    "colab": {
     "base_uri": "https://localhost:8080/",
     "height": 465
    },
    "id": "utGBQDU0oTvu",
    "outputId": "d315a7f7-ebf0-44ca-95a9-8163727f0e60"
   },
   "outputs": [
    {
     "data": {
      "image/png": "[encoded data removed]",
      "text/plain": [
       "<Figure size 1000x500 with 1 Axes>"
      ]
     },
     "metadata": {},
     "output_type": "display_data"
    }
   ],
   "source": [
    "import matplotlib.pyplot as plt\n",
    "\n",
    "plt.figure(figsize=(10, 5))\n",
    "plt.plot(train_losses)\n",
    "plt.plot(val_losses)\n",
    "plt.xlabel('Epochs')\n",
    "plt.ylabel('Loss')\n",
    "plt.legend(['Train', 'Val'])\n",
    "\n",
    "plt.show()"
   ]
  },
  {
   "cell_type": "code",
   "execution_count": 98,
   "id": "AuD44GAkoXWo",
   "metadata": {
    "colab": {
     "base_uri": "https://localhost:8080/"
    },
    "id": "AuD44GAkoXWo",
    "outputId": "43ef83ee-d961-4d05-8266-565a036b4e29"
   },
   "outputs": [
    {
     "name": "stdout",
     "output_type": "stream",
     "text": [
      "Test MSE: 281.5446\n"
     ]
    }
   ],
   "source": [
    "import torch\n",
    "import torch.nn as nn\n",
    "\n",
    "# Load the trained weights\n",
    "model.load_state_dict(torch.load('best_model.pth'))\n",
    "\n",
    "# Set the model to evaluation mode\n",
    "model.eval()\n",
    "\n",
    "# Initialize variables for testing\n",
    "test_correct = 0\n",
    "test_total = 0\n",
    "\n",
    "pred_value = []\n",
    "actual_value = []\n",
    "\n",
    "# Initialize MSE loss function\n",
    "criterion = nn.MSELoss()\n",
    "\n",
    "# Initialize variable to accumulate the MSE loss\n",
    "total_test_loss = 0\n",
    "\n",
    "with torch.no_grad():\n",
    "    for features, labels in test_loader:\n",
    "        features = features.cuda()\n",
    "        labels = labels.cuda()\n",
    "\n",
    "        # Forward pass: compute predicted values\n",
    "        outputs = model(features).squeeze(-1)\n",
    "\n",
    "        # Calculate the MSE for this batch\n",
    "        loss = criterion(outputs, labels)\n",
    "        total_test_loss += loss.item()\n",
    "\n",
    "        # Store predictions and actual values\n",
    "        pred_value.append(outputs.cpu())\n",
    "        actual_value.append(labels.cpu())\n",
    "\n",
    "# Concatenate all predictions and actual values\n",
    "pred_value = torch.cat(pred_value)\n",
    "actual_value = torch.cat(actual_value)\n",
    "\n",
    "# Calculate the average MSE for the entire test set\n",
    "average_test_loss = total_test_loss / len(test_loader)\n",
    "print(f'Test MSE: {average_test_loss:.4f}')"
   ]
  },
  {
   "cell_type": "code",
   "execution_count": 99,
   "id": "C8bspFxgoaS-",
   "metadata": {
    "colab": {
     "base_uri": "https://localhost:8080/",
     "height": 465
    },
    "id": "C8bspFxgoaS-",
    "outputId": "869fe9f4-c052-4117-d399-3532ee62eb75"
   },
   "outputs": [
    {
     "data": {
      "image/png": "[encoded data removed]",
      "text/plain": [
       "<Figure size 1000x500 with 1 Axes>"
      ]
     },
     "metadata": {},
     "output_type": "display_data"
    }
   ],
   "source": [
    "plt.figure(figsize=(10, 5))\n",
    "plt.plot(pred_value[:])\n",
    "plt.plot(actual_value[:])\n",
    "plt.xlabel('Day')\n",
    "plt.ylabel('Price')\n",
    "plt.legend(['Pred', 'Actual'])\n",
    "\n",
    "plt.show()"
   ]
  },
  {
   "cell_type": "markdown",
   "id": "PuwEjEgGoiNT",
   "metadata": {
    "id": "PuwEjEgGoiNT"
   },
   "source": [
    "## **Selected Features: Open,Close**"
   ]
  },
  {
   "cell_type": "code",
   "execution_count": 100,
   "id": "SjaUobSCoip3",
   "metadata": {
    "id": "SjaUobSCoip3"
   },
   "outputs": [],
   "source": [
    "import numpy as np\n",
    "import torch\n",
    "\n",
    "seed = 42\n",
    "\n",
    "# 固定 NumPy 的隨機種子\n",
    "np.random.seed(seed)\n",
    "\n",
    "# 固定 PyTorch 的隨機種子\n",
    "torch.manual_seed(seed)  # 設定 CPU 隨機種子\n",
    "torch.cuda.manual_seed(seed)  # 設定單張 GPU 隨機種子\n",
    "torch.cuda.manual_seed_all(seed)  # 設定所有 GPU 隨機種子（如果有多張）\n",
    "\n",
    "# 讓 CuDNN 的計算保持確定性\n",
    "torch.backends.cudnn.deterministic = True\n",
    "torch.backends.cudnn.benchmark = False\n"
   ]
  },
  {
   "cell_type": "code",
   "execution_count": 101,
   "id": "CTBDJWetojvH",
   "metadata": {
    "id": "CTBDJWetojvH"
   },
   "outputs": [],
   "source": [
    "def create_sequences(input_data, output_data, window_size, step):\n",
    "    sequences = []\n",
    "    labels = []\n",
    "    for i in range(0, len(input_data) - window_size, step):\n",
    "        sequences.append(input_data[i:(i + window_size)])\n",
    "        labels.append(output_data[i + window_size])\n",
    "    return np.array(sequences), np.array(labels)"
   ]
  },
  {
   "cell_type": "code",
   "execution_count": 102,
   "id": "tixzrJa9ojqW",
   "metadata": {
    "colab": {
     "base_uri": "https://localhost:8080/"
    },
    "id": "tixzrJa9ojqW",
    "outputId": "53f25cba-1f75-436e-dddb-147f370573c6"
   },
   "outputs": [
    {
     "name": "stdout",
     "output_type": "stream",
     "text": [
      "Shape of data X: (471, 30, 2)\n",
      "Shape of data y: (471,)\n",
      "Shape of data x_train: (339, 30, 2)\n",
      "Shape of data y_train: (339,)\n",
      "Shape of data x_val: (85, 30, 2)\n",
      "Shape of data y_val: (85,)\n",
      "Shape of data x_test: (47, 30, 2)\n",
      "Shape of data y_test: (47,)\n",
      "Number of samples in training and validation are 339 and 85.\n"
     ]
    }
   ],
   "source": [
    "import numpy as np\n",
    "import torch\n",
    "from torch.utils.data import DataLoader, TensorDataset\n",
    "import matplotlib.pyplot as plt\n",
    "\n",
    "# Select features - now using only 'Open' and 'Close'\n",
    "features = df[['Open', 'Close']]\n",
    "labels = df['High'].shift(-1)  # Next day's high price as label\n",
    "\n",
    "X, y = create_sequences(features, labels, window_size=30, step=10)\n",
    "\n",
    "print(f'Shape of data X: {X.shape}')\n",
    "print(f'Shape of data y: {y.shape}')\n",
    "\n",
    "# split the hold-out tests\n",
    "ind = np.linspace(0, len(X)-1, num=int(len(X)*0.1), dtype=int) # 10% hold-out\n",
    "x_test = X[ind]\n",
    "y_test = y[ind]\n",
    "all_ind = np.arange(len(X))\n",
    "remains_ind = np.delete(all_ind, ind)\n",
    "\n",
    "X = X[remains_ind]\n",
    "y = y[remains_ind]\n",
    "\n",
    "# shuffle dataset\n",
    "ind = np.random.permutation(len(X))\n",
    "X = X[ind]\n",
    "y = y[ind]\n",
    "split_point = int(X.shape[0]*0.8)\n",
    "\n",
    "x_train = X[:split_point]\n",
    "y_train = y[:split_point]\n",
    "x_val = X[split_point:]\n",
    "y_val = y[split_point:]\n",
    "\n",
    "print(f'Shape of data x_train: {x_train.shape}')\n",
    "print(f'Shape of data y_train: {y_train.shape}')\n",
    "print(f'Shape of data x_val: {x_val.shape}')\n",
    "print(f'Shape of data y_val: {y_val.shape}')\n",
    "print(f'Shape of data x_test: {x_test.shape}')\n",
    "print(f'Shape of data y_test: {y_test.shape}')\n",
    "\n",
    "# Convert to PyTorch tensors\n",
    "x_train = torch.from_numpy(x_train).float()\n",
    "y_train = torch.from_numpy(y_train).float()\n",
    "\n",
    "x_val = torch.from_numpy(x_val).float()\n",
    "y_val = torch.from_numpy(y_val).float()\n",
    "\n",
    "x_test = torch.from_numpy(x_test).float()\n",
    "y_test = torch.from_numpy(y_test).float()\n",
    "\n",
    "batch_size = 32\n",
    "\n",
    "# Create datasets\n",
    "train_dataset = TensorDataset(x_train, y_train)\n",
    "val_dataset = TensorDataset(x_val, y_val)\n",
    "test_dataset = TensorDataset(x_test, y_test)\n",
    "\n",
    "# Create dataloaders\n",
    "train_loader = DataLoader(train_dataset, batch_size=batch_size, shuffle=True)\n",
    "val_loader = DataLoader(val_dataset, batch_size=batch_size, shuffle=False)\n",
    "test_loader = DataLoader(test_dataset, batch_size=batch_size, shuffle=False)\n",
    "\n",
    "print(f'Number of samples in training and validation are {len(train_loader.dataset)} and {len(val_loader.dataset)}.')\n"
   ]
  },
  {
   "cell_type": "code",
   "execution_count": 103,
   "id": "kalPUHcVojnN",
   "metadata": {
    "id": "kalPUHcVojnN"
   },
   "outputs": [],
   "source": [
    "import torch.nn as nn\n",
    "\n",
    "class LSTMModel(nn.Module):\n",
    "    def __init__(self, input_dim, hidden_dim, num_layers, output_dim):\n",
    "        super().__init__()\n",
    "        self.hidden_dim = hidden_dim\n",
    "        self.num_layers = num_layers\n",
    "        self.lstm = nn.LSTM(input_dim, hidden_dim, num_layers, batch_first=True)\n",
    "        self.fc = nn.Linear(hidden_dim, output_dim)\n",
    "\n",
    "    def forward(self, x):\n",
    "        out, _ = self.lstm(x)\n",
    "        out = self.fc(out[:, -1, :])\n",
    "        return out"
   ]
  },
  {
   "cell_type": "code",
   "execution_count": 104,
   "id": "dB7DWO0PojkG",
   "metadata": {
    "colab": {
     "base_uri": "https://localhost:8080/"
    },
    "id": "dB7DWO0PojkG",
    "outputId": "889f0401-91d0-4118-ea45-3a0368374cd1"
   },
   "outputs": [
    {
     "name": "stdout",
     "output_type": "stream",
     "text": [
      "Wed Apr 30 12:50:31 2025       \n",
      "+-----------------------------------------------------------------------------------------+\n",
      "| NVIDIA-SMI 550.54.15              Driver Version: 550.54.15      CUDA Version: 12.4     |\n",
      "|-----------------------------------------+------------------------+----------------------+\n",
      "| GPU  Name                 Persistence-M | Bus-Id          Disp.A | Volatile Uncorr. ECC |\n",
      "| Fan  Temp   Perf          Pwr:Usage/Cap |           Memory-Usage | GPU-Util  Compute M. |\n",
      "|                                         |                        |               MIG M. |\n",
      "|=========================================+========================+======================|\n",
      "|   0  Tesla T4                       Off |   00000000:00:04.0 Off |                    0 |\n",
      "| N/A   61C    P0             37W /   70W |     344MiB /  15360MiB |      1%      Default |\n",
      "|                                         |                        |                  N/A |\n",
      "+-----------------------------------------+------------------------+----------------------+\n",
      "                                                                                         \n",
      "+-----------------------------------------------------------------------------------------+\n",
      "| Processes:                                                                              |\n",
      "|  GPU   GI   CI        PID   Type   Process name                              GPU Memory |\n",
      "|        ID   ID                                                               Usage      |\n",
      "|=========================================================================================|\n",
      "+-----------------------------------------------------------------------------------------+\n"
     ]
    }
   ],
   "source": [
    "# Check your GPU status.\n",
    "!nvidia-smi"
   ]
  },
  {
   "cell_type": "code",
   "execution_count": 105,
   "id": "5gXEfqKAojhY",
   "metadata": {
    "colab": {
     "base_uri": "https://localhost:8080/",
     "height": 1000,
     "referenced_widgets": [
      "b5e36cd22a9940e8b31769f440741b39",
      "b024be01e35441259376f964ae2fecd3",
      "ed892f2970ad403d9e2cd20ce60a1644",
      "91cd38b6b2dd41f2a98be9076272296f",
      "5ed9f697e8b540c6b0be10fa0e82caac",
      "8b885cbad3ca4fa5b1a6d00830447171",
      "6549113fc2bd4089b51d7a6d36ef17f6",
      "26c0a1877b234b1497f5cc327adf637b",
      "73072c71bfa645acb8d89a7e3683c95a",
      "2e7d5fca960e484880b076036659ced0",
      "ca358de05f7a438799cd59ff42313568"
     ]
    },
    "id": "5gXEfqKAojhY",
    "outputId": "5c97f2bb-2da5-4103-a485-7af059a93459"
   },
   "outputs": [
    {
     "name": "stdout",
     "output_type": "stream",
     "text": [
      "LSTMModel(\n",
      "  (lstm): LSTM(2, 500, num_layers=2, batch_first=True)\n",
      "  (fc): Linear(in_features=500, out_features=1, bias=True)\n",
      ")\n"
     ]
    },
    {
     "data": {
      "application/vnd.jupyter.widget-view+json": {
       "model_id": "b5e36cd22a9940e8b31769f440741b39",
       "version_major": 2,
       "version_minor": 0
      },
      "text/plain": [
       "  0%|          | 0/100 [00:00<?, ?it/s]"
      ]
     },
     "metadata": {},
     "output_type": "display_data"
    },
    {
     "name": "stdout",
     "output_type": "stream",
     "text": [
      "Epoch 1/100, Train loss: 939.0640, Val loss: 1486.1850, Best Val loss: 1486.1850\n",
      "Epoch 2/100, Train loss: 813.0199, Val loss: 1425.9257, Best Val loss: 1425.9257\n",
      "Epoch 3/100, Train loss: 805.7474, Val loss: 1406.4088, Best Val loss: 1406.4088\n",
      "Epoch 4/100, Train loss: 761.8611, Val loss: 1405.8221, Best Val loss: 1405.8221\n",
      "Epoch 5/100, Train loss: 757.1478, Val loss: 1405.5815, Best Val loss: 1405.5815\n",
      "Epoch 6/100, Train loss: 753.1246, Val loss: 1406.6462, Best Val loss: 1405.5815\n",
      "Epoch 7/100, Train loss: 774.5049, Val loss: 1410.5792, Best Val loss: 1405.5815\n",
      "Epoch 8/100, Train loss: 751.8990, Val loss: 1406.0501, Best Val loss: 1405.5815\n",
      "Epoch 9/100, Train loss: 771.5999, Val loss: 1399.7213, Best Val loss: 1399.7213\n",
      "Epoch 10/100, Train loss: 769.9197, Val loss: 1395.2432, Best Val loss: 1395.2432\n",
      "Epoch 11/100, Train loss: 768.3255, Val loss: 1390.1970, Best Val loss: 1390.1970\n",
      "Epoch 12/100, Train loss: 745.2987, Val loss: 1386.9909, Best Val loss: 1386.9909\n",
      "Epoch 13/100, Train loss: 763.4894, Val loss: 1383.2820, Best Val loss: 1383.2820\n",
      "Epoch 14/100, Train loss: 736.6718, Val loss: 1375.4593, Best Val loss: 1375.4593\n",
      "Epoch 15/100, Train loss: 761.0788, Val loss: 1375.0622, Best Val loss: 1375.0622\n",
      "Epoch 16/100, Train loss: 736.9802, Val loss: 1367.7539, Best Val loss: 1367.7539\n",
      "Epoch 17/100, Train loss: 732.3569, Val loss: 1361.5938, Best Val loss: 1361.5938\n",
      "Epoch 18/100, Train loss: 722.1407, Val loss: 1357.9022, Best Val loss: 1357.9022\n",
      "Epoch 19/100, Train loss: 782.1942, Val loss: 1352.5180, Best Val loss: 1352.5180\n",
      "Epoch 20/100, Train loss: 719.4978, Val loss: 1339.1595, Best Val loss: 1339.1595\n",
      "Epoch 21/100, Train loss: 798.1450, Val loss: 1334.7104, Best Val loss: 1334.7104\n",
      "Epoch 22/100, Train loss: 710.8913, Val loss: 1321.2509, Best Val loss: 1321.2509\n",
      "Epoch 23/100, Train loss: 733.2126, Val loss: 1312.5295, Best Val loss: 1312.5295\n",
      "Epoch 24/100, Train loss: 709.0062, Val loss: 1300.1778, Best Val loss: 1300.1778\n",
      "Epoch 25/100, Train loss: 688.0972, Val loss: 1285.7691, Best Val loss: 1285.7691\n",
      "Epoch 26/100, Train loss: 686.1704, Val loss: 1275.6833, Best Val loss: 1275.6833\n",
      "Epoch 27/100, Train loss: 651.9470, Val loss: 1255.0788, Best Val loss: 1255.0788\n",
      "Epoch 28/100, Train loss: 673.3560, Val loss: 1238.6134, Best Val loss: 1238.6134\n",
      "Epoch 29/100, Train loss: 623.3491, Val loss: 1219.8593, Best Val loss: 1219.8593\n",
      "Epoch 30/100, Train loss: 608.3219, Val loss: 1196.6870, Best Val loss: 1196.6870\n",
      "Epoch 31/100, Train loss: 599.3090, Val loss: 1161.6597, Best Val loss: 1161.6597\n",
      "Epoch 32/100, Train loss: 571.4083, Val loss: 1086.1603, Best Val loss: 1086.1603\n",
      "Epoch 33/100, Train loss: 489.4041, Val loss: 1010.0329, Best Val loss: 1010.0329\n",
      "Epoch 34/100, Train loss: 435.2631, Val loss: 934.1321, Best Val loss: 934.1321\n",
      "Epoch 35/100, Train loss: 392.8437, Val loss: 862.4897, Best Val loss: 862.4897\n",
      "Epoch 36/100, Train loss: 401.7108, Val loss: 807.0609, Best Val loss: 807.0609\n",
      "Epoch 37/100, Train loss: 327.2390, Val loss: 747.1989, Best Val loss: 747.1989\n",
      "Epoch 38/100, Train loss: 296.3462, Val loss: 699.4581, Best Val loss: 699.4581\n",
      "Epoch 39/100, Train loss: 278.0377, Val loss: 655.6206, Best Val loss: 655.6206\n",
      "Epoch 40/100, Train loss: 245.0542, Val loss: 612.7565, Best Val loss: 612.7565\n",
      "Epoch 41/100, Train loss: 235.8929, Val loss: 575.6037, Best Val loss: 575.6037\n",
      "Epoch 42/100, Train loss: 209.8433, Val loss: 541.9666, Best Val loss: 541.9666\n",
      "Epoch 43/100, Train loss: 210.6357, Val loss: 515.5296, Best Val loss: 515.5296\n",
      "Epoch 44/100, Train loss: 201.2981, Val loss: 485.4104, Best Val loss: 485.4104\n",
      "Epoch 45/100, Train loss: 169.8858, Val loss: 461.5004, Best Val loss: 461.5004\n",
      "Epoch 46/100, Train loss: 156.8324, Val loss: 434.8992, Best Val loss: 434.8992\n",
      "Epoch 47/100, Train loss: 158.3258, Val loss: 413.6701, Best Val loss: 413.6701\n",
      "Epoch 48/100, Train loss: 153.6828, Val loss: 393.7377, Best Val loss: 393.7377\n",
      "Epoch 49/100, Train loss: 152.5920, Val loss: 375.0105, Best Val loss: 375.0105\n",
      "Epoch 50/100, Train loss: 126.4710, Val loss: 354.7583, Best Val loss: 354.7583\n",
      "Epoch 51/100, Train loss: 114.3508, Val loss: 336.6881, Best Val loss: 336.6881\n",
      "Epoch 52/100, Train loss: 107.8515, Val loss: 319.9027, Best Val loss: 319.9027\n",
      "Epoch 53/100, Train loss: 101.3608, Val loss: 307.9353, Best Val loss: 307.9353\n",
      "Epoch 54/100, Train loss: 96.2651, Val loss: 294.2406, Best Val loss: 294.2406\n",
      "Epoch 55/100, Train loss: 90.7997, Val loss: 283.4936, Best Val loss: 283.4936\n",
      "Epoch 56/100, Train loss: 87.6304, Val loss: 271.6230, Best Val loss: 271.6230\n",
      "Epoch 57/100, Train loss: 82.5746, Val loss: 262.0251, Best Val loss: 262.0251\n",
      "Epoch 58/100, Train loss: 87.9087, Val loss: 253.6704, Best Val loss: 253.6704\n",
      "Epoch 59/100, Train loss: 77.9159, Val loss: 244.4377, Best Val loss: 244.4377\n",
      "Epoch 60/100, Train loss: 72.6250, Val loss: 234.4166, Best Val loss: 234.4166\n",
      "Epoch 61/100, Train loss: 69.7524, Val loss: 225.8617, Best Val loss: 225.8617\n",
      "Epoch 62/100, Train loss: 67.4234, Val loss: 218.4320, Best Val loss: 218.4320\n",
      "Epoch 63/100, Train loss: 70.2362, Val loss: 211.6609, Best Val loss: 211.6609\n",
      "Epoch 64/100, Train loss: 62.4003, Val loss: 203.4426, Best Val loss: 203.4426\n",
      "Epoch 65/100, Train loss: 58.9412, Val loss: 195.1354, Best Val loss: 195.1354\n",
      "Epoch 66/100, Train loss: 54.8379, Val loss: 188.2842, Best Val loss: 188.2842\n",
      "Epoch 67/100, Train loss: 54.0238, Val loss: 183.8894, Best Val loss: 183.8894\n",
      "Epoch 68/100, Train loss: 52.7592, Val loss: 177.3064, Best Val loss: 177.3064\n",
      "Epoch 69/100, Train loss: 50.6512, Val loss: 170.9419, Best Val loss: 170.9419\n",
      "Epoch 70/100, Train loss: 48.6266, Val loss: 163.6022, Best Val loss: 163.6022\n",
      "Epoch 71/100, Train loss: 47.8336, Val loss: 162.4170, Best Val loss: 162.4170\n",
      "Epoch 72/100, Train loss: 44.4684, Val loss: 152.8388, Best Val loss: 152.8388\n",
      "Epoch 73/100, Train loss: 55.6346, Val loss: 148.9887, Best Val loss: 148.9887\n",
      "Epoch 74/100, Train loss: 40.3134, Val loss: 140.1512, Best Val loss: 140.1512\n",
      "Epoch 75/100, Train loss: 37.9228, Val loss: 135.7413, Best Val loss: 135.7413\n",
      "Epoch 76/100, Train loss: 36.6329, Val loss: 130.5332, Best Val loss: 130.5332\n",
      "Epoch 77/100, Train loss: 35.8687, Val loss: 129.3812, Best Val loss: 129.3812\n",
      "Epoch 78/100, Train loss: 33.8264, Val loss: 120.3492, Best Val loss: 120.3492\n",
      "Epoch 79/100, Train loss: 33.1907, Val loss: 118.1059, Best Val loss: 118.1059\n",
      "Epoch 80/100, Train loss: 31.6200, Val loss: 113.1602, Best Val loss: 113.1602\n",
      "Epoch 81/100, Train loss: 29.8719, Val loss: 111.1053, Best Val loss: 111.1053\n",
      "Epoch 82/100, Train loss: 28.9251, Val loss: 106.1275, Best Val loss: 106.1275\n",
      "Epoch 83/100, Train loss: 27.5386, Val loss: 103.7013, Best Val loss: 103.7013\n",
      "Epoch 84/100, Train loss: 26.8810, Val loss: 98.9201, Best Val loss: 98.9201\n",
      "Epoch 85/100, Train loss: 28.3540, Val loss: 95.5951, Best Val loss: 95.5951\n",
      "Epoch 86/100, Train loss: 25.6346, Val loss: 93.5304, Best Val loss: 93.5304\n",
      "Epoch 87/100, Train loss: 25.2801, Val loss: 88.8627, Best Val loss: 88.8627\n",
      "Epoch 88/100, Train loss: 23.4283, Val loss: 87.1560, Best Val loss: 87.1560\n",
      "Epoch 89/100, Train loss: 21.8007, Val loss: 82.7178, Best Val loss: 82.7178\n",
      "Epoch 90/100, Train loss: 23.0792, Val loss: 80.5660, Best Val loss: 80.5660\n",
      "Epoch 91/100, Train loss: 19.7851, Val loss: 78.9817, Best Val loss: 78.9817\n",
      "Epoch 92/100, Train loss: 19.4620, Val loss: 75.4292, Best Val loss: 75.4292\n",
      "Epoch 93/100, Train loss: 31.5316, Val loss: 74.8717, Best Val loss: 74.8717\n",
      "Epoch 94/100, Train loss: 19.1302, Val loss: 70.8838, Best Val loss: 70.8838\n",
      "Epoch 95/100, Train loss: 17.8511, Val loss: 67.2411, Best Val loss: 67.2411\n",
      "Epoch 96/100, Train loss: 17.0718, Val loss: 66.1812, Best Val loss: 66.1812\n",
      "Epoch 97/100, Train loss: 15.5473, Val loss: 63.2817, Best Val loss: 63.2817\n",
      "Epoch 98/100, Train loss: 16.3915, Val loss: 62.9402, Best Val loss: 62.9402\n",
      "Epoch 99/100, Train loss: 15.7230, Val loss: 59.1512, Best Val loss: 59.1512\n",
      "Epoch 100/100, Train loss: 13.8403, Val loss: 56.9925, Best Val loss: 56.9925\n"
     ]
    }
   ],
   "source": [
    "import torch.optim as optim\n",
    "from torch.optim.lr_scheduler import CosineAnnealingLR\n",
    "from tqdm.auto import tqdm\n",
    "\n",
    "train_losses = []\n",
    "val_losses = []\n",
    "\n",
    "epochs = 100\n",
    "\n",
    "model = LSTMModel(input_dim=2, hidden_dim=500, num_layers=2, output_dim=1).cuda()\n",
    "print(model)\n",
    "\n",
    "best_val_loss = float('inf')\n",
    "\n",
    "criterion = nn.MSELoss()\n",
    "optimizer = optim.Adam(model.parameters(), lr=1e-3)\n",
    "lr_scheduler = CosineAnnealingLR(optimizer, T_max=epochs, eta_min=9e-4)\n",
    "\n",
    "for epoch in tqdm(range(epochs)):\n",
    "    # Training\n",
    "    model.train()\n",
    "    total_loss = 0.0\n",
    "\n",
    "    for features, labels in train_loader:\n",
    "        features = features.cuda()\n",
    "        labels = labels.cuda()\n",
    "        outputs = model(features).squeeze(-1)\n",
    "        loss = criterion(outputs, labels)\n",
    "        total_loss += loss.item()\n",
    "\n",
    "        optimizer.zero_grad()\n",
    "        loss.backward()\n",
    "        optimizer.step()\n",
    "\n",
    "    # Learning rate update\n",
    "    lr_scheduler.step()\n",
    "\n",
    "    avg_train_loss = total_loss / len(train_loader)\n",
    "\n",
    "    # Validation\n",
    "    model.eval()\n",
    "    total_val_loss = 0.0\n",
    "\n",
    "    with torch.no_grad():\n",
    "        for features, labels in val_loader:\n",
    "            features = features.cuda()\n",
    "            labels = labels.cuda()\n",
    "            outputs = model(features).squeeze(-1)\n",
    "            loss = criterion(outputs, labels)\n",
    "            total_val_loss += loss.item()\n",
    "\n",
    "    avg_val_loss = total_val_loss / len(val_loader)\n",
    "\n",
    "    # Checkpoint\n",
    "    if avg_val_loss < best_val_loss:\n",
    "        best_val_loss = avg_val_loss\n",
    "        torch.save(model.state_dict(), 'best_model.pth')\n",
    "\n",
    "    print(f'Epoch {epoch+1}/{epochs}, Train loss: {avg_train_loss:.4f}, Val loss: {avg_val_loss:.4f}, Best Val loss: {best_val_loss:.4f}')\n",
    "\n",
    "    # Store performance\n",
    "    train_losses.append(avg_train_loss)\n",
    "    val_losses.append(avg_val_loss)"
   ]
  },
  {
   "cell_type": "code",
   "execution_count": 106,
   "id": "FpHBSJcCojeA",
   "metadata": {
    "colab": {
     "base_uri": "https://localhost:8080/",
     "height": 465
    },
    "id": "FpHBSJcCojeA",
    "outputId": "93407561-4c25-4f45-bbc3-2e2aa26a8221"
   },
   "outputs": [
    {
     "data": {
      "image/png": "[encoded data removed]",
      "text/plain": [
       "<Figure size 1000x500 with 1 Axes>"
      ]
     },
     "metadata": {},
     "output_type": "display_data"
    }
   ],
   "source": [
    "import matplotlib.pyplot as plt\n",
    "\n",
    "plt.figure(figsize=(10, 5))\n",
    "plt.plot(train_losses)\n",
    "plt.plot(val_losses)\n",
    "plt.xlabel('Epochs')\n",
    "plt.ylabel('Loss')\n",
    "plt.legend(['Train', 'Val'])\n",
    "\n",
    "plt.show()"
   ]
  },
  {
   "cell_type": "code",
   "execution_count": 107,
   "id": "ZGNLf9G7ojWi",
   "metadata": {
    "colab": {
     "base_uri": "https://localhost:8080/"
    },
    "id": "ZGNLf9G7ojWi",
    "outputId": "64ff90c4-139d-4639-e4ec-b8dfb8b47167"
   },
   "outputs": [
    {
     "name": "stdout",
     "output_type": "stream",
     "text": [
      "Test MSE: 123.2502\n"
     ]
    }
   ],
   "source": [
    "import torch\n",
    "import torch.nn as nn\n",
    "\n",
    "# Load the trained weights\n",
    "model.load_state_dict(torch.load('best_model.pth'))\n",
    "\n",
    "# Set the model to evaluation mode\n",
    "model.eval()\n",
    "\n",
    "# Initialize variables for testing\n",
    "test_correct = 0\n",
    "test_total = 0\n",
    "\n",
    "pred_value = []\n",
    "actual_value = []\n",
    "\n",
    "# Initialize MSE loss function\n",
    "criterion = nn.MSELoss()\n",
    "\n",
    "# Initialize variable to accumulate the MSE loss\n",
    "total_test_loss = 0\n",
    "\n",
    "with torch.no_grad():\n",
    "    for features, labels in test_loader:\n",
    "        features = features.cuda()\n",
    "        labels = labels.cuda()\n",
    "\n",
    "        # Forward pass: compute predicted values\n",
    "        outputs = model(features).squeeze(-1)\n",
    "\n",
    "        # Calculate the MSE for this batch\n",
    "        loss = criterion(outputs, labels)\n",
    "        total_test_loss += loss.item()\n",
    "\n",
    "        # Store predictions and actual values\n",
    "        pred_value.append(outputs.cpu())\n",
    "        actual_value.append(labels.cpu())\n",
    "\n",
    "# Concatenate all predictions and actual values\n",
    "pred_value = torch.cat(pred_value)\n",
    "actual_value = torch.cat(actual_value)\n",
    "\n",
    "# Calculate the average MSE for the entire test set\n",
    "average_test_loss = total_test_loss / len(test_loader)\n",
    "print(f'Test MSE: {average_test_loss:.4f}')"
   ]
  },
  {
   "cell_type": "code",
   "execution_count": 108,
   "id": "yUbNRC52ojK7",
   "metadata": {
    "colab": {
     "base_uri": "https://localhost:8080/",
     "height": 465
    },
    "id": "yUbNRC52ojK7",
    "outputId": "cc3ae0f8-415a-47c5-ed5d-4fce23584951"
   },
   "outputs": [
    {
     "data": {
      "image/png": "[encoded data removed]",
      "text/plain": [
       "<Figure size 1000x500 with 1 Axes>"
      ]
     },
     "metadata": {},
     "output_type": "display_data"
    }
   ],
   "source": [
    "plt.figure(figsize=(10, 5))\n",
    "plt.plot(pred_value[:])\n",
    "plt.plot(actual_value[:])\n",
    "plt.xlabel('Day')\n",
    "plt.ylabel('Price')\n",
    "plt.legend(['Pred', 'Actual'])\n",
    "\n",
    "plt.show()"
   ]
  },
  {
   "cell_type": "markdown",
   "id": "P03E6nkvpJMB",
   "metadata": {
    "id": "P03E6nkvpJMB"
   },
   "source": [
    "# **Selected Features: High,Low,Close**"
   ]
  },
  {
   "cell_type": "code",
   "execution_count": 109,
   "id": "hl7CK6u3pJpo",
   "metadata": {
    "id": "hl7CK6u3pJpo"
   },
   "outputs": [],
   "source": [
    "import numpy as np\n",
    "import torch\n",
    "\n",
    "seed = 42\n",
    "\n",
    "# 固定 NumPy 的隨機種子\n",
    "np.random.seed(seed)\n",
    "\n",
    "# 固定 PyTorch 的隨機種子\n",
    "torch.manual_seed(seed)  # 設定 CPU 隨機種子\n",
    "torch.cuda.manual_seed(seed)  # 設定單張 GPU 隨機種子\n",
    "torch.cuda.manual_seed_all(seed)  # 設定所有 GPU 隨機種子（如果有多張）\n",
    "\n",
    "# 讓 CuDNN 的計算保持確定性\n",
    "torch.backends.cudnn.deterministic = True\n",
    "torch.backends.cudnn.benchmark = False\n"
   ]
  },
  {
   "cell_type": "code",
   "execution_count": 110,
   "id": "FKrBXFF8pKmo",
   "metadata": {
    "id": "FKrBXFF8pKmo"
   },
   "outputs": [],
   "source": [
    "def create_sequences(input_data, output_data, window_size, step):\n",
    "    sequences = []\n",
    "    labels = []\n",
    "    for i in range(0, len(input_data) - window_size, step):\n",
    "        sequences.append(input_data[i:(i + window_size)])\n",
    "        labels.append(output_data[i + window_size])\n",
    "    return np.array(sequences), np.array(labels)"
   ]
  },
  {
   "cell_type": "code",
   "execution_count": 111,
   "id": "jEOpk5Y0pKkt",
   "metadata": {
    "colab": {
     "base_uri": "https://localhost:8080/"
    },
    "id": "jEOpk5Y0pKkt",
    "outputId": "61bce9e1-58c8-43c1-fc0b-d06a031854d6"
   },
   "outputs": [
    {
     "name": "stdout",
     "output_type": "stream",
     "text": [
      "Shape of data X: (471, 30, 3)\n",
      "Shape of data y: (471,)\n",
      "Shape of data x_train: (339, 30, 3)\n",
      "Shape of data y_train: (339,)\n",
      "Shape of data x_val: (85, 30, 3)\n",
      "Shape of data y_val: (85,)\n",
      "Shape of data x_test: (47, 30, 3)\n",
      "Shape of data y_test: (47,)\n",
      "Number of samples in training and validation are 339 and 85.\n"
     ]
    }
   ],
   "source": [
    "import numpy as np\n",
    "import torch\n",
    "from torch.utils.data import DataLoader, TensorDataset\n",
    "import matplotlib.pyplot as plt\n",
    "\n",
    "# Select features - now using only 'Open' and 'Close'\n",
    "features = df[['High','Low','Close']]\n",
    "labels = df['High'].shift(-1)  # Next day's high price as label\n",
    "\n",
    "X, y = create_sequences(features, labels, window_size=30, step=10)\n",
    "\n",
    "print(f'Shape of data X: {X.shape}')\n",
    "print(f'Shape of data y: {y.shape}')\n",
    "\n",
    "# split the hold-out tests\n",
    "ind = np.linspace(0, len(X)-1, num=int(len(X)*0.1), dtype=int) # 10% hold-out\n",
    "x_test = X[ind]\n",
    "y_test = y[ind]\n",
    "all_ind = np.arange(len(X))\n",
    "remains_ind = np.delete(all_ind, ind)\n",
    "\n",
    "X = X[remains_ind]\n",
    "y = y[remains_ind]\n",
    "\n",
    "# shuffle dataset\n",
    "ind = np.random.permutation(len(X))\n",
    "X = X[ind]\n",
    "y = y[ind]\n",
    "split_point = int(X.shape[0]*0.8)\n",
    "\n",
    "x_train = X[:split_point]\n",
    "y_train = y[:split_point]\n",
    "x_val = X[split_point:]\n",
    "y_val = y[split_point:]\n",
    "\n",
    "print(f'Shape of data x_train: {x_train.shape}')\n",
    "print(f'Shape of data y_train: {y_train.shape}')\n",
    "print(f'Shape of data x_val: {x_val.shape}')\n",
    "print(f'Shape of data y_val: {y_val.shape}')\n",
    "print(f'Shape of data x_test: {x_test.shape}')\n",
    "print(f'Shape of data y_test: {y_test.shape}')\n",
    "\n",
    "# Convert to PyTorch tensors\n",
    "x_train = torch.from_numpy(x_train).float()\n",
    "y_train = torch.from_numpy(y_train).float()\n",
    "\n",
    "x_val = torch.from_numpy(x_val).float()\n",
    "y_val = torch.from_numpy(y_val).float()\n",
    "\n",
    "x_test = torch.from_numpy(x_test).float()\n",
    "y_test = torch.from_numpy(y_test).float()\n",
    "\n",
    "batch_size = 32\n",
    "\n",
    "# Create datasets\n",
    "train_dataset = TensorDataset(x_train, y_train)\n",
    "val_dataset = TensorDataset(x_val, y_val)\n",
    "test_dataset = TensorDataset(x_test, y_test)\n",
    "\n",
    "# Create dataloaders\n",
    "train_loader = DataLoader(train_dataset, batch_size=batch_size, shuffle=True)\n",
    "val_loader = DataLoader(val_dataset, batch_size=batch_size, shuffle=False)\n",
    "test_loader = DataLoader(test_dataset, batch_size=batch_size, shuffle=False)\n",
    "\n",
    "print(f'Number of samples in training and validation are {len(train_loader.dataset)} and {len(val_loader.dataset)}.')\n"
   ]
  },
  {
   "cell_type": "code",
   "execution_count": 112,
   "id": "4UIFsBgapKfW",
   "metadata": {
    "id": "4UIFsBgapKfW"
   },
   "outputs": [],
   "source": [
    "import torch.nn as nn\n",
    "\n",
    "class LSTMModel(nn.Module):\n",
    "    def __init__(self, input_dim, hidden_dim, num_layers, output_dim):\n",
    "        super().__init__()\n",
    "        self.hidden_dim = hidden_dim\n",
    "        self.num_layers = num_layers\n",
    "        self.lstm = nn.LSTM(input_dim, hidden_dim, num_layers, batch_first=True)\n",
    "        self.fc = nn.Linear(hidden_dim, output_dim)\n",
    "\n",
    "    def forward(self, x):\n",
    "        out, _ = self.lstm(x)\n",
    "        out = self.fc(out[:, -1, :])\n",
    "        return out"
   ]
  },
  {
   "cell_type": "code",
   "execution_count": 113,
   "id": "UZ7EmdXbpKb6",
   "metadata": {
    "colab": {
     "base_uri": "https://localhost:8080/"
    },
    "id": "UZ7EmdXbpKb6",
    "outputId": "aba7976a-a7e6-4277-c9d0-8d1c4d10094e"
   },
   "outputs": [
    {
     "name": "stdout",
     "output_type": "stream",
     "text": [
      "Wed Apr 30 12:50:45 2025       \n",
      "+-----------------------------------------------------------------------------------------+\n",
      "| NVIDIA-SMI 550.54.15              Driver Version: 550.54.15      CUDA Version: 12.4     |\n",
      "|-----------------------------------------+------------------------+----------------------+\n",
      "| GPU  Name                 Persistence-M | Bus-Id          Disp.A | Volatile Uncorr. ECC |\n",
      "| Fan  Temp   Perf          Pwr:Usage/Cap |           Memory-Usage | GPU-Util  Compute M. |\n",
      "|                                         |                        |               MIG M. |\n",
      "|=========================================+========================+======================|\n",
      "|   0  Tesla T4                       Off |   00000000:00:04.0 Off |                    0 |\n",
      "| N/A   65C    P0             38W /   70W |     344MiB /  15360MiB |      3%      Default |\n",
      "|                                         |                        |                  N/A |\n",
      "+-----------------------------------------+------------------------+----------------------+\n",
      "                                                                                         \n",
      "+-----------------------------------------------------------------------------------------+\n",
      "| Processes:                                                                              |\n",
      "|  GPU   GI   CI        PID   Type   Process name                              GPU Memory |\n",
      "|        ID   ID                                                               Usage      |\n",
      "|=========================================================================================|\n",
      "+-----------------------------------------------------------------------------------------+\n"
     ]
    }
   ],
   "source": [
    "# Check your GPU status.\n",
    "!nvidia-smi"
   ]
  },
  {
   "cell_type": "code",
   "execution_count": 114,
   "id": "ZUwZiKTHpKY9",
   "metadata": {
    "colab": {
     "base_uri": "https://localhost:8080/",
     "height": 1000,
     "referenced_widgets": [
      "34e865f84a534a5ea86dc850132e3647",
      "6dc6d29b113648bf8cded84a76c045b7",
      "b94de74a2eab4623a170faefba207f5b",
      "03b8a072485b47389a03b18613f47f92",
      "ea67add55f624964bb97eb730e4b2d00",
      "c08af487a07849e48e1eee2649d3c40e",
      "436bbe4a2b2b499dba748d9ebc737507",
      "fbdc0dfef8884d0b8aa615f339829ed7",
      "6e71d842452646879d62919ade0ba252",
      "4df2ebfc2f5c456596c08789814ee781",
      "23a3c3c48b144b5c873c5ee9b0d8dd3e"
     ]
    },
    "id": "ZUwZiKTHpKY9",
    "outputId": "07a5c948-bce1-4741-ac5e-88f73fbdf708"
   },
   "outputs": [
    {
     "name": "stdout",
     "output_type": "stream",
     "text": [
      "LSTMModel(\n",
      "  (lstm): LSTM(3, 500, num_layers=2, batch_first=True)\n",
      "  (fc): Linear(in_features=500, out_features=1, bias=True)\n",
      ")\n"
     ]
    },
    {
     "data": {
      "application/vnd.jupyter.widget-view+json": {
       "model_id": "34e865f84a534a5ea86dc850132e3647",
       "version_major": 2,
       "version_minor": 0
      },
      "text/plain": [
       "  0%|          | 0/100 [00:00<?, ?it/s]"
      ]
     },
     "metadata": {},
     "output_type": "display_data"
    },
    {
     "name": "stdout",
     "output_type": "stream",
     "text": [
      "Epoch 1/100, Train loss: 941.7650, Val loss: 1505.0526, Best Val loss: 1505.0526\n",
      "Epoch 2/100, Train loss: 807.5795, Val loss: 1434.3679, Best Val loss: 1434.3679\n",
      "Epoch 3/100, Train loss: 779.4391, Val loss: 1411.2225, Best Val loss: 1411.2225\n",
      "Epoch 4/100, Train loss: 774.4515, Val loss: 1406.5577, Best Val loss: 1406.5577\n",
      "Epoch 5/100, Train loss: 758.8811, Val loss: 1404.9235, Best Val loss: 1404.9235\n",
      "Epoch 6/100, Train loss: 781.2855, Val loss: 1407.6763, Best Val loss: 1404.9235\n",
      "Epoch 7/100, Train loss: 753.3357, Val loss: 1404.2373, Best Val loss: 1404.2373\n",
      "Epoch 8/100, Train loss: 749.9239, Val loss: 1401.5621, Best Val loss: 1401.5621\n",
      "Epoch 9/100, Train loss: 762.0782, Val loss: 1399.5802, Best Val loss: 1399.5802\n",
      "Epoch 10/100, Train loss: 760.2899, Val loss: 1394.8875, Best Val loss: 1394.8875\n",
      "Epoch 11/100, Train loss: 743.8230, Val loss: 1392.8077, Best Val loss: 1392.8077\n",
      "Epoch 12/100, Train loss: 814.8712, Val loss: 1394.5819, Best Val loss: 1392.8077\n",
      "Epoch 13/100, Train loss: 743.0556, Val loss: 1384.5906, Best Val loss: 1384.5906\n",
      "Epoch 14/100, Train loss: 736.7522, Val loss: 1381.1595, Best Val loss: 1381.1595\n",
      "Epoch 15/100, Train loss: 747.3097, Val loss: 1377.2397, Best Val loss: 1377.2397\n",
      "Epoch 16/100, Train loss: 781.4678, Val loss: 1369.5424, Best Val loss: 1369.5424\n",
      "Epoch 17/100, Train loss: 728.8063, Val loss: 1365.9394, Best Val loss: 1365.9394\n",
      "Epoch 18/100, Train loss: 779.5292, Val loss: 1360.0500, Best Val loss: 1360.0500\n",
      "Epoch 19/100, Train loss: 731.4881, Val loss: 1350.0005, Best Val loss: 1350.0005\n",
      "Epoch 20/100, Train loss: 715.4966, Val loss: 1338.4305, Best Val loss: 1338.4305\n",
      "Epoch 21/100, Train loss: 696.0593, Val loss: 1319.5756, Best Val loss: 1319.5756\n",
      "Epoch 22/100, Train loss: 745.6845, Val loss: 1301.8500, Best Val loss: 1301.8500\n",
      "Epoch 23/100, Train loss: 671.9740, Val loss: 1243.2577, Best Val loss: 1243.2577\n",
      "Epoch 24/100, Train loss: 642.3158, Val loss: 1154.0565, Best Val loss: 1154.0565\n",
      "Epoch 25/100, Train loss: 556.9993, Val loss: 1067.3806, Best Val loss: 1067.3806\n",
      "Epoch 26/100, Train loss: 498.2629, Val loss: 986.6249, Best Val loss: 986.6249\n",
      "Epoch 27/100, Train loss: 419.9059, Val loss: 912.8946, Best Val loss: 912.8946\n",
      "Epoch 28/100, Train loss: 378.1708, Val loss: 850.1324, Best Val loss: 850.1324\n",
      "Epoch 29/100, Train loss: 345.5052, Val loss: 790.2241, Best Val loss: 790.2241\n",
      "Epoch 30/100, Train loss: 314.7350, Val loss: 744.4076, Best Val loss: 744.4076\n",
      "Epoch 31/100, Train loss: 289.2670, Val loss: 694.6260, Best Val loss: 694.6260\n",
      "Epoch 32/100, Train loss: 268.6910, Val loss: 653.8409, Best Val loss: 653.8409\n",
      "Epoch 33/100, Train loss: 247.4876, Val loss: 615.4901, Best Val loss: 615.4901\n",
      "Epoch 34/100, Train loss: 227.3749, Val loss: 578.8216, Best Val loss: 578.8216\n",
      "Epoch 35/100, Train loss: 210.6440, Val loss: 547.8185, Best Val loss: 547.8185\n",
      "Epoch 36/100, Train loss: 196.7232, Val loss: 520.9341, Best Val loss: 520.9341\n",
      "Epoch 37/100, Train loss: 183.8691, Val loss: 493.7040, Best Val loss: 493.7040\n",
      "Epoch 38/100, Train loss: 179.9435, Val loss: 471.4907, Best Val loss: 471.4907\n",
      "Epoch 39/100, Train loss: 172.6185, Val loss: 447.5124, Best Val loss: 447.5124\n",
      "Epoch 40/100, Train loss: 151.9942, Val loss: 426.3113, Best Val loss: 426.3113\n",
      "Epoch 41/100, Train loss: 155.3173, Val loss: 403.3584, Best Val loss: 403.3584\n",
      "Epoch 42/100, Train loss: 133.8437, Val loss: 382.6586, Best Val loss: 382.6586\n",
      "Epoch 43/100, Train loss: 137.6488, Val loss: 366.6296, Best Val loss: 366.6296\n",
      "Epoch 44/100, Train loss: 119.6667, Val loss: 348.9463, Best Val loss: 348.9463\n",
      "Epoch 45/100, Train loss: 111.5161, Val loss: 333.8398, Best Val loss: 333.8398\n",
      "Epoch 46/100, Train loss: 114.7165, Val loss: 320.1459, Best Val loss: 320.1459\n",
      "Epoch 47/100, Train loss: 109.3383, Val loss: 304.2883, Best Val loss: 304.2883\n",
      "Epoch 48/100, Train loss: 93.5157, Val loss: 291.5082, Best Val loss: 291.5082\n",
      "Epoch 49/100, Train loss: 92.8779, Val loss: 281.3255, Best Val loss: 281.3255\n",
      "Epoch 50/100, Train loss: 85.9137, Val loss: 267.9082, Best Val loss: 267.9082\n",
      "Epoch 51/100, Train loss: 81.7039, Val loss: 257.1716, Best Val loss: 257.1716\n",
      "Epoch 52/100, Train loss: 92.8977, Val loss: 249.5640, Best Val loss: 249.5640\n",
      "Epoch 53/100, Train loss: 84.1903, Val loss: 238.5790, Best Val loss: 238.5790\n",
      "Epoch 54/100, Train loss: 73.5198, Val loss: 230.0259, Best Val loss: 230.0259\n",
      "Epoch 55/100, Train loss: 67.6512, Val loss: 222.5594, Best Val loss: 222.5594\n",
      "Epoch 56/100, Train loss: 65.2573, Val loss: 214.2290, Best Val loss: 214.2290\n",
      "Epoch 57/100, Train loss: 62.9823, Val loss: 207.9311, Best Val loss: 207.9311\n",
      "Epoch 58/100, Train loss: 60.0595, Val loss: 201.3651, Best Val loss: 201.3651\n",
      "Epoch 59/100, Train loss: 60.7023, Val loss: 194.3238, Best Val loss: 194.3238\n",
      "Epoch 60/100, Train loss: 60.2170, Val loss: 186.5568, Best Val loss: 186.5568\n",
      "Epoch 61/100, Train loss: 52.8457, Val loss: 180.1290, Best Val loss: 180.1290\n",
      "Epoch 62/100, Train loss: 50.4512, Val loss: 173.9784, Best Val loss: 173.9784\n",
      "Epoch 63/100, Train loss: 49.2201, Val loss: 166.6712, Best Val loss: 166.6712\n",
      "Epoch 64/100, Train loss: 54.8944, Val loss: 161.8256, Best Val loss: 161.8256\n",
      "Epoch 65/100, Train loss: 48.3112, Val loss: 156.9984, Best Val loss: 156.9984\n",
      "Epoch 66/100, Train loss: 46.3144, Val loss: 147.6808, Best Val loss: 147.6808\n",
      "Epoch 67/100, Train loss: 49.0530, Val loss: 142.6901, Best Val loss: 142.6901\n",
      "Epoch 68/100, Train loss: 38.5236, Val loss: 137.8039, Best Val loss: 137.8039\n",
      "Epoch 69/100, Train loss: 36.9007, Val loss: 131.8959, Best Val loss: 131.8959\n",
      "Epoch 70/100, Train loss: 38.0445, Val loss: 126.2627, Best Val loss: 126.2627\n",
      "Epoch 71/100, Train loss: 34.8979, Val loss: 122.3048, Best Val loss: 122.3048\n",
      "Epoch 72/100, Train loss: 33.7497, Val loss: 117.3521, Best Val loss: 117.3521\n",
      "Epoch 73/100, Train loss: 31.5668, Val loss: 113.6051, Best Val loss: 113.6051\n",
      "Epoch 74/100, Train loss: 30.7219, Val loss: 112.3410, Best Val loss: 112.3410\n",
      "Epoch 75/100, Train loss: 29.6235, Val loss: 106.7094, Best Val loss: 106.7094\n",
      "Epoch 76/100, Train loss: 31.6326, Val loss: 102.9908, Best Val loss: 102.9908\n",
      "Epoch 77/100, Train loss: 27.0334, Val loss: 99.8856, Best Val loss: 99.8856\n",
      "Epoch 78/100, Train loss: 26.9264, Val loss: 99.4137, Best Val loss: 99.4137\n",
      "Epoch 79/100, Train loss: 29.4912, Val loss: 95.4735, Best Val loss: 95.4735\n",
      "Epoch 80/100, Train loss: 30.2466, Val loss: 89.2426, Best Val loss: 89.2426\n",
      "Epoch 81/100, Train loss: 27.0108, Val loss: 86.0080, Best Val loss: 86.0080\n",
      "Epoch 82/100, Train loss: 23.6808, Val loss: 85.6858, Best Val loss: 85.6858\n",
      "Epoch 83/100, Train loss: 22.2658, Val loss: 79.8363, Best Val loss: 79.8363\n",
      "Epoch 84/100, Train loss: 22.9188, Val loss: 81.0372, Best Val loss: 79.8363\n",
      "Epoch 85/100, Train loss: 20.1641, Val loss: 74.3459, Best Val loss: 74.3459\n",
      "Epoch 86/100, Train loss: 21.0775, Val loss: 71.5318, Best Val loss: 71.5318\n",
      "Epoch 87/100, Train loss: 18.2918, Val loss: 70.4465, Best Val loss: 70.4465\n",
      "Epoch 88/100, Train loss: 19.4981, Val loss: 70.7154, Best Val loss: 70.4465\n",
      "Epoch 89/100, Train loss: 16.6881, Val loss: 65.5633, Best Val loss: 65.5633\n",
      "Epoch 90/100, Train loss: 16.0802, Val loss: 63.7963, Best Val loss: 63.7963\n",
      "Epoch 91/100, Train loss: 15.1267, Val loss: 61.9683, Best Val loss: 61.9683\n",
      "Epoch 92/100, Train loss: 19.2012, Val loss: 64.7641, Best Val loss: 61.9683\n",
      "Epoch 93/100, Train loss: 17.5386, Val loss: 57.4315, Best Val loss: 57.4315\n",
      "Epoch 94/100, Train loss: 15.8476, Val loss: 56.8745, Best Val loss: 56.8745\n",
      "Epoch 95/100, Train loss: 18.8773, Val loss: 54.2407, Best Val loss: 54.2407\n",
      "Epoch 96/100, Train loss: 16.8196, Val loss: 55.6039, Best Val loss: 54.2407\n",
      "Epoch 97/100, Train loss: 15.1542, Val loss: 50.8516, Best Val loss: 50.8516\n",
      "Epoch 98/100, Train loss: 13.0516, Val loss: 52.6631, Best Val loss: 50.8516\n",
      "Epoch 99/100, Train loss: 14.9239, Val loss: 48.9445, Best Val loss: 48.9445\n",
      "Epoch 100/100, Train loss: 11.8697, Val loss: 47.6382, Best Val loss: 47.6382\n"
     ]
    }
   ],
   "source": [
    "import torch.optim as optim\n",
    "from torch.optim.lr_scheduler import CosineAnnealingLR\n",
    "from tqdm.auto import tqdm\n",
    "\n",
    "train_losses = []\n",
    "val_losses = []\n",
    "\n",
    "epochs = 100\n",
    "\n",
    "model = LSTMModel(input_dim=3, hidden_dim=500, num_layers=2, output_dim=1).cuda()\n",
    "print(model)\n",
    "\n",
    "best_val_loss = float('inf')\n",
    "\n",
    "criterion = nn.MSELoss()\n",
    "optimizer = optim.Adam(model.parameters(), lr=1e-3)\n",
    "lr_scheduler = CosineAnnealingLR(optimizer, T_max=epochs, eta_min=9e-4)\n",
    "\n",
    "for epoch in tqdm(range(epochs)):\n",
    "    # Training\n",
    "    model.train()\n",
    "    total_loss = 0.0\n",
    "\n",
    "    for features, labels in train_loader:\n",
    "        features = features.cuda()\n",
    "        labels = labels.cuda()\n",
    "        outputs = model(features).squeeze(-1)\n",
    "        loss = criterion(outputs, labels)\n",
    "        total_loss += loss.item()\n",
    "\n",
    "        optimizer.zero_grad()\n",
    "        loss.backward()\n",
    "        optimizer.step()\n",
    "\n",
    "    # Learning rate update\n",
    "    lr_scheduler.step()\n",
    "\n",
    "    avg_train_loss = total_loss / len(train_loader)\n",
    "\n",
    "    # Validation\n",
    "    model.eval()\n",
    "    total_val_loss = 0.0\n",
    "\n",
    "    with torch.no_grad():\n",
    "        for features, labels in val_loader:\n",
    "            features = features.cuda()\n",
    "            labels = labels.cuda()\n",
    "            outputs = model(features).squeeze(-1)\n",
    "            loss = criterion(outputs, labels)\n",
    "            total_val_loss += loss.item()\n",
    "\n",
    "    avg_val_loss = total_val_loss / len(val_loader)\n",
    "\n",
    "    # Checkpoint\n",
    "    if avg_val_loss < best_val_loss:\n",
    "        best_val_loss = avg_val_loss\n",
    "        torch.save(model.state_dict(), 'best_model.pth')\n",
    "\n",
    "    print(f'Epoch {epoch+1}/{epochs}, Train loss: {avg_train_loss:.4f}, Val loss: {avg_val_loss:.4f}, Best Val loss: {best_val_loss:.4f}')\n",
    "\n",
    "    # Store performance\n",
    "    train_losses.append(avg_train_loss)\n",
    "    val_losses.append(avg_val_loss)"
   ]
  },
  {
   "cell_type": "code",
   "execution_count": 115,
   "id": "9KbczyTopKVk",
   "metadata": {
    "colab": {
     "base_uri": "https://localhost:8080/",
     "height": 465
    },
    "id": "9KbczyTopKVk",
    "outputId": "8f0134de-d4e3-4d91-d357-1608a090052c"
   },
   "outputs": [
    {
     "data": {
      "image/png": "[encoded data removed]",
      "text/plain": [
       "<Figure size 1000x500 with 1 Axes>"
      ]
     },
     "metadata": {},
     "output_type": "display_data"
    }
   ],
   "source": [
    "import matplotlib.pyplot as plt\n",
    "\n",
    "plt.figure(figsize=(10, 5))\n",
    "plt.plot(train_losses)\n",
    "plt.plot(val_losses)\n",
    "plt.xlabel('Epochs')\n",
    "plt.ylabel('Loss')\n",
    "plt.legend(['Train', 'Val'])\n",
    "\n",
    "plt.show()"
   ]
  },
  {
   "cell_type": "code",
   "execution_count": 116,
   "id": "30eR-jX9pKSn",
   "metadata": {
    "colab": {
     "base_uri": "https://localhost:8080/"
    },
    "id": "30eR-jX9pKSn",
    "outputId": "5d00d5a2-e7d4-45b1-f43a-71ac515453d8"
   },
   "outputs": [
    {
     "name": "stdout",
     "output_type": "stream",
     "text": [
      "Test MSE: 106.8861\n"
     ]
    }
   ],
   "source": [
    "import torch\n",
    "import torch.nn as nn\n",
    "\n",
    "# Load the trained weights\n",
    "model.load_state_dict(torch.load('best_model.pth'))\n",
    "\n",
    "# Set the model to evaluation mode\n",
    "model.eval()\n",
    "\n",
    "# Initialize variables for testing\n",
    "test_correct = 0\n",
    "test_total = 0\n",
    "\n",
    "pred_value = []\n",
    "actual_value = []\n",
    "\n",
    "# Initialize MSE loss function\n",
    "criterion = nn.MSELoss()\n",
    "\n",
    "# Initialize variable to accumulate the MSE loss\n",
    "total_test_loss = 0\n",
    "\n",
    "with torch.no_grad():\n",
    "    for features, labels in test_loader:\n",
    "        features = features.cuda()\n",
    "        labels = labels.cuda()\n",
    "\n",
    "        # Forward pass: compute predicted values\n",
    "        outputs = model(features).squeeze(-1)\n",
    "\n",
    "        # Calculate the MSE for this batch\n",
    "        loss = criterion(outputs, labels)\n",
    "        total_test_loss += loss.item()\n",
    "\n",
    "        # Store predictions and actual values\n",
    "        pred_value.append(outputs.cpu())\n",
    "        actual_value.append(labels.cpu())\n",
    "\n",
    "# Concatenate all predictions and actual values\n",
    "pred_value = torch.cat(pred_value)\n",
    "actual_value = torch.cat(actual_value)\n",
    "\n",
    "# Calculate the average MSE for the entire test set\n",
    "average_test_loss = total_test_loss / len(test_loader)\n",
    "print(f'Test MSE: {average_test_loss:.4f}')"
   ]
  },
  {
   "cell_type": "code",
   "execution_count": 117,
   "id": "6iatsOMfpKPm",
   "metadata": {
    "colab": {
     "base_uri": "https://localhost:8080/",
     "height": 465
    },
    "id": "6iatsOMfpKPm",
    "outputId": "b6efaa7a-dc1d-43fc-addc-19f996650e21"
   },
   "outputs": [
    {
     "data": {
      "image/png": "[encoded data removed]",
      "text/plain": [
       "<Figure size 1000x500 with 1 Axes>"
      ]
     },
     "metadata": {},
     "output_type": "display_data"
    }
   ],
   "source": [
    "plt.figure(figsize=(10, 5))\n",
    "plt.plot(pred_value[:])\n",
    "plt.plot(actual_value[:])\n",
    "plt.xlabel('Day')\n",
    "plt.ylabel('Price')\n",
    "plt.legend(['Pred', 'Actual'])\n",
    "\n",
    "plt.show()"
   ]
  },
  {
   "cell_type": "markdown",
   "id": "xGCngemMp9yz",
   "metadata": {
    "id": "xGCngemMp9yz"
   },
   "source": [
    "# **Selected Features: Open,Close,Volume**"
   ]
  },
  {
   "cell_type": "code",
   "execution_count": 118,
   "id": "xXsh7fstpKMe",
   "metadata": {
    "id": "xXsh7fstpKMe"
   },
   "outputs": [],
   "source": [
    "import numpy as np\n",
    "import torch\n",
    "\n",
    "seed = 42\n",
    "\n",
    "# 固定 NumPy 的隨機種子\n",
    "np.random.seed(seed)\n",
    "\n",
    "# 固定 PyTorch 的隨機種子\n",
    "torch.manual_seed(seed)  # 設定 CPU 隨機種子\n",
    "torch.cuda.manual_seed(seed)  # 設定單張 GPU 隨機種子\n",
    "torch.cuda.manual_seed_all(seed)  # 設定所有 GPU 隨機種子（如果有多張）\n",
    "\n",
    "# 讓 CuDNN 的計算保持確定性\n",
    "torch.backends.cudnn.deterministic = True\n",
    "torch.backends.cudnn.benchmark = False\n"
   ]
  },
  {
   "cell_type": "code",
   "execution_count": 119,
   "id": "ShlY2gyXqR69",
   "metadata": {
    "id": "ShlY2gyXqR69"
   },
   "outputs": [],
   "source": [
    "def create_sequences(input_data, output_data, window_size, step):\n",
    "    sequences = []\n",
    "    labels = []\n",
    "    for i in range(0, len(input_data) - window_size, step):\n",
    "        sequences.append(input_data[i:(i + window_size)])\n",
    "        labels.append(output_data[i + window_size])\n",
    "    return np.array(sequences), np.array(labels)\n"
   ]
  },
  {
   "cell_type": "code",
   "execution_count": 120,
   "id": "WI85lw2ZqR4C",
   "metadata": {
    "colab": {
     "base_uri": "https://localhost:8080/"
    },
    "id": "WI85lw2ZqR4C",
    "outputId": "cfd41185-342a-4be8-b2c9-f5ffa577281c"
   },
   "outputs": [
    {
     "name": "stdout",
     "output_type": "stream",
     "text": [
      "Shape of data X: (471, 30, 3)\n",
      "Shape of data y: (471,)\n",
      "Shape of data x_train: (339, 30, 3)\n",
      "Shape of data y_train: (339,)\n",
      "Shape of data x_val: (85, 30, 3)\n",
      "Shape of data y_val: (85,)\n",
      "Shape of data x_test: (47, 30, 3)\n",
      "Shape of data y_test: (47,)\n",
      "Number of samples in training and validation are 339 and 85.\n"
     ]
    }
   ],
   "source": [
    "import numpy as np\n",
    "import torch\n",
    "from torch.utils.data import DataLoader, TensorDataset\n",
    "import matplotlib.pyplot as plt\n",
    "from sklearn.preprocessing import MinMaxScaler\n",
    "\n",
    "# Step 1: Select features + log transform Volume\n",
    "features = df[['Open', 'Close', 'Volume']].copy()  # Now using 'Open', 'Close', and 'Volume'\n",
    "features['Volume'] = np.log(features['Volume'] + 1)  # log transform Volume\n",
    "labels = df['High'].shift(-1)  # Next day's high price\n",
    "\n",
    "# Step 2: Normalize features\n",
    "feature_scaler = MinMaxScaler()\n",
    "features_scaled = feature_scaler.fit_transform(features)\n",
    "\n",
    "# Step 3: Create sequences\n",
    "X, y = create_sequences(features_scaled, labels.values, window_size=30, step=10)\n",
    "\n",
    "print(f'Shape of data X: {X.shape}')\n",
    "print(f'Shape of data y: {y.shape}')\n",
    "\n",
    "# Step 4: Remove NaN samples (shift會有nan)\n",
    "valid_idx = ~np.isnan(y)\n",
    "X = X[valid_idx]\n",
    "y = y[valid_idx]\n",
    "\n",
    "# 🛠️ Step 5: Normalize labels (y) separately\n",
    "label_scaler = MinMaxScaler()\n",
    "y = label_scaler.fit_transform(y.reshape(-1, 1)).squeeze()\n",
    "\n",
    "# Step 6: Split hold-out test set\n",
    "ind = np.linspace(0, len(X)-1, num=int(len(X)*0.1), dtype=int)  # 10% hold-out\n",
    "x_test = X[ind]\n",
    "y_test = y[ind]\n",
    "all_ind = np.arange(len(X))\n",
    "remains_ind = np.delete(all_ind, ind)\n",
    "\n",
    "X = X[remains_ind]\n",
    "y = y[remains_ind]\n",
    "\n",
    "# Step 7: Shuffle\n",
    "ind = np.random.permutation(len(X))\n",
    "X = X[ind]\n",
    "y = y[ind]\n",
    "\n",
    "# Step 8: Train/Val split\n",
    "split_point = int(X.shape[0]*0.8)\n",
    "x_train = X[:split_point]\n",
    "y_train = y[:split_point]\n",
    "x_val = X[split_point:]\n",
    "y_val = y[split_point:]\n",
    "\n",
    "print(f'Shape of data x_train: {x_train.shape}')\n",
    "print(f'Shape of data y_train: {y_train.shape}')\n",
    "print(f'Shape of data x_val: {x_val.shape}')\n",
    "print(f'Shape of data y_val: {y_val.shape}')\n",
    "print(f'Shape of data x_test: {x_test.shape}')\n",
    "print(f'Shape of data y_test: {y_test.shape}')\n",
    "\n",
    "# Step 9: Convert to PyTorch tensors\n",
    "x_train = torch.from_numpy(x_train).float()\n",
    "y_train = torch.from_numpy(y_train).float()\n",
    "x_val = torch.from_numpy(x_val).float()\n",
    "y_val = torch.from_numpy(y_val).float()\n",
    "x_test = torch.from_numpy(x_test).float()\n",
    "y_test = torch.from_numpy(y_test).float()\n",
    "\n",
    "# Step 10: Create datasets and dataloaders\n",
    "batch_size = 32\n",
    "train_dataset = TensorDataset(x_train, y_train)\n",
    "val_dataset = TensorDataset(x_val, y_val)\n",
    "test_dataset = TensorDataset(x_test, y_test)\n",
    "\n",
    "train_loader = DataLoader(train_dataset, batch_size=batch_size, shuffle=True)\n",
    "val_loader = DataLoader(val_dataset, batch_size=batch_size, shuffle=False)\n",
    "test_loader = DataLoader(test_dataset, batch_size=batch_size, shuffle=False)\n",
    "\n",
    "print(f'Number of samples in training and validation are {len(train_loader.dataset)} and {len(val_loader.dataset)}.')\n"
   ]
  },
  {
   "cell_type": "code",
   "execution_count": 121,
   "id": "Yi2hYXGkqR0-",
   "metadata": {
    "id": "Yi2hYXGkqR0-"
   },
   "outputs": [],
   "source": [
    "import torch.nn as nn\n",
    "\n",
    "class LSTMModel(nn.Module):\n",
    "    def __init__(self, input_dim, hidden_dim, num_layers, output_dim):\n",
    "        super().__init__()\n",
    "        self.hidden_dim = hidden_dim\n",
    "        self.num_layers = num_layers\n",
    "        self.lstm = nn.LSTM(input_dim, hidden_dim, num_layers, batch_first=True)\n",
    "        self.fc = nn.Linear(hidden_dim, output_dim)\n",
    "\n",
    "    def forward(self, x):\n",
    "        out, _ = self.lstm(x)\n",
    "        out = self.fc(out[:, -1, :])\n",
    "        return out"
   ]
  },
  {
   "cell_type": "code",
   "execution_count": 122,
   "id": "QNKI7c8BqRyX",
   "metadata": {
    "colab": {
     "base_uri": "https://localhost:8080/"
    },
    "id": "QNKI7c8BqRyX",
    "outputId": "52935da0-932e-482a-febf-20802b2a7a45"
   },
   "outputs": [
    {
     "name": "stdout",
     "output_type": "stream",
     "text": [
      "Wed Apr 30 12:50:58 2025       \n",
      "+-----------------------------------------------------------------------------------------+\n",
      "| NVIDIA-SMI 550.54.15              Driver Version: 550.54.15      CUDA Version: 12.4     |\n",
      "|-----------------------------------------+------------------------+----------------------+\n",
      "| GPU  Name                 Persistence-M | Bus-Id          Disp.A | Volatile Uncorr. ECC |\n",
      "| Fan  Temp   Perf          Pwr:Usage/Cap |           Memory-Usage | GPU-Util  Compute M. |\n",
      "|                                         |                        |               MIG M. |\n",
      "|=========================================+========================+======================|\n",
      "|   0  Tesla T4                       Off |   00000000:00:04.0 Off |                    0 |\n",
      "| N/A   68C    P0             39W /   70W |     344MiB /  15360MiB |      3%      Default |\n",
      "|                                         |                        |                  N/A |\n",
      "+-----------------------------------------+------------------------+----------------------+\n",
      "                                                                                         \n",
      "+-----------------------------------------------------------------------------------------+\n",
      "| Processes:                                                                              |\n",
      "|  GPU   GI   CI        PID   Type   Process name                              GPU Memory |\n",
      "|        ID   ID                                                               Usage      |\n",
      "|=========================================================================================|\n",
      "+-----------------------------------------------------------------------------------------+\n"
     ]
    }
   ],
   "source": [
    "# Check your GPU status.\n",
    "!nvidia-smi"
   ]
  },
  {
   "cell_type": "code",
   "execution_count": 123,
   "id": "BLUxJ3Z0qRv9",
   "metadata": {
    "colab": {
     "base_uri": "https://localhost:8080/",
     "height": 1000,
     "referenced_widgets": [
      "6a3829bbe19a47abb2b21d01e6801cdc",
      "16c9b32c37d4435aa0695d5d7cc78878",
      "c2ca7ea691bc41729952202912b69c5f",
      "06adcbdf67bc4075a2b34cb2d1a84b2e",
      "238b6a776ac248bb94351062b09237ac",
      "75b99b74905641a6b86ec1d541618f33",
      "25f4b4552b434ea3812e974e3fa22c9b",
      "3c72029cce944beaa48cc7489b48788c",
      "aef4f0470c6949cb993f7fd4848d2621",
      "edcba6054d68498eb3d47676569a6452",
      "ab870b532b9b4b4dbc47af3d6f273248"
     ]
    },
    "id": "BLUxJ3Z0qRv9",
    "outputId": "b3c08b17-859d-45c5-aa13-ef7a8e2ceb68"
   },
   "outputs": [
    {
     "name": "stdout",
     "output_type": "stream",
     "text": [
      "LSTMModel(\n",
      "  (lstm): LSTM(3, 500, num_layers=2, batch_first=True)\n",
      "  (fc): Linear(in_features=500, out_features=1, bias=True)\n",
      ")\n"
     ]
    },
    {
     "data": {
      "application/vnd.jupyter.widget-view+json": {
       "model_id": "6a3829bbe19a47abb2b21d01e6801cdc",
       "version_major": 2,
       "version_minor": 0
      },
      "text/plain": [
       "  0%|          | 0/100 [00:00<?, ?it/s]"
      ]
     },
     "metadata": {},
     "output_type": "display_data"
    },
    {
     "name": "stdout",
     "output_type": "stream",
     "text": [
      "Epoch 1/100, Train loss: 0.0380, Val loss: 0.0569, Best Val loss: 0.0569\n",
      "Epoch 2/100, Train loss: 0.0365, Val loss: 0.0545, Best Val loss: 0.0545\n",
      "Epoch 3/100, Train loss: 0.0344, Val loss: 0.0524, Best Val loss: 0.0524\n",
      "Epoch 4/100, Train loss: 0.0325, Val loss: 0.0503, Best Val loss: 0.0503\n",
      "Epoch 5/100, Train loss: 0.0303, Val loss: 0.0484, Best Val loss: 0.0484\n",
      "Epoch 6/100, Train loss: 0.0296, Val loss: 0.0467, Best Val loss: 0.0467\n",
      "Epoch 7/100, Train loss: 0.0271, Val loss: 0.0450, Best Val loss: 0.0450\n",
      "Epoch 8/100, Train loss: 0.0256, Val loss: 0.0434, Best Val loss: 0.0434\n",
      "Epoch 9/100, Train loss: 0.0249, Val loss: 0.0419, Best Val loss: 0.0419\n",
      "Epoch 10/100, Train loss: 0.0237, Val loss: 0.0405, Best Val loss: 0.0405\n",
      "Epoch 11/100, Train loss: 0.0222, Val loss: 0.0393, Best Val loss: 0.0393\n",
      "Epoch 12/100, Train loss: 0.0233, Val loss: 0.0382, Best Val loss: 0.0382\n",
      "Epoch 13/100, Train loss: 0.0206, Val loss: 0.0371, Best Val loss: 0.0371\n",
      "Epoch 14/100, Train loss: 0.0198, Val loss: 0.0361, Best Val loss: 0.0361\n",
      "Epoch 15/100, Train loss: 0.0196, Val loss: 0.0353, Best Val loss: 0.0353\n",
      "Epoch 16/100, Train loss: 0.0201, Val loss: 0.0346, Best Val loss: 0.0346\n",
      "Epoch 17/100, Train loss: 0.0183, Val loss: 0.0340, Best Val loss: 0.0340\n",
      "Epoch 18/100, Train loss: 0.0194, Val loss: 0.0334, Best Val loss: 0.0334\n",
      "Epoch 19/100, Train loss: 0.0181, Val loss: 0.0330, Best Val loss: 0.0330\n",
      "Epoch 20/100, Train loss: 0.0176, Val loss: 0.0326, Best Val loss: 0.0326\n",
      "Epoch 21/100, Train loss: 0.0173, Val loss: 0.0322, Best Val loss: 0.0322\n",
      "Epoch 22/100, Train loss: 0.0188, Val loss: 0.0320, Best Val loss: 0.0320\n",
      "Epoch 23/100, Train loss: 0.0175, Val loss: 0.0316, Best Val loss: 0.0316\n",
      "Epoch 24/100, Train loss: 0.0184, Val loss: 0.0314, Best Val loss: 0.0314\n",
      "Epoch 25/100, Train loss: 0.0177, Val loss: 0.0311, Best Val loss: 0.0311\n",
      "Epoch 26/100, Train loss: 0.0176, Val loss: 0.0309, Best Val loss: 0.0309\n",
      "Epoch 27/100, Train loss: 0.0166, Val loss: 0.0307, Best Val loss: 0.0307\n",
      "Epoch 28/100, Train loss: 0.0165, Val loss: 0.0304, Best Val loss: 0.0304\n",
      "Epoch 29/100, Train loss: 0.0164, Val loss: 0.0302, Best Val loss: 0.0302\n",
      "Epoch 30/100, Train loss: 0.0166, Val loss: 0.0301, Best Val loss: 0.0301\n",
      "Epoch 31/100, Train loss: 0.0162, Val loss: 0.0298, Best Val loss: 0.0298\n",
      "Epoch 32/100, Train loss: 0.0163, Val loss: 0.0296, Best Val loss: 0.0296\n",
      "Epoch 33/100, Train loss: 0.0162, Val loss: 0.0293, Best Val loss: 0.0293\n",
      "Epoch 34/100, Train loss: 0.0158, Val loss: 0.0291, Best Val loss: 0.0291\n",
      "Epoch 35/100, Train loss: 0.0158, Val loss: 0.0289, Best Val loss: 0.0289\n",
      "Epoch 36/100, Train loss: 0.0156, Val loss: 0.0286, Best Val loss: 0.0286\n",
      "Epoch 37/100, Train loss: 0.0156, Val loss: 0.0284, Best Val loss: 0.0284\n",
      "Epoch 38/100, Train loss: 0.0157, Val loss: 0.0281, Best Val loss: 0.0281\n",
      "Epoch 39/100, Train loss: 0.0153, Val loss: 0.0278, Best Val loss: 0.0278\n",
      "Epoch 40/100, Train loss: 0.0151, Val loss: 0.0276, Best Val loss: 0.0276\n",
      "Epoch 41/100, Train loss: 0.0157, Val loss: 0.0273, Best Val loss: 0.0273\n",
      "Epoch 42/100, Train loss: 0.0148, Val loss: 0.0269, Best Val loss: 0.0269\n",
      "Epoch 43/100, Train loss: 0.0158, Val loss: 0.0267, Best Val loss: 0.0267\n",
      "Epoch 44/100, Train loss: 0.0146, Val loss: 0.0263, Best Val loss: 0.0263\n",
      "Epoch 45/100, Train loss: 0.0143, Val loss: 0.0260, Best Val loss: 0.0260\n",
      "Epoch 46/100, Train loss: 0.0149, Val loss: 0.0257, Best Val loss: 0.0257\n",
      "Epoch 47/100, Train loss: 0.0148, Val loss: 0.0253, Best Val loss: 0.0253\n",
      "Epoch 48/100, Train loss: 0.0138, Val loss: 0.0248, Best Val loss: 0.0248\n",
      "Epoch 49/100, Train loss: 0.0146, Val loss: 0.0245, Best Val loss: 0.0245\n",
      "Epoch 50/100, Train loss: 0.0134, Val loss: 0.0240, Best Val loss: 0.0240\n",
      "Epoch 51/100, Train loss: 0.0132, Val loss: 0.0235, Best Val loss: 0.0235\n",
      "Epoch 52/100, Train loss: 0.0145, Val loss: 0.0231, Best Val loss: 0.0231\n",
      "Epoch 53/100, Train loss: 0.0136, Val loss: 0.0225, Best Val loss: 0.0225\n",
      "Epoch 54/100, Train loss: 0.0129, Val loss: 0.0219, Best Val loss: 0.0219\n",
      "Epoch 55/100, Train loss: 0.0122, Val loss: 0.0214, Best Val loss: 0.0214\n",
      "Epoch 56/100, Train loss: 0.0120, Val loss: 0.0208, Best Val loss: 0.0208\n",
      "Epoch 57/100, Train loss: 0.0117, Val loss: 0.0202, Best Val loss: 0.0202\n",
      "Epoch 58/100, Train loss: 0.0116, Val loss: 0.0195, Best Val loss: 0.0195\n",
      "Epoch 59/100, Train loss: 0.0111, Val loss: 0.0189, Best Val loss: 0.0189\n",
      "Epoch 60/100, Train loss: 0.0109, Val loss: 0.0182, Best Val loss: 0.0182\n",
      "Epoch 61/100, Train loss: 0.0103, Val loss: 0.0173, Best Val loss: 0.0173\n",
      "Epoch 62/100, Train loss: 0.0099, Val loss: 0.0164, Best Val loss: 0.0164\n",
      "Epoch 63/100, Train loss: 0.0094, Val loss: 0.0154, Best Val loss: 0.0154\n",
      "Epoch 64/100, Train loss: 0.0099, Val loss: 0.0145, Best Val loss: 0.0145\n",
      "Epoch 65/100, Train loss: 0.0088, Val loss: 0.0132, Best Val loss: 0.0132\n",
      "Epoch 66/100, Train loss: 0.0081, Val loss: 0.0120, Best Val loss: 0.0120\n",
      "Epoch 67/100, Train loss: 0.0079, Val loss: 0.0109, Best Val loss: 0.0109\n",
      "Epoch 68/100, Train loss: 0.0066, Val loss: 0.0093, Best Val loss: 0.0093\n",
      "Epoch 69/100, Train loss: 0.0060, Val loss: 0.0080, Best Val loss: 0.0080\n",
      "Epoch 70/100, Train loss: 0.0054, Val loss: 0.0067, Best Val loss: 0.0067\n",
      "Epoch 71/100, Train loss: 0.0046, Val loss: 0.0054, Best Val loss: 0.0054\n",
      "Epoch 72/100, Train loss: 0.0040, Val loss: 0.0040, Best Val loss: 0.0040\n",
      "Epoch 73/100, Train loss: 0.0032, Val loss: 0.0029, Best Val loss: 0.0029\n",
      "Epoch 74/100, Train loss: 0.0027, Val loss: 0.0020, Best Val loss: 0.0020\n",
      "Epoch 75/100, Train loss: 0.0022, Val loss: 0.0014, Best Val loss: 0.0014\n",
      "Epoch 76/100, Train loss: 0.0018, Val loss: 0.0011, Best Val loss: 0.0011\n",
      "Epoch 77/100, Train loss: 0.0015, Val loss: 0.0011, Best Val loss: 0.0011\n",
      "Epoch 78/100, Train loss: 0.0013, Val loss: 0.0012, Best Val loss: 0.0011\n",
      "Epoch 79/100, Train loss: 0.0013, Val loss: 0.0012, Best Val loss: 0.0011\n",
      "Epoch 80/100, Train loss: 0.0012, Val loss: 0.0012, Best Val loss: 0.0011\n",
      "Epoch 81/100, Train loss: 0.0012, Val loss: 0.0013, Best Val loss: 0.0011\n",
      "Epoch 82/100, Train loss: 0.0012, Val loss: 0.0013, Best Val loss: 0.0011\n",
      "Epoch 83/100, Train loss: 0.0012, Val loss: 0.0013, Best Val loss: 0.0011\n",
      "Epoch 84/100, Train loss: 0.0012, Val loss: 0.0014, Best Val loss: 0.0011\n",
      "Epoch 85/100, Train loss: 0.0011, Val loss: 0.0014, Best Val loss: 0.0011\n",
      "Epoch 86/100, Train loss: 0.0011, Val loss: 0.0014, Best Val loss: 0.0011\n",
      "Epoch 87/100, Train loss: 0.0011, Val loss: 0.0012, Best Val loss: 0.0011\n",
      "Epoch 88/100, Train loss: 0.0011, Val loss: 0.0012, Best Val loss: 0.0011\n",
      "Epoch 89/100, Train loss: 0.0011, Val loss: 0.0012, Best Val loss: 0.0011\n",
      "Epoch 90/100, Train loss: 0.0011, Val loss: 0.0012, Best Val loss: 0.0011\n",
      "Epoch 91/100, Train loss: 0.0010, Val loss: 0.0013, Best Val loss: 0.0011\n",
      "Epoch 92/100, Train loss: 0.0011, Val loss: 0.0013, Best Val loss: 0.0011\n",
      "Epoch 93/100, Train loss: 0.0010, Val loss: 0.0011, Best Val loss: 0.0011\n",
      "Epoch 94/100, Train loss: 0.0012, Val loss: 0.0012, Best Val loss: 0.0011\n",
      "Epoch 95/100, Train loss: 0.0011, Val loss: 0.0013, Best Val loss: 0.0011\n",
      "Epoch 96/100, Train loss: 0.0010, Val loss: 0.0012, Best Val loss: 0.0011\n",
      "Epoch 97/100, Train loss: 0.0011, Val loss: 0.0012, Best Val loss: 0.0011\n",
      "Epoch 98/100, Train loss: 0.0010, Val loss: 0.0012, Best Val loss: 0.0011\n",
      "Epoch 99/100, Train loss: 0.0010, Val loss: 0.0012, Best Val loss: 0.0011\n",
      "Epoch 100/100, Train loss: 0.0010, Val loss: 0.0012, Best Val loss: 0.0011\n",
      "\n",
      " Train MSE on original price scale : 85.4372\n"
     ]
    }
   ],
   "source": [
    "import torch.optim as optim\n",
    "from torch.optim.lr_scheduler import CosineAnnealingLR\n",
    "from tqdm.auto import tqdm\n",
    "import torch.nn as nn\n",
    "import numpy as np\n",
    "\n",
    "# 儲存 label scaler 的 min / max（手動處理標準化還原）\n",
    "y_min = label_scaler.data_min_[0]\n",
    "y_max = label_scaler.data_max_[0]\n",
    "\n",
    "train_losses = []\n",
    "val_losses = []\n",
    "\n",
    "epochs = 100\n",
    "model = LSTMModel(input_dim=3, hidden_dim=500, num_layers=2, output_dim=1).cuda()\n",
    "print(model)\n",
    "\n",
    "best_val_loss = float('inf')\n",
    "\n",
    "criterion = nn.MSELoss()\n",
    "optimizer = optim.Adam(model.parameters(), lr=5.5e-6)\n",
    "lr_scheduler = CosineAnnealingLR(optimizer, T_max=epochs, eta_min=3e-6)\n",
    "\n",
    "for epoch in tqdm(range(epochs)):\n",
    "    # Training\n",
    "    model.train()\n",
    "    total_loss = 0.0\n",
    "\n",
    "    for features, labels in train_loader:\n",
    "        features = features.cuda()\n",
    "        labels = labels.cuda()\n",
    "        outputs = model(features).squeeze(-1)\n",
    "        loss = criterion(outputs, labels)\n",
    "        total_loss += loss.item()\n",
    "\n",
    "        optimizer.zero_grad()\n",
    "        loss.backward()\n",
    "        optimizer.step()\n",
    "\n",
    "    lr_scheduler.step()\n",
    "    avg_train_loss = total_loss / len(train_loader)\n",
    "\n",
    "    # Validation\n",
    "    model.eval()\n",
    "    total_val_loss = 0.0\n",
    "\n",
    "    with torch.no_grad():\n",
    "        for features, labels in val_loader:\n",
    "            features = features.cuda()\n",
    "            labels = labels.cuda()\n",
    "            outputs = model(features).squeeze(-1)\n",
    "            loss = criterion(outputs, labels)\n",
    "            total_val_loss += loss.item()\n",
    "\n",
    "    avg_val_loss = total_val_loss / len(val_loader)\n",
    "\n",
    "    # Save best model\n",
    "    if avg_val_loss < best_val_loss:\n",
    "        best_val_loss = avg_val_loss\n",
    "        torch.save(model.state_dict(), 'best_model.pth')\n",
    "\n",
    "    print(f'Epoch {epoch+1}/{epochs}, Train loss: {avg_train_loss:.4f}, Val loss: {avg_val_loss:.4f}, Best Val loss: {best_val_loss:.4f}')\n",
    "    train_losses.append(avg_train_loss)\n",
    "    val_losses.append(avg_val_loss)\n",
    "\n",
    "\n",
    "# 還原用的 inverse function for MinMaxScaler\n",
    "def inverse_minmax(tensor, data_min, data_max):\n",
    "    return tensor * (data_max - data_min) + data_min\n",
    "\n",
    "# 載入最佳模型\n",
    "model.load_state_dict(torch.load('best_model.pth'))\n",
    "model.eval()\n",
    "\n",
    "preds = []\n",
    "trues = []\n",
    "\n",
    "with torch.no_grad():\n",
    "    for features, labels in test_loader:\n",
    "        features = features.cuda()\n",
    "        labels = labels.cuda()\n",
    "\n",
    "        outputs = model(features).squeeze(-1)\n",
    "        preds.append(outputs.cpu())\n",
    "        trues.append(labels.cpu())\n",
    "\n",
    "y_pred_scaled = torch.cat(preds, dim=0)\n",
    "y_true_scaled = torch.cat(trues, dim=0)\n",
    "\n",
    "# 還原為原始價格\n",
    "y_pred_original = inverse_minmax(y_pred_scaled, y_min, y_max)\n",
    "y_true_original = inverse_minmax(y_true_scaled, y_min, y_max)\n",
    "\n",
    "# 計算 MSE（在原始價格尺度下）\n",
    "mse_original = torch.mean((y_true_original - y_pred_original) ** 2).item()\n",
    "print(f'\\n Train MSE on original price scale : {mse_original:.4f}')\n"
   ]
  },
  {
   "cell_type": "code",
   "execution_count": 124,
   "id": "aOFwMlCCqRto",
   "metadata": {
    "colab": {
     "base_uri": "https://localhost:8080/",
     "height": 465
    },
    "id": "aOFwMlCCqRto",
    "outputId": "4f0bca04-4675-4d0b-d3e5-f3ee76549f02"
   },
   "outputs": [
    {
     "data": {
      "image/png": "[encoded data removed]",
      "text/plain": [
       "<Figure size 1000x500 with 1 Axes>"
      ]
     },
     "metadata": {},
     "output_type": "display_data"
    }
   ],
   "source": [
    "import matplotlib.pyplot as plt\n",
    "\n",
    "plt.figure(figsize=(10, 5))\n",
    "plt.plot(train_losses)\n",
    "plt.plot(val_losses)\n",
    "plt.xlabel('Epochs')\n",
    "plt.ylabel('Loss')\n",
    "plt.legend(['Train', 'Val'])\n",
    "\n",
    "plt.show()"
   ]
  },
  {
   "cell_type": "code",
   "execution_count": 125,
   "id": "Nt33Ww7nqRq_",
   "metadata": {
    "colab": {
     "base_uri": "https://localhost:8080/"
    },
    "id": "Nt33Ww7nqRq_",
    "outputId": "83a15446-03c2-4948-9ff6-e867fb7e978d"
   },
   "outputs": [
    {
     "name": "stdout",
     "output_type": "stream",
     "text": [
      "Test MSE on original price scale: 113.5097\n"
     ]
    }
   ],
   "source": [
    "# Step 1: Load the trained model\n",
    "model.load_state_dict(torch.load('best_model.pth'))\n",
    "\n",
    "# Set the model to evaluation mode\n",
    "model.eval()\n",
    "\n",
    "# Initialize variables for testing\n",
    "pred_value = []\n",
    "actual_value = []\n",
    "\n",
    "# Initialize MSE loss function\n",
    "criterion = nn.MSELoss()\n",
    "\n",
    "# Initialize variable to accumulate the MSE loss\n",
    "total_test_loss = 0\n",
    "\n",
    "# 還原 MinMaxScaler 的 min/max（你之前標準化 y 使用的）\n",
    "y_min = label_scaler.data_min_[0]  # label_scaler 是你訓練時使用的 MinMaxScaler\n",
    "y_max = label_scaler.data_max_[0]\n",
    "\n",
    "# 還原標準化的 y 值\n",
    "def inverse_minmax(tensor, data_min, data_max):\n",
    "    return tensor * (data_max - data_min) + data_min\n",
    "\n",
    "with torch.no_grad():\n",
    "    for features, labels in test_loader:\n",
    "        features = features.cuda()\n",
    "        labels = labels.cuda()\n",
    "\n",
    "        # Forward pass: compute predicted values\n",
    "        outputs = model(features).squeeze(-1)\n",
    "\n",
    "        # 還原標準化的預測和真實值\n",
    "        outputs_original = inverse_minmax(outputs, y_min, y_max)\n",
    "        labels_original = inverse_minmax(labels, y_min, y_max)\n",
    "\n",
    "        # Calculate the MSE for this batch on the original price scale\n",
    "        loss = criterion(outputs_original, labels_original)\n",
    "        total_test_loss += loss.item()\n",
    "\n",
    "        # Store predictions and actual values\n",
    "        pred_value.append(outputs_original.cpu())\n",
    "        actual_value.append(labels_original.cpu())\n",
    "\n",
    "# Concatenate all predictions and actual values\n",
    "pred_value = torch.cat(pred_value)\n",
    "actual_value = torch.cat(actual_value)\n",
    "\n",
    "# Calculate the average MSE for the entire test set\n",
    "average_test_loss = total_test_loss / len(test_loader)\n",
    "print(f'Test MSE on original price scale: {average_test_loss:.4f}')\n"
   ]
  },
  {
   "cell_type": "code",
   "execution_count": 126,
   "id": "5zIXiSSRqRnc",
   "metadata": {
    "colab": {
     "base_uri": "https://localhost:8080/",
     "height": 465
    },
    "id": "5zIXiSSRqRnc",
    "outputId": "c7007bd5-f08c-4501-c685-84895fb54ace"
   },
   "outputs": [
    {
     "data": {
      "image/png": "[encoded data removed]",
      "text/plain": [
       "<Figure size 1000x500 with 1 Axes>"
      ]
     },
     "metadata": {},
     "output_type": "display_data"
    }
   ],
   "source": [
    "plt.figure(figsize=(10, 5))\n",
    "plt.plot(pred_value[:])\n",
    "plt.plot(actual_value[:])\n",
    "plt.xlabel('Day')\n",
    "plt.ylabel('Price')\n",
    "plt.legend(['Pred', 'Actual'])\n",
    "\n",
    "plt.show()"
   ]
  },
  {
   "cell_type": "markdown",
   "id": "-ObDvv1iqydA",
   "metadata": {
    "id": "-ObDvv1iqydA"
   },
   "source": [
    "# **Selected Features: Close,High,Low,Volume**"
   ]
  },
  {
   "cell_type": "code",
   "execution_count": 127,
   "id": "tT06FIS2pKJe",
   "metadata": {
    "id": "tT06FIS2pKJe"
   },
   "outputs": [],
   "source": [
    "import numpy as np\n",
    "import torch\n",
    "\n",
    "seed = 42\n",
    "\n",
    "# 固定 NumPy 的隨機種子\n",
    "np.random.seed(seed)\n",
    "\n",
    "# 固定 PyTorch 的隨機種子\n",
    "torch.manual_seed(seed)  # 設定 CPU 隨機種子\n",
    "torch.cuda.manual_seed(seed)  # 設定單張 GPU 隨機種子\n",
    "torch.cuda.manual_seed_all(seed)  # 設定所有 GPU 隨機種子（如果有多張）\n",
    "\n",
    "# 讓 CuDNN 的計算保持確定性\n",
    "torch.backends.cudnn.deterministic = True\n",
    "torch.backends.cudnn.benchmark = False\n"
   ]
  },
  {
   "cell_type": "code",
   "execution_count": 128,
   "id": "Ai1G9RYjrE4T",
   "metadata": {
    "id": "Ai1G9RYjrE4T"
   },
   "outputs": [],
   "source": [
    "def create_sequences(input_data, output_data, window_size, step):\n",
    "    sequences = []\n",
    "    labels = []\n",
    "    for i in range(0, len(input_data) - window_size, step):\n",
    "        sequences.append(input_data[i:(i + window_size)])\n",
    "        labels.append(output_data[i + window_size])\n",
    "    return np.array(sequences), np.array(labels)"
   ]
  },
  {
   "cell_type": "code",
   "execution_count": 129,
   "id": "0_mBsP-yrE1a",
   "metadata": {
    "colab": {
     "base_uri": "https://localhost:8080/"
    },
    "id": "0_mBsP-yrE1a",
    "outputId": "68f7d41e-1528-4847-8345-197bcb1e2bc5"
   },
   "outputs": [
    {
     "name": "stdout",
     "output_type": "stream",
     "text": [
      "Shape of data X: (471, 30, 4)\n",
      "Shape of data y: (471,)\n",
      "Shape of data x_train: (339, 30, 4)\n",
      "Shape of data y_train: (339,)\n",
      "Shape of data x_val: (85, 30, 4)\n",
      "Shape of data y_val: (85,)\n",
      "Shape of data x_test: (47, 30, 4)\n",
      "Shape of data y_test: (47,)\n",
      "Number of samples in training and validation are 339 and 85.\n"
     ]
    }
   ],
   "source": [
    "import numpy as np\n",
    "import torch\n",
    "from torch.utils.data import DataLoader, TensorDataset\n",
    "import matplotlib.pyplot as plt\n",
    "from sklearn.preprocessing import MinMaxScaler\n",
    "\n",
    "# Step 1: Select features + log transform Volume\n",
    "features = df[['High', 'Low', 'Close', 'Volume']].copy()\n",
    "features['Volume'] = np.log(features['Volume'] + 1)  # log transform Volume\n",
    "labels = df['High'].shift(-1)  # Next day's high price\n",
    "\n",
    "# Step 2: Normalize features\n",
    "feature_scaler = MinMaxScaler()\n",
    "features_scaled = feature_scaler.fit_transform(features)\n",
    "\n",
    "# Step 3: Create sequences\n",
    "X, y = create_sequences(features_scaled, labels.values, window_size=30, step=10)\n",
    "\n",
    "print(f'Shape of data X: {X.shape}')\n",
    "print(f'Shape of data y: {y.shape}')\n",
    "\n",
    "# Step 4: Remove NaN samples (shift會有nan)\n",
    "valid_idx = ~np.isnan(y)\n",
    "X = X[valid_idx]\n",
    "y = y[valid_idx]\n",
    "\n",
    "# Step 5: Normalize labels (y) separately\n",
    "label_scaler = MinMaxScaler()\n",
    "y = label_scaler.fit_transform(y.reshape(-1, 1)).squeeze()\n",
    "\n",
    "# Step 6: Split hold-out test set\n",
    "ind = np.linspace(0, len(X)-1, num=int(len(X)*0.1), dtype=int)  # 10% hold-out\n",
    "x_test = X[ind]\n",
    "y_test = y[ind]\n",
    "all_ind = np.arange(len(X))\n",
    "remains_ind = np.delete(all_ind, ind)\n",
    "\n",
    "X = X[remains_ind]\n",
    "y = y[remains_ind]\n",
    "\n",
    "# Step 7: Shuffle\n",
    "ind = np.random.permutation(len(X))\n",
    "X = X[ind]\n",
    "y = y[ind]\n",
    "\n",
    "# Step 8: Train/Val split\n",
    "split_point = int(X.shape[0]*0.8)\n",
    "x_train = X[:split_point]\n",
    "y_train = y[:split_point]\n",
    "x_val = X[split_point:]\n",
    "y_val = y[split_point:]\n",
    "\n",
    "print(f'Shape of data x_train: {x_train.shape}')\n",
    "print(f'Shape of data y_train: {y_train.shape}')\n",
    "print(f'Shape of data x_val: {x_val.shape}')\n",
    "print(f'Shape of data y_val: {y_val.shape}')\n",
    "print(f'Shape of data x_test: {x_test.shape}')\n",
    "print(f'Shape of data y_test: {y_test.shape}')\n",
    "\n",
    "# Step 9: Convert to PyTorch tensors\n",
    "x_train = torch.from_numpy(x_train).float()\n",
    "y_train = torch.from_numpy(y_train).float()\n",
    "x_val = torch.from_numpy(x_val).float()\n",
    "y_val = torch.from_numpy(y_val).float()\n",
    "x_test = torch.from_numpy(x_test).float()\n",
    "y_test = torch.from_numpy(y_test).float()\n",
    "\n",
    "# Step 10: Create datasets and dataloaders\n",
    "batch_size = 32\n",
    "train_dataset = TensorDataset(x_train, y_train)\n",
    "val_dataset = TensorDataset(x_val, y_val)\n",
    "test_dataset = TensorDataset(x_test, y_test)\n",
    "\n",
    "train_loader = DataLoader(train_dataset, batch_size=batch_size, shuffle=True)\n",
    "val_loader = DataLoader(val_dataset, batch_size=batch_size, shuffle=False)\n",
    "test_loader = DataLoader(test_dataset, batch_size=batch_size, shuffle=False)\n",
    "\n",
    "print(f'Number of samples in training and validation are {len(train_loader.dataset)} and {len(val_loader.dataset)}.')\n"
   ]
  },
  {
   "cell_type": "code",
   "execution_count": 130,
   "id": "yDbblDonrEw8",
   "metadata": {
    "id": "yDbblDonrEw8"
   },
   "outputs": [],
   "source": [
    "import torch.nn as nn\n",
    "\n",
    "class LSTMModel(nn.Module):\n",
    "    def __init__(self, input_dim, hidden_dim, num_layers, output_dim):\n",
    "        super().__init__()\n",
    "        self.hidden_dim = hidden_dim\n",
    "        self.num_layers = num_layers\n",
    "        self.lstm = nn.LSTM(input_dim, hidden_dim, num_layers, batch_first=True)\n",
    "        self.fc = nn.Linear(hidden_dim, output_dim)\n",
    "\n",
    "    def forward(self, x):\n",
    "        out, _ = self.lstm(x)\n",
    "        out = self.fc(out[:, -1, :])\n",
    "        return out"
   ]
  },
  {
   "cell_type": "code",
   "execution_count": 131,
   "id": "ijIntJbJrEt-",
   "metadata": {
    "colab": {
     "base_uri": "https://localhost:8080/"
    },
    "id": "ijIntJbJrEt-",
    "outputId": "de441932-cd6f-4774-9ca7-8399b1b62ec8"
   },
   "outputs": [
    {
     "name": "stdout",
     "output_type": "stream",
     "text": [
      "Wed Apr 30 12:51:13 2025       \n",
      "+-----------------------------------------------------------------------------------------+\n",
      "| NVIDIA-SMI 550.54.15              Driver Version: 550.54.15      CUDA Version: 12.4     |\n",
      "|-----------------------------------------+------------------------+----------------------+\n",
      "| GPU  Name                 Persistence-M | Bus-Id          Disp.A | Volatile Uncorr. ECC |\n",
      "| Fan  Temp   Perf          Pwr:Usage/Cap |           Memory-Usage | GPU-Util  Compute M. |\n",
      "|                                         |                        |               MIG M. |\n",
      "|=========================================+========================+======================|\n",
      "|   0  Tesla T4                       Off |   00000000:00:04.0 Off |                    0 |\n",
      "| N/A   70C    P0             39W /   70W |     344MiB /  15360MiB |      3%      Default |\n",
      "|                                         |                        |                  N/A |\n",
      "+-----------------------------------------+------------------------+----------------------+\n",
      "                                                                                         \n",
      "+-----------------------------------------------------------------------------------------+\n",
      "| Processes:                                                                              |\n",
      "|  GPU   GI   CI        PID   Type   Process name                              GPU Memory |\n",
      "|        ID   ID                                                               Usage      |\n",
      "|=========================================================================================|\n",
      "+-----------------------------------------------------------------------------------------+\n"
     ]
    }
   ],
   "source": [
    "# Check your GPU status.\n",
    "!nvidia-smi"
   ]
  },
  {
   "cell_type": "code",
   "execution_count": 132,
   "id": "qXW1ejrArEsI",
   "metadata": {
    "colab": {
     "base_uri": "https://localhost:8080/",
     "height": 1000,
     "referenced_widgets": [
      "ca09d05eab7f4386af467e104d27ea56",
      "aaa4bda99ecb4a7bb854969c7661c156",
      "739c3c7b3b3c4b84a88d66bb2854aa19",
      "ba0b2e832ee744229c56fd58e021926c",
      "8d41528055a3460ba8d9b86a443b8604",
      "73ef91683ccf400ba5ee879710322528",
      "31f0336a45fe4c8e88383429bdc0c87e",
      "8c961777456147148698531f253cf03e",
      "63ddf5a2659449aea90d5106ace51251",
      "ea086b54fe934569887d5c2f167b524e",
      "8651bd5eee314d188fb0dd702d647f2b"
     ]
    },
    "id": "qXW1ejrArEsI",
    "outputId": "b711afc8-7c3e-4147-acb1-97321b7823a6"
   },
   "outputs": [
    {
     "name": "stdout",
     "output_type": "stream",
     "text": [
      "LSTMModel(\n",
      "  (lstm): LSTM(4, 500, num_layers=2, batch_first=True)\n",
      "  (fc): Linear(in_features=500, out_features=1, bias=True)\n",
      ")\n"
     ]
    },
    {
     "data": {
      "application/vnd.jupyter.widget-view+json": {
       "model_id": "ca09d05eab7f4386af467e104d27ea56",
       "version_major": 2,
       "version_minor": 0
      },
      "text/plain": [
       "  0%|          | 0/100 [00:00<?, ?it/s]"
      ]
     },
     "metadata": {},
     "output_type": "display_data"
    },
    {
     "name": "stdout",
     "output_type": "stream",
     "text": [
      "Epoch 1/100, Train loss: 0.0293, Val loss: 0.0461, Best Val loss: 0.0461\n",
      "Epoch 2/100, Train loss: 0.0264, Val loss: 0.0444, Best Val loss: 0.0444\n",
      "Epoch 3/100, Train loss: 0.0250, Val loss: 0.0429, Best Val loss: 0.0429\n",
      "Epoch 4/100, Train loss: 0.0238, Val loss: 0.0415, Best Val loss: 0.0415\n",
      "Epoch 5/100, Train loss: 0.0228, Val loss: 0.0402, Best Val loss: 0.0402\n",
      "Epoch 6/100, Train loss: 0.0220, Val loss: 0.0391, Best Val loss: 0.0391\n",
      "Epoch 7/100, Train loss: 0.0211, Val loss: 0.0381, Best Val loss: 0.0381\n",
      "Epoch 8/100, Train loss: 0.0216, Val loss: 0.0372, Best Val loss: 0.0372\n",
      "Epoch 9/100, Train loss: 0.0198, Val loss: 0.0364, Best Val loss: 0.0364\n",
      "Epoch 10/100, Train loss: 0.0201, Val loss: 0.0357, Best Val loss: 0.0357\n",
      "Epoch 11/100, Train loss: 0.0202, Val loss: 0.0350, Best Val loss: 0.0350\n",
      "Epoch 12/100, Train loss: 0.0199, Val loss: 0.0345, Best Val loss: 0.0345\n",
      "Epoch 13/100, Train loss: 0.0196, Val loss: 0.0339, Best Val loss: 0.0339\n",
      "Epoch 14/100, Train loss: 0.0206, Val loss: 0.0334, Best Val loss: 0.0334\n",
      "Epoch 15/100, Train loss: 0.0188, Val loss: 0.0329, Best Val loss: 0.0329\n",
      "Epoch 16/100, Train loss: 0.0174, Val loss: 0.0325, Best Val loss: 0.0325\n",
      "Epoch 17/100, Train loss: 0.0174, Val loss: 0.0322, Best Val loss: 0.0322\n",
      "Epoch 18/100, Train loss: 0.0184, Val loss: 0.0319, Best Val loss: 0.0319\n",
      "Epoch 19/100, Train loss: 0.0176, Val loss: 0.0316, Best Val loss: 0.0316\n",
      "Epoch 20/100, Train loss: 0.0168, Val loss: 0.0312, Best Val loss: 0.0312\n",
      "Epoch 21/100, Train loss: 0.0179, Val loss: 0.0310, Best Val loss: 0.0310\n",
      "Epoch 22/100, Train loss: 0.0168, Val loss: 0.0307, Best Val loss: 0.0307\n",
      "Epoch 23/100, Train loss: 0.0164, Val loss: 0.0304, Best Val loss: 0.0304\n",
      "Epoch 24/100, Train loss: 0.0173, Val loss: 0.0302, Best Val loss: 0.0302\n",
      "Epoch 25/100, Train loss: 0.0162, Val loss: 0.0299, Best Val loss: 0.0299\n",
      "Epoch 26/100, Train loss: 0.0166, Val loss: 0.0296, Best Val loss: 0.0296\n",
      "Epoch 27/100, Train loss: 0.0159, Val loss: 0.0293, Best Val loss: 0.0293\n",
      "Epoch 28/100, Train loss: 0.0162, Val loss: 0.0290, Best Val loss: 0.0290\n",
      "Epoch 29/100, Train loss: 0.0157, Val loss: 0.0287, Best Val loss: 0.0287\n",
      "Epoch 30/100, Train loss: 0.0154, Val loss: 0.0284, Best Val loss: 0.0284\n",
      "Epoch 31/100, Train loss: 0.0171, Val loss: 0.0281, Best Val loss: 0.0281\n",
      "Epoch 32/100, Train loss: 0.0155, Val loss: 0.0278, Best Val loss: 0.0278\n",
      "Epoch 33/100, Train loss: 0.0151, Val loss: 0.0274, Best Val loss: 0.0274\n",
      "Epoch 34/100, Train loss: 0.0148, Val loss: 0.0271, Best Val loss: 0.0271\n",
      "Epoch 35/100, Train loss: 0.0155, Val loss: 0.0268, Best Val loss: 0.0268\n",
      "Epoch 36/100, Train loss: 0.0158, Val loss: 0.0265, Best Val loss: 0.0265\n",
      "Epoch 37/100, Train loss: 0.0149, Val loss: 0.0260, Best Val loss: 0.0260\n",
      "Epoch 38/100, Train loss: 0.0141, Val loss: 0.0256, Best Val loss: 0.0256\n",
      "Epoch 39/100, Train loss: 0.0139, Val loss: 0.0253, Best Val loss: 0.0253\n",
      "Epoch 40/100, Train loss: 0.0146, Val loss: 0.0249, Best Val loss: 0.0249\n",
      "Epoch 41/100, Train loss: 0.0146, Val loss: 0.0245, Best Val loss: 0.0245\n",
      "Epoch 42/100, Train loss: 0.0143, Val loss: 0.0241, Best Val loss: 0.0241\n",
      "Epoch 43/100, Train loss: 0.0134, Val loss: 0.0236, Best Val loss: 0.0236\n",
      "Epoch 44/100, Train loss: 0.0129, Val loss: 0.0232, Best Val loss: 0.0232\n",
      "Epoch 45/100, Train loss: 0.0130, Val loss: 0.0227, Best Val loss: 0.0227\n",
      "Epoch 46/100, Train loss: 0.0130, Val loss: 0.0223, Best Val loss: 0.0223\n",
      "Epoch 47/100, Train loss: 0.0124, Val loss: 0.0217, Best Val loss: 0.0217\n",
      "Epoch 48/100, Train loss: 0.0126, Val loss: 0.0212, Best Val loss: 0.0212\n",
      "Epoch 49/100, Train loss: 0.0125, Val loss: 0.0207, Best Val loss: 0.0207\n",
      "Epoch 50/100, Train loss: 0.0114, Val loss: 0.0201, Best Val loss: 0.0201\n",
      "Epoch 51/100, Train loss: 0.0117, Val loss: 0.0195, Best Val loss: 0.0195\n",
      "Epoch 52/100, Train loss: 0.0113, Val loss: 0.0189, Best Val loss: 0.0189\n",
      "Epoch 53/100, Train loss: 0.0106, Val loss: 0.0184, Best Val loss: 0.0184\n",
      "Epoch 54/100, Train loss: 0.0108, Val loss: 0.0178, Best Val loss: 0.0178\n",
      "Epoch 55/100, Train loss: 0.0099, Val loss: 0.0171, Best Val loss: 0.0171\n",
      "Epoch 56/100, Train loss: 0.0098, Val loss: 0.0164, Best Val loss: 0.0164\n",
      "Epoch 57/100, Train loss: 0.0099, Val loss: 0.0158, Best Val loss: 0.0158\n",
      "Epoch 58/100, Train loss: 0.0090, Val loss: 0.0151, Best Val loss: 0.0151\n",
      "Epoch 59/100, Train loss: 0.0088, Val loss: 0.0145, Best Val loss: 0.0145\n",
      "Epoch 60/100, Train loss: 0.0087, Val loss: 0.0137, Best Val loss: 0.0137\n",
      "Epoch 61/100, Train loss: 0.0079, Val loss: 0.0130, Best Val loss: 0.0130\n",
      "Epoch 62/100, Train loss: 0.0077, Val loss: 0.0123, Best Val loss: 0.0123\n",
      "Epoch 63/100, Train loss: 0.0080, Val loss: 0.0116, Best Val loss: 0.0116\n",
      "Epoch 64/100, Train loss: 0.0070, Val loss: 0.0108, Best Val loss: 0.0108\n",
      "Epoch 65/100, Train loss: 0.0065, Val loss: 0.0101, Best Val loss: 0.0101\n",
      "Epoch 66/100, Train loss: 0.0063, Val loss: 0.0093, Best Val loss: 0.0093\n",
      "Epoch 67/100, Train loss: 0.0057, Val loss: 0.0087, Best Val loss: 0.0087\n",
      "Epoch 68/100, Train loss: 0.0055, Val loss: 0.0080, Best Val loss: 0.0080\n",
      "Epoch 69/100, Train loss: 0.0053, Val loss: 0.0072, Best Val loss: 0.0072\n",
      "Epoch 70/100, Train loss: 0.0047, Val loss: 0.0066, Best Val loss: 0.0066\n",
      "Epoch 71/100, Train loss: 0.0045, Val loss: 0.0059, Best Val loss: 0.0059\n",
      "Epoch 72/100, Train loss: 0.0041, Val loss: 0.0053, Best Val loss: 0.0053\n",
      "Epoch 73/100, Train loss: 0.0037, Val loss: 0.0047, Best Val loss: 0.0047\n",
      "Epoch 74/100, Train loss: 0.0036, Val loss: 0.0042, Best Val loss: 0.0042\n",
      "Epoch 75/100, Train loss: 0.0032, Val loss: 0.0036, Best Val loss: 0.0036\n",
      "Epoch 76/100, Train loss: 0.0028, Val loss: 0.0031, Best Val loss: 0.0031\n",
      "Epoch 77/100, Train loss: 0.0026, Val loss: 0.0026, Best Val loss: 0.0026\n",
      "Epoch 78/100, Train loss: 0.0024, Val loss: 0.0022, Best Val loss: 0.0022\n",
      "Epoch 79/100, Train loss: 0.0023, Val loss: 0.0019, Best Val loss: 0.0019\n",
      "Epoch 80/100, Train loss: 0.0020, Val loss: 0.0016, Best Val loss: 0.0016\n",
      "Epoch 81/100, Train loss: 0.0018, Val loss: 0.0013, Best Val loss: 0.0013\n",
      "Epoch 82/100, Train loss: 0.0016, Val loss: 0.0011, Best Val loss: 0.0011\n",
      "Epoch 83/100, Train loss: 0.0015, Val loss: 0.0010, Best Val loss: 0.0010\n",
      "Epoch 84/100, Train loss: 0.0013, Val loss: 0.0008, Best Val loss: 0.0008\n",
      "Epoch 85/100, Train loss: 0.0012, Val loss: 0.0008, Best Val loss: 0.0008\n",
      "Epoch 86/100, Train loss: 0.0011, Val loss: 0.0007, Best Val loss: 0.0007\n",
      "Epoch 87/100, Train loss: 0.0010, Val loss: 0.0007, Best Val loss: 0.0007\n",
      "Epoch 88/100, Train loss: 0.0010, Val loss: 0.0006, Best Val loss: 0.0006\n",
      "Epoch 89/100, Train loss: 0.0010, Val loss: 0.0006, Best Val loss: 0.0006\n",
      "Epoch 90/100, Train loss: 0.0009, Val loss: 0.0006, Best Val loss: 0.0006\n",
      "Epoch 91/100, Train loss: 0.0009, Val loss: 0.0006, Best Val loss: 0.0006\n",
      "Epoch 92/100, Train loss: 0.0008, Val loss: 0.0007, Best Val loss: 0.0006\n",
      "Epoch 93/100, Train loss: 0.0008, Val loss: 0.0007, Best Val loss: 0.0006\n",
      "Epoch 94/100, Train loss: 0.0008, Val loss: 0.0007, Best Val loss: 0.0006\n",
      "Epoch 95/100, Train loss: 0.0008, Val loss: 0.0007, Best Val loss: 0.0006\n",
      "Epoch 96/100, Train loss: 0.0007, Val loss: 0.0007, Best Val loss: 0.0006\n",
      "Epoch 97/100, Train loss: 0.0008, Val loss: 0.0007, Best Val loss: 0.0006\n",
      "Epoch 98/100, Train loss: 0.0007, Val loss: 0.0008, Best Val loss: 0.0006\n",
      "Epoch 99/100, Train loss: 0.0008, Val loss: 0.0008, Best Val loss: 0.0006\n",
      "Epoch 100/100, Train loss: 0.0007, Val loss: 0.0008, Best Val loss: 0.0006\n",
      "\n",
      " Train MSE on original price scale : 50.3369\n"
     ]
    }
   ],
   "source": [
    "import torch.optim as optim\n",
    "from torch.optim.lr_scheduler import CosineAnnealingLR\n",
    "from tqdm.auto import tqdm\n",
    "import torch.nn as nn\n",
    "import numpy as np\n",
    "\n",
    "# 儲存 label scaler 的 min / max（手動處理標準化還原）\n",
    "y_min = label_scaler.data_min_[0]\n",
    "y_max = label_scaler.data_max_[0]\n",
    "\n",
    "train_losses = []\n",
    "val_losses = []\n",
    "\n",
    "epochs = 100\n",
    "model = LSTMModel(input_dim=4, hidden_dim=500, num_layers=2, output_dim=1).cuda()\n",
    "print(model)\n",
    "\n",
    "best_val_loss = float('inf')\n",
    "\n",
    "criterion = nn.MSELoss()\n",
    "optimizer = optim.Adam(model.parameters(), lr=5e-6)\n",
    "lr_scheduler = CosineAnnealingLR(optimizer, T_max=epochs, eta_min=1e-6)\n",
    "\n",
    "for epoch in tqdm(range(epochs)):\n",
    "    # Training\n",
    "    model.train()\n",
    "    total_loss = 0.0\n",
    "\n",
    "    for features, labels in train_loader:\n",
    "        features = features.cuda()\n",
    "        labels = labels.cuda()\n",
    "        outputs = model(features).squeeze(-1)\n",
    "        loss = criterion(outputs, labels)\n",
    "        total_loss += loss.item()\n",
    "\n",
    "        optimizer.zero_grad()\n",
    "        loss.backward()\n",
    "        optimizer.step()\n",
    "\n",
    "    lr_scheduler.step()\n",
    "    avg_train_loss = total_loss / len(train_loader)\n",
    "\n",
    "    # Validation\n",
    "    model.eval()\n",
    "    total_val_loss = 0.0\n",
    "\n",
    "    with torch.no_grad():\n",
    "        for features, labels in val_loader:\n",
    "            features = features.cuda()\n",
    "            labels = labels.cuda()\n",
    "            outputs = model(features).squeeze(-1)\n",
    "            loss = criterion(outputs, labels)\n",
    "            total_val_loss += loss.item()\n",
    "\n",
    "    avg_val_loss = total_val_loss / len(val_loader)\n",
    "\n",
    "    # Save best model\n",
    "    if avg_val_loss < best_val_loss:\n",
    "        best_val_loss = avg_val_loss\n",
    "        torch.save(model.state_dict(), 'best_model.pth')\n",
    "\n",
    "    print(f'Epoch {epoch+1}/{epochs}, Train loss: {avg_train_loss:.4f}, Val loss: {avg_val_loss:.4f}, Best Val loss: {best_val_loss:.4f}')\n",
    "    train_losses.append(avg_train_loss)\n",
    "    val_losses.append(avg_val_loss)\n",
    "\n",
    "\n",
    "# 還原用的 inverse function for MinMaxScaler\n",
    "def inverse_minmax(tensor, data_min, data_max):\n",
    "    return tensor * (data_max - data_min) + data_min\n",
    "\n",
    "# 載入最佳模型\n",
    "model.load_state_dict(torch.load('best_model.pth'))\n",
    "model.eval()\n",
    "\n",
    "preds = []\n",
    "trues = []\n",
    "\n",
    "with torch.no_grad():\n",
    "    for features, labels in test_loader:\n",
    "        features = features.cuda()\n",
    "        labels = labels.cuda()\n",
    "\n",
    "        outputs = model(features).squeeze(-1)\n",
    "        preds.append(outputs.cpu())\n",
    "        trues.append(labels.cpu())\n",
    "\n",
    "y_pred_scaled = torch.cat(preds, dim=0)\n",
    "y_true_scaled = torch.cat(trues, dim=0)\n",
    "\n",
    "# 還原為原始價格\n",
    "y_pred_original = inverse_minmax(y_pred_scaled, y_min, y_max)\n",
    "y_true_original = inverse_minmax(y_true_scaled, y_min, y_max)\n",
    "\n",
    "# 計算 MSE（在原始價格尺度下）\n",
    "mse_original = torch.mean((y_true_original - y_pred_original) ** 2).item()\n",
    "print(f'\\n Train MSE on original price scale : {mse_original:.4f}')\n"
   ]
  },
  {
   "cell_type": "code",
   "execution_count": 133,
   "id": "4qKrUeqWrEpw",
   "metadata": {
    "colab": {
     "base_uri": "https://localhost:8080/",
     "height": 465
    },
    "id": "4qKrUeqWrEpw",
    "outputId": "27f8bfd0-8914-4ab9-89c3-597ec1def2d4"
   },
   "outputs": [
    {
     "data": {
      "image/png": "[encoded data removed]",
      "text/plain": [
       "<Figure size 1000x500 with 1 Axes>"
      ]
     },
     "metadata": {},
     "output_type": "display_data"
    }
   ],
   "source": [
    "import matplotlib.pyplot as plt\n",
    "\n",
    "plt.figure(figsize=(10, 5))\n",
    "plt.plot(train_losses)\n",
    "plt.plot(val_losses)\n",
    "plt.xlabel('Epochs')\n",
    "plt.ylabel('Loss')\n",
    "plt.legend(['Train', 'Val'])\n",
    "\n",
    "plt.show()"
   ]
  },
  {
   "cell_type": "code",
   "execution_count": 134,
   "id": "vgLU1CMYpKGY",
   "metadata": {
    "colab": {
     "base_uri": "https://localhost:8080/"
    },
    "id": "vgLU1CMYpKGY",
    "outputId": "877eb775-3e71-40b6-eb47-3c0843f268b0"
   },
   "outputs": [
    {
     "name": "stdout",
     "output_type": "stream",
     "text": [
      "Test MSE on original price scale: 69.0354\n"
     ]
    }
   ],
   "source": [
    "# Step 1: Load the trained model\n",
    "model.load_state_dict(torch.load('best_model.pth'))\n",
    "\n",
    "# Set the model to evaluation mode\n",
    "model.eval()\n",
    "\n",
    "# Initialize variables for testing\n",
    "pred_value = []\n",
    "actual_value = []\n",
    "\n",
    "# Initialize MSE loss function\n",
    "criterion = nn.MSELoss()\n",
    "\n",
    "# Initialize variable to accumulate the MSE loss\n",
    "total_test_loss = 0\n",
    "\n",
    "# 還原 MinMaxScaler 的 min/max（你之前標準化 y 使用的）\n",
    "y_min = label_scaler.data_min_[0]  # label_scaler 是你訓練時使用的 MinMaxScaler\n",
    "y_max = label_scaler.data_max_[0]\n",
    "\n",
    "# 還原標準化的 y 值\n",
    "def inverse_minmax(tensor, data_min, data_max):\n",
    "    return tensor * (data_max - data_min) + data_min\n",
    "\n",
    "with torch.no_grad():\n",
    "    for features, labels in test_loader:\n",
    "        features = features.cuda()\n",
    "        labels = labels.cuda()\n",
    "\n",
    "        # Forward pass: compute predicted values\n",
    "        outputs = model(features).squeeze(-1)\n",
    "\n",
    "        # 還原標準化的預測和真實值\n",
    "        outputs_original = inverse_minmax(outputs, y_min, y_max)\n",
    "        labels_original = inverse_minmax(labels, y_min, y_max)\n",
    "\n",
    "        # Calculate the MSE for this batch on the original price scale\n",
    "        loss = criterion(outputs_original, labels_original)\n",
    "        total_test_loss += loss.item()\n",
    "\n",
    "        # Store predictions and actual values\n",
    "        pred_value.append(outputs_original.cpu())\n",
    "        actual_value.append(labels_original.cpu())\n",
    "\n",
    "# Concatenate all predictions and actual values\n",
    "pred_value = torch.cat(pred_value)\n",
    "actual_value = torch.cat(actual_value)\n",
    "\n",
    "# Calculate the average MSE for the entire test set\n",
    "average_test_loss = total_test_loss / len(test_loader)\n",
    "print(f'Test MSE on original price scale: {average_test_loss:.4f}')\n"
   ]
  },
  {
   "cell_type": "code",
   "execution_count": 135,
   "id": "Wm6W8r6tpKDc",
   "metadata": {
    "colab": {
     "base_uri": "https://localhost:8080/",
     "height": 465
    },
    "id": "Wm6W8r6tpKDc",
    "outputId": "5b51ff44-ab05-495b-8b74-387e95fafb26"
   },
   "outputs": [
    {
     "data": {
      "image/png": "[encoded data removed]",
      "text/plain": [
       "<Figure size 1000x500 with 1 Axes>"
      ]
     },
     "metadata": {},
     "output_type": "display_data"
    }
   ],
   "source": [
    "plt.figure(figsize=(10, 5))\n",
    "plt.plot(pred_value[:])\n",
    "plt.plot(actual_value[:])\n",
    "plt.xlabel('Day')\n",
    "plt.ylabel('Price')\n",
    "plt.legend(['Pred', 'Actual'])\n",
    "\n",
    "plt.show()"
   ]
  },
  {
   "cell_type": "markdown",
   "id": "tvAwfe68r7Px",
   "metadata": {
    "id": "tvAwfe68r7Px"
   },
   "source": [
    "# **Selected Features: Close,Volume**"
   ]
  },
  {
   "cell_type": "code",
   "execution_count": 136,
   "id": "LU0xnF04rUJS",
   "metadata": {
    "id": "LU0xnF04rUJS"
   },
   "outputs": [],
   "source": [
    "import numpy as np\n",
    "import torch\n",
    "\n",
    "seed = 42\n",
    "\n",
    "# 固定 NumPy 的隨機種子\n",
    "np.random.seed(seed)\n",
    "\n",
    "# 固定 PyTorch 的隨機種子\n",
    "torch.manual_seed(seed)  # 設定 CPU 隨機種子\n",
    "torch.cuda.manual_seed(seed)  # 設定單張 GPU 隨機種子\n",
    "torch.cuda.manual_seed_all(seed)  # 設定所有 GPU 隨機種子（如果有多張）\n",
    "\n",
    "# 讓 CuDNN 的計算保持確定性\n",
    "torch.backends.cudnn.deterministic = True\n",
    "torch.backends.cudnn.benchmark = False\n"
   ]
  },
  {
   "cell_type": "code",
   "execution_count": 137,
   "id": "JdnDFX2TrUEZ",
   "metadata": {
    "id": "JdnDFX2TrUEZ"
   },
   "outputs": [],
   "source": [
    "def create_sequences(input_data, output_data, window_size, step):\n",
    "    sequences = []\n",
    "    labels = []\n",
    "    for i in range(0, len(input_data) - window_size, step):\n",
    "        sequences.append(input_data[i:(i + window_size)])\n",
    "        labels.append(output_data[i + window_size])\n",
    "    return np.array(sequences), np.array(labels)"
   ]
  },
  {
   "cell_type": "code",
   "execution_count": 138,
   "id": "94b5rz7brUBJ",
   "metadata": {
    "colab": {
     "base_uri": "https://localhost:8080/"
    },
    "id": "94b5rz7brUBJ",
    "outputId": "8da24304-bcef-4b78-a246-753985aa99d7"
   },
   "outputs": [
    {
     "name": "stdout",
     "output_type": "stream",
     "text": [
      "Shape of data X: (471, 30, 2)\n",
      "Shape of data y: (471,)\n",
      "Shape of data x_train: (339, 30, 2)\n",
      "Shape of data y_train: (339,)\n",
      "Shape of data x_val: (85, 30, 2)\n",
      "Shape of data y_val: (85,)\n",
      "Shape of data x_test: (47, 30, 2)\n",
      "Shape of data y_test: (47,)\n",
      "Number of samples in training and validation are 339 and 85.\n"
     ]
    }
   ],
   "source": [
    "import numpy as np\n",
    "import torch\n",
    "from torch.utils.data import DataLoader, TensorDataset\n",
    "import matplotlib.pyplot as plt\n",
    "from sklearn.preprocessing import MinMaxScaler\n",
    "\n",
    "# Step 1: Select features + log transform Volume\n",
    "features = df[['Close', 'Volume']].copy()\n",
    "features['Volume'] = np.log(features['Volume'] + 1)  # log transform Volume\n",
    "labels = df['High'].shift(-1)  # Next day's high price\n",
    "\n",
    "# Step 2: Normalize features\n",
    "feature_scaler = MinMaxScaler()\n",
    "features_scaled = feature_scaler.fit_transform(features)\n",
    "\n",
    "# Step 3: Create sequences\n",
    "X, y = create_sequences(features_scaled, labels.values, window_size=30, step=10)\n",
    "\n",
    "print(f'Shape of data X: {X.shape}')\n",
    "print(f'Shape of data y: {y.shape}')\n",
    "\n",
    "# Step 4: Remove NaN samples (shift會有nan)\n",
    "valid_idx = ~np.isnan(y)\n",
    "X = X[valid_idx]\n",
    "y = y[valid_idx]\n",
    "\n",
    "# Step 5: Normalize labels (y) separately\n",
    "label_scaler = MinMaxScaler()\n",
    "y = label_scaler.fit_transform(y.reshape(-1, 1)).squeeze()\n",
    "\n",
    "# Step 6: Split hold-out test set\n",
    "ind = np.linspace(0, len(X)-1, num=int(len(X)*0.1), dtype=int)  # 10% hold-out\n",
    "x_test = X[ind]\n",
    "y_test = y[ind]\n",
    "all_ind = np.arange(len(X))\n",
    "remains_ind = np.delete(all_ind, ind)\n",
    "\n",
    "X = X[remains_ind]\n",
    "y = y[remains_ind]\n",
    "\n",
    "# Step 7: Shuffle\n",
    "ind = np.random.permutation(len(X))\n",
    "X = X[ind]\n",
    "y = y[ind]\n",
    "\n",
    "# Step 8: Train/Val split\n",
    "split_point = int(X.shape[0]*0.8)\n",
    "x_train = X[:split_point]\n",
    "y_train = y[:split_point]\n",
    "x_val = X[split_point:]\n",
    "y_val = y[split_point:]\n",
    "\n",
    "print(f'Shape of data x_train: {x_train.shape}')\n",
    "print(f'Shape of data y_train: {y_train.shape}')\n",
    "print(f'Shape of data x_val: {x_val.shape}')\n",
    "print(f'Shape of data y_val: {y_val.shape}')\n",
    "print(f'Shape of data x_test: {x_test.shape}')\n",
    "print(f'Shape of data y_test: {y_test.shape}')\n",
    "\n",
    "# Step 9: Convert to PyTorch tensors\n",
    "x_train = torch.from_numpy(x_train).float()\n",
    "y_train = torch.from_numpy(y_train).float()\n",
    "x_val = torch.from_numpy(x_val).float()\n",
    "y_val = torch.from_numpy(y_val).float()\n",
    "x_test = torch.from_numpy(x_test).float()\n",
    "y_test = torch.from_numpy(y_test).float()\n",
    "\n",
    "# Step 10: Create datasets and dataloaders\n",
    "batch_size = 32\n",
    "train_dataset = TensorDataset(x_train, y_train)\n",
    "val_dataset = TensorDataset(x_val, y_val)\n",
    "test_dataset = TensorDataset(x_test, y_test)\n",
    "\n",
    "train_loader = DataLoader(train_dataset, batch_size=batch_size, shuffle=True)\n",
    "val_loader = DataLoader(val_dataset, batch_size=batch_size, shuffle=False)\n",
    "test_loader = DataLoader(test_dataset, batch_size=batch_size, shuffle=False)\n",
    "\n",
    "print(f'Number of samples in training and validation are {len(train_loader.dataset)} and {len(val_loader.dataset)}.')\n"
   ]
  },
  {
   "cell_type": "code",
   "execution_count": 139,
   "id": "UJOOetgEsokj",
   "metadata": {
    "id": "UJOOetgEsokj"
   },
   "outputs": [],
   "source": [
    "import torch.nn as nn\n",
    "\n",
    "class LSTMModel(nn.Module):\n",
    "    def __init__(self, input_dim, hidden_dim, num_layers, output_dim):\n",
    "        super().__init__()\n",
    "        self.hidden_dim = hidden_dim\n",
    "        self.num_layers = num_layers\n",
    "        self.lstm = nn.LSTM(input_dim, hidden_dim, num_layers, batch_first=True)\n",
    "        self.fc = nn.Linear(hidden_dim, output_dim)\n",
    "\n",
    "    def forward(self, x):\n",
    "        out, _ = self.lstm(x)\n",
    "        out = self.fc(out[:, -1, :])\n",
    "        return out"
   ]
  },
  {
   "cell_type": "code",
   "execution_count": 140,
   "id": "8LFaFO_ssohg",
   "metadata": {
    "colab": {
     "base_uri": "https://localhost:8080/"
    },
    "id": "8LFaFO_ssohg",
    "outputId": "678791c6-0987-4be4-ae10-f63e58d7ccad"
   },
   "outputs": [
    {
     "name": "stdout",
     "output_type": "stream",
     "text": [
      "Wed Apr 30 12:51:27 2025       \n",
      "+-----------------------------------------------------------------------------------------+\n",
      "| NVIDIA-SMI 550.54.15              Driver Version: 550.54.15      CUDA Version: 12.4     |\n",
      "|-----------------------------------------+------------------------+----------------------+\n",
      "| GPU  Name                 Persistence-M | Bus-Id          Disp.A | Volatile Uncorr. ECC |\n",
      "| Fan  Temp   Perf          Pwr:Usage/Cap |           Memory-Usage | GPU-Util  Compute M. |\n",
      "|                                         |                        |               MIG M. |\n",
      "|=========================================+========================+======================|\n",
      "|   0  Tesla T4                       Off |   00000000:00:04.0 Off |                    0 |\n",
      "| N/A   72C    P0             40W /   70W |     344MiB /  15360MiB |      3%      Default |\n",
      "|                                         |                        |                  N/A |\n",
      "+-----------------------------------------+------------------------+----------------------+\n",
      "                                                                                         \n",
      "+-----------------------------------------------------------------------------------------+\n",
      "| Processes:                                                                              |\n",
      "|  GPU   GI   CI        PID   Type   Process name                              GPU Memory |\n",
      "|        ID   ID                                                               Usage      |\n",
      "|=========================================================================================|\n",
      "+-----------------------------------------------------------------------------------------+\n"
     ]
    }
   ],
   "source": [
    "# Check your GPU status.\n",
    "!nvidia-smi"
   ]
  },
  {
   "cell_type": "code",
   "execution_count": 141,
   "id": "4tI4nOaIsofY",
   "metadata": {
    "colab": {
     "base_uri": "https://localhost:8080/",
     "height": 1000,
     "referenced_widgets": [
      "ef9894dc74404681bacda388a3ca50cd",
      "9f1e13a8bfd74088ba4b0cfa43bc2694",
      "45ebf75a7af748c6a070da44405adbc2",
      "aa7b0f0012d14d7ebca8997c68c53113",
      "dc2d067797734531afae2015312a3fa6",
      "0aeafc76b0b24393a27614ede598278b",
      "4cd0d8fd7eaf417391f7a441490184da",
      "845a35ff1c4942a29b86361c7c52ce32",
      "0cab857c1ff949bb9a7e2cbbf943f276",
      "cbb67e0c69f948a198bc098adc212746",
      "21f5bf3aa93b414e8f36c7574cfdca19"
     ]
    },
    "id": "4tI4nOaIsofY",
    "outputId": "cde73c40-53d4-485e-9d9c-fa5540ce9601"
   },
   "outputs": [
    {
     "name": "stdout",
     "output_type": "stream",
     "text": [
      "LSTMModel(\n",
      "  (lstm): LSTM(2, 500, num_layers=2, batch_first=True)\n",
      "  (fc): Linear(in_features=500, out_features=1, bias=True)\n",
      ")\n"
     ]
    },
    {
     "data": {
      "application/vnd.jupyter.widget-view+json": {
       "model_id": "ef9894dc74404681bacda388a3ca50cd",
       "version_major": 2,
       "version_minor": 0
      },
      "text/plain": [
       "  0%|          | 0/100 [00:00<?, ?it/s]"
      ]
     },
     "metadata": {},
     "output_type": "display_data"
    },
    {
     "name": "stdout",
     "output_type": "stream",
     "text": [
      "Epoch 1/100, Train loss: 0.0231, Val loss: 0.0399, Best Val loss: 0.0399\n",
      "Epoch 2/100, Train loss: 0.0229, Val loss: 0.0387, Best Val loss: 0.0387\n",
      "Epoch 3/100, Train loss: 0.0222, Val loss: 0.0377, Best Val loss: 0.0377\n",
      "Epoch 4/100, Train loss: 0.0203, Val loss: 0.0368, Best Val loss: 0.0368\n",
      "Epoch 5/100, Train loss: 0.0196, Val loss: 0.0360, Best Val loss: 0.0360\n",
      "Epoch 6/100, Train loss: 0.0191, Val loss: 0.0354, Best Val loss: 0.0354\n",
      "Epoch 7/100, Train loss: 0.0192, Val loss: 0.0349, Best Val loss: 0.0349\n",
      "Epoch 8/100, Train loss: 0.0184, Val loss: 0.0344, Best Val loss: 0.0344\n",
      "Epoch 9/100, Train loss: 0.0187, Val loss: 0.0340, Best Val loss: 0.0340\n",
      "Epoch 10/100, Train loss: 0.0186, Val loss: 0.0336, Best Val loss: 0.0336\n",
      "Epoch 11/100, Train loss: 0.0184, Val loss: 0.0334, Best Val loss: 0.0334\n",
      "Epoch 12/100, Train loss: 0.0178, Val loss: 0.0331, Best Val loss: 0.0331\n",
      "Epoch 13/100, Train loss: 0.0182, Val loss: 0.0329, Best Val loss: 0.0329\n",
      "Epoch 14/100, Train loss: 0.0176, Val loss: 0.0327, Best Val loss: 0.0327\n",
      "Epoch 15/100, Train loss: 0.0182, Val loss: 0.0326, Best Val loss: 0.0326\n",
      "Epoch 16/100, Train loss: 0.0176, Val loss: 0.0324, Best Val loss: 0.0324\n",
      "Epoch 17/100, Train loss: 0.0175, Val loss: 0.0323, Best Val loss: 0.0323\n",
      "Epoch 18/100, Train loss: 0.0173, Val loss: 0.0321, Best Val loss: 0.0321\n",
      "Epoch 19/100, Train loss: 0.0188, Val loss: 0.0320, Best Val loss: 0.0320\n",
      "Epoch 20/100, Train loss: 0.0174, Val loss: 0.0319, Best Val loss: 0.0319\n",
      "Epoch 21/100, Train loss: 0.0193, Val loss: 0.0318, Best Val loss: 0.0318\n",
      "Epoch 22/100, Train loss: 0.0174, Val loss: 0.0316, Best Val loss: 0.0316\n",
      "Epoch 23/100, Train loss: 0.0181, Val loss: 0.0315, Best Val loss: 0.0315\n",
      "Epoch 24/100, Train loss: 0.0177, Val loss: 0.0314, Best Val loss: 0.0314\n",
      "Epoch 25/100, Train loss: 0.0173, Val loss: 0.0313, Best Val loss: 0.0313\n",
      "Epoch 26/100, Train loss: 0.0174, Val loss: 0.0312, Best Val loss: 0.0312\n",
      "Epoch 27/100, Train loss: 0.0168, Val loss: 0.0310, Best Val loss: 0.0310\n",
      "Epoch 28/100, Train loss: 0.0175, Val loss: 0.0309, Best Val loss: 0.0309\n",
      "Epoch 29/100, Train loss: 0.0166, Val loss: 0.0308, Best Val loss: 0.0308\n",
      "Epoch 30/100, Train loss: 0.0165, Val loss: 0.0307, Best Val loss: 0.0307\n",
      "Epoch 31/100, Train loss: 0.0168, Val loss: 0.0306, Best Val loss: 0.0306\n",
      "Epoch 32/100, Train loss: 0.0174, Val loss: 0.0304, Best Val loss: 0.0304\n",
      "Epoch 33/100, Train loss: 0.0166, Val loss: 0.0303, Best Val loss: 0.0303\n",
      "Epoch 34/100, Train loss: 0.0163, Val loss: 0.0301, Best Val loss: 0.0301\n",
      "Epoch 35/100, Train loss: 0.0162, Val loss: 0.0299, Best Val loss: 0.0299\n",
      "Epoch 36/100, Train loss: 0.0179, Val loss: 0.0299, Best Val loss: 0.0299\n",
      "Epoch 37/100, Train loss: 0.0164, Val loss: 0.0297, Best Val loss: 0.0297\n",
      "Epoch 38/100, Train loss: 0.0163, Val loss: 0.0295, Best Val loss: 0.0295\n",
      "Epoch 39/100, Train loss: 0.0166, Val loss: 0.0293, Best Val loss: 0.0293\n",
      "Epoch 40/100, Train loss: 0.0158, Val loss: 0.0292, Best Val loss: 0.0292\n",
      "Epoch 41/100, Train loss: 0.0163, Val loss: 0.0290, Best Val loss: 0.0290\n",
      "Epoch 42/100, Train loss: 0.0156, Val loss: 0.0288, Best Val loss: 0.0288\n",
      "Epoch 43/100, Train loss: 0.0164, Val loss: 0.0286, Best Val loss: 0.0286\n",
      "Epoch 44/100, Train loss: 0.0164, Val loss: 0.0284, Best Val loss: 0.0284\n",
      "Epoch 45/100, Train loss: 0.0157, Val loss: 0.0283, Best Val loss: 0.0283\n",
      "Epoch 46/100, Train loss: 0.0152, Val loss: 0.0280, Best Val loss: 0.0280\n",
      "Epoch 47/100, Train loss: 0.0161, Val loss: 0.0278, Best Val loss: 0.0278\n",
      "Epoch 48/100, Train loss: 0.0159, Val loss: 0.0276, Best Val loss: 0.0276\n",
      "Epoch 49/100, Train loss: 0.0160, Val loss: 0.0273, Best Val loss: 0.0273\n",
      "Epoch 50/100, Train loss: 0.0153, Val loss: 0.0271, Best Val loss: 0.0271\n",
      "Epoch 51/100, Train loss: 0.0149, Val loss: 0.0268, Best Val loss: 0.0268\n",
      "Epoch 52/100, Train loss: 0.0145, Val loss: 0.0265, Best Val loss: 0.0265\n",
      "Epoch 53/100, Train loss: 0.0144, Val loss: 0.0263, Best Val loss: 0.0263\n",
      "Epoch 54/100, Train loss: 0.0145, Val loss: 0.0261, Best Val loss: 0.0261\n",
      "Epoch 55/100, Train loss: 0.0146, Val loss: 0.0258, Best Val loss: 0.0258\n",
      "Epoch 56/100, Train loss: 0.0140, Val loss: 0.0255, Best Val loss: 0.0255\n",
      "Epoch 57/100, Train loss: 0.0139, Val loss: 0.0252, Best Val loss: 0.0252\n",
      "Epoch 58/100, Train loss: 0.0145, Val loss: 0.0249, Best Val loss: 0.0249\n",
      "Epoch 59/100, Train loss: 0.0144, Val loss: 0.0246, Best Val loss: 0.0246\n",
      "Epoch 60/100, Train loss: 0.0133, Val loss: 0.0242, Best Val loss: 0.0242\n",
      "Epoch 61/100, Train loss: 0.0131, Val loss: 0.0238, Best Val loss: 0.0238\n",
      "Epoch 62/100, Train loss: 0.0132, Val loss: 0.0234, Best Val loss: 0.0234\n",
      "Epoch 63/100, Train loss: 0.0136, Val loss: 0.0230, Best Val loss: 0.0230\n",
      "Epoch 64/100, Train loss: 0.0126, Val loss: 0.0226, Best Val loss: 0.0226\n",
      "Epoch 65/100, Train loss: 0.0125, Val loss: 0.0222, Best Val loss: 0.0222\n",
      "Epoch 66/100, Train loss: 0.0121, Val loss: 0.0217, Best Val loss: 0.0217\n",
      "Epoch 67/100, Train loss: 0.0125, Val loss: 0.0213, Best Val loss: 0.0213\n",
      "Epoch 68/100, Train loss: 0.0119, Val loss: 0.0208, Best Val loss: 0.0208\n",
      "Epoch 69/100, Train loss: 0.0114, Val loss: 0.0202, Best Val loss: 0.0202\n",
      "Epoch 70/100, Train loss: 0.0111, Val loss: 0.0198, Best Val loss: 0.0198\n",
      "Epoch 71/100, Train loss: 0.0109, Val loss: 0.0192, Best Val loss: 0.0192\n",
      "Epoch 72/100, Train loss: 0.0106, Val loss: 0.0186, Best Val loss: 0.0186\n",
      "Epoch 73/100, Train loss: 0.0116, Val loss: 0.0181, Best Val loss: 0.0181\n",
      "Epoch 74/100, Train loss: 0.0100, Val loss: 0.0173, Best Val loss: 0.0173\n",
      "Epoch 75/100, Train loss: 0.0096, Val loss: 0.0167, Best Val loss: 0.0167\n",
      "Epoch 76/100, Train loss: 0.0094, Val loss: 0.0159, Best Val loss: 0.0159\n",
      "Epoch 77/100, Train loss: 0.0092, Val loss: 0.0153, Best Val loss: 0.0153\n",
      "Epoch 78/100, Train loss: 0.0087, Val loss: 0.0144, Best Val loss: 0.0144\n",
      "Epoch 79/100, Train loss: 0.0085, Val loss: 0.0137, Best Val loss: 0.0137\n",
      "Epoch 80/100, Train loss: 0.0080, Val loss: 0.0129, Best Val loss: 0.0129\n",
      "Epoch 81/100, Train loss: 0.0075, Val loss: 0.0120, Best Val loss: 0.0120\n",
      "Epoch 82/100, Train loss: 0.0072, Val loss: 0.0111, Best Val loss: 0.0111\n",
      "Epoch 83/100, Train loss: 0.0065, Val loss: 0.0102, Best Val loss: 0.0102\n",
      "Epoch 84/100, Train loss: 0.0062, Val loss: 0.0091, Best Val loss: 0.0091\n",
      "Epoch 85/100, Train loss: 0.0058, Val loss: 0.0081, Best Val loss: 0.0081\n",
      "Epoch 86/100, Train loss: 0.0050, Val loss: 0.0070, Best Val loss: 0.0070\n",
      "Epoch 87/100, Train loss: 0.0045, Val loss: 0.0060, Best Val loss: 0.0060\n",
      "Epoch 88/100, Train loss: 0.0040, Val loss: 0.0051, Best Val loss: 0.0051\n",
      "Epoch 89/100, Train loss: 0.0034, Val loss: 0.0041, Best Val loss: 0.0041\n",
      "Epoch 90/100, Train loss: 0.0031, Val loss: 0.0032, Best Val loss: 0.0032\n",
      "Epoch 91/100, Train loss: 0.0026, Val loss: 0.0023, Best Val loss: 0.0023\n",
      "Epoch 92/100, Train loss: 0.0020, Val loss: 0.0017, Best Val loss: 0.0017\n",
      "Epoch 93/100, Train loss: 0.0017, Val loss: 0.0012, Best Val loss: 0.0012\n",
      "Epoch 94/100, Train loss: 0.0014, Val loss: 0.0008, Best Val loss: 0.0008\n",
      "Epoch 95/100, Train loss: 0.0011, Val loss: 0.0006, Best Val loss: 0.0006\n",
      "Epoch 96/100, Train loss: 0.0009, Val loss: 0.0006, Best Val loss: 0.0006\n",
      "Epoch 97/100, Train loss: 0.0008, Val loss: 0.0006, Best Val loss: 0.0006\n",
      "Epoch 98/100, Train loss: 0.0008, Val loss: 0.0006, Best Val loss: 0.0006\n",
      "Epoch 99/100, Train loss: 0.0007, Val loss: 0.0007, Best Val loss: 0.0006\n",
      "Epoch 100/100, Train loss: 0.0007, Val loss: 0.0007, Best Val loss: 0.0006\n",
      "\n",
      " Train MSE on original price scale : 50.5837\n"
     ]
    }
   ],
   "source": [
    "import torch.optim as optim\n",
    "from torch.optim.lr_scheduler import CosineAnnealingLR\n",
    "from tqdm.auto import tqdm\n",
    "import torch.nn as nn\n",
    "import numpy as np\n",
    "\n",
    "# 儲存 label scaler 的 min / max（手動處理標準化還原）\n",
    "y_min = label_scaler.data_min_[0]\n",
    "y_max = label_scaler.data_max_[0]\n",
    "\n",
    "train_losses = []\n",
    "val_losses = []\n",
    "\n",
    "epochs = 100\n",
    "model = LSTMModel(input_dim=2, hidden_dim=500, num_layers=2, output_dim=1).cuda()\n",
    "print(model)\n",
    "\n",
    "best_val_loss = float('inf')\n",
    "\n",
    "criterion = nn.MSELoss()\n",
    "optimizer = optim.Adam(model.parameters(), lr=4.8e-6)\n",
    "lr_scheduler = CosineAnnealingLR(optimizer, T_max=epochs, eta_min=2e-6)\n",
    "\n",
    "for epoch in tqdm(range(epochs)):\n",
    "    # Training\n",
    "    model.train()\n",
    "    total_loss = 0.0\n",
    "\n",
    "    for features, labels in train_loader:\n",
    "        features = features.cuda()\n",
    "        labels = labels.cuda()\n",
    "        outputs = model(features).squeeze(-1)\n",
    "        loss = criterion(outputs, labels)\n",
    "        total_loss += loss.item()\n",
    "\n",
    "        optimizer.zero_grad()\n",
    "        loss.backward()\n",
    "        optimizer.step()\n",
    "\n",
    "    lr_scheduler.step()\n",
    "    avg_train_loss = total_loss / len(train_loader)\n",
    "\n",
    "    # Validation\n",
    "    model.eval()\n",
    "    total_val_loss = 0.0\n",
    "\n",
    "    with torch.no_grad():\n",
    "        for features, labels in val_loader:\n",
    "            features = features.cuda()\n",
    "            labels = labels.cuda()\n",
    "            outputs = model(features).squeeze(-1)\n",
    "            loss = criterion(outputs, labels)\n",
    "            total_val_loss += loss.item()\n",
    "\n",
    "    avg_val_loss = total_val_loss / len(val_loader)\n",
    "\n",
    "    # Save best model\n",
    "    if avg_val_loss < best_val_loss:\n",
    "        best_val_loss = avg_val_loss\n",
    "        torch.save(model.state_dict(), 'best_model.pth')\n",
    "\n",
    "    print(f'Epoch {epoch+1}/{epochs}, Train loss: {avg_train_loss:.4f}, Val loss: {avg_val_loss:.4f}, Best Val loss: {best_val_loss:.4f}')\n",
    "    train_losses.append(avg_train_loss)\n",
    "    val_losses.append(avg_val_loss)\n",
    "\n",
    "\n",
    "# 還原用的 inverse function for MinMaxScaler\n",
    "def inverse_minmax(tensor, data_min, data_max):\n",
    "    return tensor * (data_max - data_min) + data_min\n",
    "\n",
    "# 載入最佳模型\n",
    "model.load_state_dict(torch.load('best_model.pth'))\n",
    "model.eval()\n",
    "\n",
    "preds = []\n",
    "trues = []\n",
    "\n",
    "with torch.no_grad():\n",
    "    for features, labels in test_loader:\n",
    "        features = features.cuda()\n",
    "        labels = labels.cuda()\n",
    "\n",
    "        outputs = model(features).squeeze(-1)\n",
    "        preds.append(outputs.cpu())\n",
    "        trues.append(labels.cpu())\n",
    "\n",
    "y_pred_scaled = torch.cat(preds, dim=0)\n",
    "y_true_scaled = torch.cat(trues, dim=0)\n",
    "\n",
    "# 還原為原始價格\n",
    "y_pred_original = inverse_minmax(y_pred_scaled, y_min, y_max)\n",
    "y_true_original = inverse_minmax(y_true_scaled, y_min, y_max)\n",
    "\n",
    "# 計算 MSE（在原始價格尺度下）\n",
    "mse_original = torch.mean((y_true_original - y_pred_original) ** 2).item()\n",
    "print(f'\\n Train MSE on original price scale : {mse_original:.4f}')\n"
   ]
  },
  {
   "cell_type": "code",
   "execution_count": 142,
   "id": "k9k5Qyn0sodn",
   "metadata": {
    "colab": {
     "base_uri": "https://localhost:8080/",
     "height": 465
    },
    "id": "k9k5Qyn0sodn",
    "outputId": "05c9b52a-215a-4d7b-8d01-a617353f34f3"
   },
   "outputs": [
    {
     "data": {
      "image/png": "[encoded data removed]",
      "text/plain": [
       "<Figure size 1000x500 with 1 Axes>"
      ]
     },
     "metadata": {},
     "output_type": "display_data"
    }
   ],
   "source": [
    "import matplotlib.pyplot as plt\n",
    "\n",
    "plt.figure(figsize=(10, 5))\n",
    "plt.plot(train_losses)\n",
    "plt.plot(val_losses)\n",
    "plt.xlabel('Epochs')\n",
    "plt.ylabel('Loss')\n",
    "plt.legend(['Train', 'Val'])\n",
    "\n",
    "plt.show()"
   ]
  },
  {
   "cell_type": "code",
   "execution_count": 143,
   "id": "DxyjTtYusoa0",
   "metadata": {
    "colab": {
     "base_uri": "https://localhost:8080/"
    },
    "id": "DxyjTtYusoa0",
    "outputId": "42604eca-cd20-4dab-9328-a08fd5c57ac3"
   },
   "outputs": [
    {
     "name": "stdout",
     "output_type": "stream",
     "text": [
      "Test MSE on original price scale: 72.7786\n"
     ]
    }
   ],
   "source": [
    "# Step 1: Load the trained model\n",
    "model.load_state_dict(torch.load('best_model.pth'))\n",
    "\n",
    "# Set the model to evaluation mode\n",
    "model.eval()\n",
    "\n",
    "# Initialize variables for testing\n",
    "pred_value = []\n",
    "actual_value = []\n",
    "\n",
    "# Initialize MSE loss function\n",
    "criterion = nn.MSELoss()\n",
    "\n",
    "# Initialize variable to accumulate the MSE loss\n",
    "total_test_loss = 0\n",
    "\n",
    "# 還原 MinMaxScaler 的 min/max（你之前標準化 y 使用的）\n",
    "y_min = label_scaler.data_min_[0]  # label_scaler 是你訓練時使用的 MinMaxScaler\n",
    "y_max = label_scaler.data_max_[0]\n",
    "\n",
    "# 還原標準化的 y 值\n",
    "def inverse_minmax(tensor, data_min, data_max):\n",
    "    return tensor * (data_max - data_min) + data_min\n",
    "\n",
    "with torch.no_grad():\n",
    "    for features, labels in test_loader:\n",
    "        features = features.cuda()\n",
    "        labels = labels.cuda()\n",
    "\n",
    "        # Forward pass: compute predicted values\n",
    "        outputs = model(features).squeeze(-1)\n",
    "\n",
    "        # 還原標準化的預測和真實值\n",
    "        outputs_original = inverse_minmax(outputs, y_min, y_max)\n",
    "        labels_original = inverse_minmax(labels, y_min, y_max)\n",
    "\n",
    "        # Calculate the MSE for this batch on the original price scale\n",
    "        loss = criterion(outputs_original, labels_original)\n",
    "        total_test_loss += loss.item()\n",
    "\n",
    "        # Store predictions and actual values\n",
    "        pred_value.append(outputs_original.cpu())\n",
    "        actual_value.append(labels_original.cpu())\n",
    "\n",
    "# Concatenate all predictions and actual values\n",
    "pred_value = torch.cat(pred_value)\n",
    "actual_value = torch.cat(actual_value)\n",
    "\n",
    "# Calculate the average MSE for the entire test set\n",
    "average_test_loss = total_test_loss / len(test_loader)\n",
    "print(f'Test MSE on original price scale: {average_test_loss:.4f}')\n"
   ]
  },
  {
   "cell_type": "code",
   "execution_count": 144,
   "id": "4BtX0Uj_soV_",
   "metadata": {
    "colab": {
     "base_uri": "https://localhost:8080/",
     "height": 465
    },
    "id": "4BtX0Uj_soV_",
    "outputId": "c51e2594-88d9-4ab6-8720-b25ca20182de"
   },
   "outputs": [
    {
     "data": {
      "image/png": "[encoded data removed]",
      "text/plain": [
       "<Figure size 1000x500 with 1 Axes>"
      ]
     },
     "metadata": {},
     "output_type": "display_data"
    }
   ],
   "source": [
    "plt.figure(figsize=(10, 5))\n",
    "plt.plot(pred_value[:])\n",
    "plt.plot(actual_value[:])\n",
    "plt.xlabel('Day')\n",
    "plt.ylabel('Price')\n",
    "plt.legend(['Pred', 'Actual'])\n",
    "\n",
    "plt.show()"
   ]
  },
  {
   "cell_type": "code",
   "execution_count": 144,
   "id": "PITfvM0KsoSn",
   "metadata": {
    "id": "PITfvM0KsoSn"
   },
   "outputs": [],
   "source": []
  }
 ],
 "metadata": {
  "accelerator": "GPU",
  "colab": {
   "gpuType": "T4",
   "provenance": []
  },
  "kernelspec": {
   "display_name": "Python 3",
   "name": "python3"
  },
  "language_info": {
   "codemirror_mode": {
    "name": "ipython",
    "version": 3
   },
   "file_extension": ".py",
   "mimetype": "text/x-python",
   "name": "python",
   "nbconvert_exporter": "python",
   "pygments_lexer": "ipython3",
   "version": "3.8.13"
  }
 },
 "nbformat": 4,
 "nbformat_minor": 5
}
